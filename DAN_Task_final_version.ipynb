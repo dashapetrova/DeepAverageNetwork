{
  "cells": [
    {
      "cell_type": "code",
      "execution_count": null,
      "metadata": {
        "colab": {
          "base_uri": "https://localhost:8080/"
        },
        "id": "E0AM1zX7U5IH",
        "outputId": "60f170b1-2311-4e56-da9e-9892abc4426b"
      },
      "outputs": [
        {
          "output_type": "stream",
          "name": "stdout",
          "text": [
            "Mounted at /content/gdrive\n"
          ]
        }
      ],
      "source": [
        "from google.colab import drive\n",
        "drive.mount('/content/gdrive') #, force_remount=True"
      ],
      "id": "E0AM1zX7U5IH"
    },
    {
      "cell_type": "code",
      "execution_count": null,
      "metadata": {
        "id": "Z5dXm4nZU7Kn"
      },
      "outputs": [],
      "source": [
        "import os\n",
        "os.chdir('gdrive/My Drive/Colab Notebooks/ml_2/DAN')"
      ],
      "id": "Z5dXm4nZU7Kn"
    },
    {
      "cell_type": "code",
      "source": [
        "!pip install datasets"
      ],
      "metadata": {
        "id": "HUAQjvDu1GXD"
      },
      "id": "HUAQjvDu1GXD",
      "execution_count": null,
      "outputs": []
    },
    {
      "cell_type": "code",
      "execution_count": null,
      "metadata": {
        "id": "7f9c64fb"
      },
      "outputs": [],
      "source": [
        "from typing import Dict, List\n",
        "\n",
        "import matplotlib.pyplot as plt\n",
        "import numpy as np\n",
        "import pandas as pd\n",
        "import seaborn as sns\n",
        "import torch\n",
        "\n",
        "from datasets import load_dataset\n",
        "from nltk.tokenize import ToktokTokenizer\n",
        "from sklearn.metrics import f1_score\n",
        "from sklearn.metrics import confusion_matrix, classification_report\n",
        "from torch import nn\n",
        "from torch.utils.data import DataLoader\n",
        "from tqdm import tqdm"
      ],
      "id": "7f9c64fb"
    },
    {
      "cell_type": "markdown",
      "metadata": {
        "id": "102d7074"
      },
      "source": [
        "# Deep Average Network для определения сентимента "
      ],
      "id": "102d7074"
    },
    {
      "cell_type": "markdown",
      "metadata": {
        "id": "46d972fe"
      },
      "source": [
        "В этой домашке мы будет классифицировать твиты на 3 тональности.  \n",
        "Вы будете использовать предобученные эмбеддинги слов, так что для начала обязательно нужно посмотреть [туториал по их использованию](https://github.com/BobaZooba/DeepNLP/blob/master/Tutorials/Word%20vectors%20%26%20Data%20Loading.ipynb).\n",
        "\n",
        "Наши классы:  \n",
        "\n",
        "Индекс | Sentiment  \n",
        "-- | --  \n",
        "0 | negative  \n",
        "1 | neutral  \n",
        "2 | positive  "
      ],
      "id": "46d972fe"
    },
    {
      "cell_type": "markdown",
      "metadata": {
        "id": "55010212"
      },
      "source": [
        "Вам предстоит реализовать такую модель:\n",
        "![Архитектура модели DAN](https://www.researchgate.net/profile/Shervin-Minaee/publication/340523298/figure/fig1/AS:878252264550411@1586403065555/The-architecture-of-the-Deep-Average-Network-DAN-10.ppm)\n",
        "\n",
        "Что она из себя представляет:\n",
        "- Мы подаем в нее индексы слов\n",
        "- Переводим индексы слов в эмбеддинги\n",
        "- Усредняем эмбеддинги\n",
        "- Пропускаем усредненные эмбеддинги через `Multilayer Perceptron`\n",
        "\n",
        "В этой домашке вам предстоит:\n",
        "- Перевести тексты в матрицы с индексами токенов\n",
        "- Реализовать модель\n",
        "- Обучить ее\n",
        "- Понять хорошо ли вы это сделали\n",
        "\n",
        "Это очень важная модель, потому что она очень простая и показывает достаточно высокие метрики. В дальнейшем на работе советую использовать такую модель как бейзлайн. И в качестве эмбеддингов слов взять эмбеддинги от берта/роберты/тд."
      ],
      "id": "55010212"
    },
    {
      "cell_type": "markdown",
      "metadata": {
        "id": "65faf753"
      },
      "source": [
        "## 🤗 Datasets\n",
        "В этом туториале мы будем использовать подготовленные данные из библиотеки [datasets](https://github.com/huggingface/datasets). Мы вряд ли еще будем пользоваться этой библиотекой, так как нам будет важно самим подготавливать данные. Во-первых, для простоты, во-вторых, здесь есть достаточно неплохие практики. [Здесь](https://huggingface.co/datasets) вы сможете найти достаточно большое количество различных датасетов. Возможно, когда-нибудь они вам пригодятся."
      ],
      "id": "65faf753"
    },
    {
      "cell_type": "markdown",
      "metadata": {
        "id": "5927f02a"
      },
      "source": [
        "## Загрузите эмбеддинги слов\n",
        "Реализуйте функцию по загрузке эмбеддингов из файла. Она должна отдавать словарь слов и `np.array`\n",
        "Формат словаря:\n",
        "```python\n",
        "{\n",
        "    'aabra': 0,\n",
        "    ...,\n",
        "    'mom': 6546,\n",
        "    ...\n",
        "    'xyz': 100355\n",
        "}\n",
        "```\n",
        "Формат матрицы эмбеддингов:\n",
        "```python\n",
        "array([[0.44442278, 0.28644582, 0.04357426, ..., 0.9425766 , 0.02024289,\n",
        "        0.88456545],\n",
        "       [0.77599317, 0.35188237, 0.54801261, ..., 0.91134102, 0.88599103,\n",
        "        0.88068835],\n",
        "       [0.68071886, 0.29352313, 0.95952505, ..., 0.19127958, 0.97723054,\n",
        "        0.36294011],\n",
        "       ...,\n",
        "       [0.03589378, 0.85429694, 0.33437761, ..., 0.39784873, 0.80368014,\n",
        "        0.76368042],\n",
        "       [0.01498725, 0.78155695, 0.80372969, ..., 0.82051826, 0.42314861,\n",
        "        0.18655465],\n",
        "       [0.69263802, 0.82090775, 0.27150426, ..., 0.86582747, 0.40896573,\n",
        "        0.33423976]])\n",
        "```\n",
        "\n",
        "Количество строк в матрице эмбеддингов должно совпадать с размером словаря, то есть для каждого токена должен быть свой эмбеддинг. По параметру `num_tokens` должно брать не более указано в этом параметре количество токенов в словарь и матрицу эмбеддингов."
      ],
      "id": "5927f02a"
    },
    {
      "cell_type": "code",
      "execution_count": null,
      "metadata": {
        "id": "dj-5Ql_LBHMD"
      },
      "outputs": [],
      "source": [
        "## Раскомментируйте и скачайте эмбеддинги\n",
        "#!wget  https://dl.fbaipublicfiles.com/fasttext/vectors-crawl/cc.ru.300.vec.gz\n",
        "#!gzip -d cc.ru.300.vec.gz"
      ],
      "id": "dj-5Ql_LBHMD"
    },
    {
      "cell_type": "code",
      "execution_count": null,
      "metadata": {
        "id": "e15a9f7c"
      },
      "outputs": [],
      "source": [
        "def load_embeddings(path, num_tokens=100_000):\n",
        "    \"\"\"\n",
        "    Функция возвращает словарь вида \"слово:id\" и соответствующую матрицу эмбеддингов\n",
        "    \n",
        "    \"\"\"\n",
        "    vocab = {'<PAD>': 0, '<UNK>': 1}\n",
        "    embeddings = list()\n",
        "    \n",
        "    with open(path, 'r') as emb_file:\n",
        "\n",
        "      vocab_size, emb_dim = emb_file.readline().strip().split()\n",
        "      vocab_size = int(vocab_size)\n",
        "      emb_dim = int(emb_dim)\n",
        "      \n",
        "      if num_tokens is None or num_tokens == 0:\n",
        "        num_tokens = vocab_size + 2 # +2 для учета спец токенов\n",
        "      \n",
        "      embeddings.append(np.zeros(emb_dim))\n",
        "      embeddings.append(np.ones(emb_dim))\n",
        "\n",
        "      for line in emb_file:\n",
        "        parts = line.strip().split()\n",
        "        token = ' '.join(parts[:-emb_dim]).lower()\n",
        "        if token in vocab:\n",
        "          continue\n",
        "        word_vector = np.array(list(map(float, parts[-emb_dim:])))\n",
        "        vocab[token] = len(vocab)\n",
        "        embeddings.append(word_vector)\n",
        "        \n",
        "        if len(vocab) == num_tokens:\n",
        "          break\n",
        "    \n",
        "    embeddings = np.stack(embeddings)\n",
        "\n",
        "    return vocab, embeddings"
      ],
      "id": "e15a9f7c"
    },
    {
      "cell_type": "code",
      "execution_count": null,
      "metadata": {
        "id": "FwCq7dBsE0jy"
      },
      "outputs": [],
      "source": [
        "vocab, embeddings = load_embeddings('cc.ru.300.vec', num_tokens=100000)"
      ],
      "id": "FwCq7dBsE0jy"
    },
    {
      "cell_type": "markdown",
      "metadata": {
        "id": "c46b2b68"
      },
      "source": [
        "## Загружаем данные из библиотеки\n",
        "Мы сразу получим `torch.utils.data.Dataset`, который сможем передать в `torch.utils.data.DataLoader`"
      ],
      "id": "c46b2b68"
    },
    {
      "cell_type": "code",
      "execution_count": null,
      "metadata": {
        "id": "e54fdaa8",
        "outputId": "5f16c6fa-c19a-40b4-c8a4-8b4e3bc81ca6",
        "colab": {
          "base_uri": "https://localhost:8080/",
          "height": 426,
          "referenced_widgets": [
            "324c4ae71e73403887034403a2ac5c60",
            "0dea60d39988435aafd34d9dad6cd3f7",
            "8e685f8840974a3da3c9ada409ad5694",
            "a7bcde506969400eb3c6311784c16223",
            "4f91099b9f3a4da79272cea5659eec2d",
            "79f0e264a36f4bcba034a16614f0ce22",
            "1a40017a9a954a8ba97d913bf6c63f51",
            "9b260b39d87142bfa730cc69cc5b56e7",
            "d5088d08c17147c493906039c454f7ab",
            "4a7d16b018f0431c9d9199d53c44f3f9",
            "0064acbc3f8444f3b3bce48614c55c0c",
            "8efc82c332504d70a200ef6c581602a6",
            "836cb31cc50a4d06ab0604d6423ccf0a",
            "602b90028d30493dba440785d55b8110",
            "3638353e930545e181a669caa9464edf",
            "6c0188b99c514d919a1c46a3826b8567",
            "41552d8b3145402e815a4448d59725a6",
            "13a412a3c7de4e999e72ea13200a929b",
            "234430e7139e405b834ce651e32ec1d4",
            "aa04aea057604fb7b72c58916797f426",
            "9a710bdc579b40cda11cf0d7257caa4d",
            "c6c20eb099d44079bf4b892c4caa3a9b",
            "6d320d75ec464b398708872f08eaafe3",
            "3dc8d937c1814663ace7f3ec57e58663",
            "1e0b4fafa5f146eca6b8b089359a34f4",
            "80593e7dd50b49418d6040de584e5238",
            "51401f2d6fb9461b93d02dad3c87a51c",
            "fd291be5910b458686c5563b04fd91c3",
            "b20f54de34004f53b62af8db63b7ef97",
            "c31d6f0cf6994b6fbc1142ab59d14974",
            "2c8cf141c9ab414dbf62397c8e113ec4",
            "10ce75368ec2463c9464ffa00775973c",
            "e08ae1243f5b44238632bd32dd776733",
            "d18b28072ba946338b7c93af08952a9a",
            "56f81f13157d4a47b62bf065498f59e2",
            "96acfecf3de348d0adbb4616258c55f0",
            "f64c8cb17e9a4ea381a5369c7eadc68b",
            "4f486524462e4f61954be46256c2cd15",
            "ce1af0c128e14030a4ea372ea9efa783",
            "fb6a1022858a48ab9a37d4f052b4dc5f",
            "bd35183769fc4394a06a62b5b7032ea6",
            "3130af50c2a349b28fb0a3eca74a8c7b",
            "c98c2ed4624a4323a21885d12fbaa187",
            "a8cbf474405e4574ab9404c8d55e7dfc",
            "757b6f91141a42c69e1434c2b0c562a9",
            "bf2bd23dfa4b44fb93796fcc0f769bfd",
            "1753ad1c3a254d28b0de8b24312e7c7f",
            "a69a477a9f7c4a3fb3cde47f66fa261b",
            "0d204f03363d46269d0e5dcdb8a09f89",
            "898330ee7cfd49dea65004b82711c386",
            "443946157c7748cba6d445dd97bb032f",
            "49c0eda38bc94520adeded692bbd8be4",
            "06dfd9e759c54cb993ab32e65f69009d",
            "112c9910374449a7a9e184b1bfe74b63",
            "79b3328b624444e9acdc22993d70aca2",
            "f168b7f6887a47a69e80211b7c03c2c7",
            "661449165c414580853977780f5a5f93",
            "c7127cb8a81e4d3198823e6f98d71696",
            "78b72513ec234b2eba48e16c1308f7c3",
            "acb95a30cd41476b844c3905ece9dbbd",
            "1865d3a4fc81416a9bc78772934808b9",
            "273b8425c06e449abb71d48f0a363ea0",
            "fda41ac631ea44a2b892a7b03be3b56d",
            "15e5e796307b4678a140ca2d27711c37",
            "bd8c4dbd847a4c1cb5aaf7f0cbd97fdc",
            "5676d7a859f34081a2a0d5504346d679",
            "691905ddc42f45bfb2221e6f79a71aa8",
            "d5f55d95aa954e5485b2bbfe2ab87125",
            "b5c1312b24134f46be5925af15adc5e2",
            "2c3fbd69918345c2b698c9fd47669ada",
            "219b65ec0d65462abfa79fc93950abbf",
            "ddb4c0bb7f114342aef6754ca02f6045",
            "7918954057f8448395caa4a4a35e0c74",
            "65d8f37f1bd24965a6da9e0e0ad17345",
            "f518c0a260e2453684ef05c0ff95c818",
            "abacf00a4dd94b2aa5751658dc9126b8",
            "6f3541b504dd4834a946aa2d409640d4",
            "fd3809fb9b6248068f128f0659b6c5c6",
            "957135b17cb4438ca91db68e9119c4c3",
            "04912eb5b1114b9a84b42ec64a0b11dd",
            "7c06afbaed8a44788c04a9638e52450a",
            "d5c402d6c0f14468a9aa2cbde53c3801",
            "e8c4f742747d4b7fa6aeb668a3232900",
            "d2eaa394b78c41eb927d689a80e5f93e",
            "f44ffdf5dcf44508a2867daa50305827",
            "a9db90d95780466aac43508f1fd79c54",
            "0fa3c69bfd8842fb886386ae40663b1b",
            "09fdb9aafe1b41009875e8701039fc9e",
            "1bb097f5b567477b96a2f65e942fe987",
            "ff3333811431400b9f64000413939037",
            "4a5019164a484fc4a008374f07029268",
            "9dccf3bb6e9947b49b26fbc5ecd199bb",
            "859df1284e6a4cbfae171df4a577abdf",
            "27e795a85a77470a80ec7bc394cd9f68",
            "d0b2a25cc4c94bb7be2c8ac04874b26b",
            "dde5cfdc19ba4a3e8536b9368f094471",
            "22f1e5e28f6446c8be84d362232bf3ac",
            "7de6609137d043e4ab187c0f2e531b8f",
            "d0741377e8e64700b8758b0d2d33d151",
            "3577fe3a06a74bfd9c1d60ad7e05c71b",
            "8ca78998e116485e87ed36ce30fabcd0",
            "c8d5a0729f8e4dc0ace9a6a997895926",
            "10f6d899d5f54c7bb9b30ec9e5f8a4a6",
            "94fd1101c90d4b6fbfa4c2cee0625e77",
            "f3d8886fd0f14b009ff9a846609b7014",
            "e8aa50a5471945128deb8e81113f37d3",
            "0aa627a156a440bbb5cc6779d2d8aec9",
            "6e2cbc49e388480fb8430c215b6c9074",
            "b6a80a5c2fb84589acbfa3fab3dc7fb6",
            "d030e03390ba41cf83df21e5b46c43ed",
            "7d33a220b9a04f3e8f9e6626575bd83e",
            "83ca5a2fa1d441ad9f9b1b0275cd11cb",
            "dca2f64dd8ed48a08817eea0080c5636",
            "be02a6e717f249e3bbed116595abb452",
            "05205e7378d34e29bd5abb6dbf4f59dd",
            "f142433f45474b0eaeb9e64b467e2cec",
            "681db7ae5a3441659162ee991031254f",
            "7a7adb9ba6954b0e812c90fe591764eb",
            "bc5f763bdec1402f883844f7a8d0688b",
            "b938e3345d804ef59067eb8de82aace8",
            "9a4c26e12c5e4cf3a5b8304e41d361eb",
            "017eddc2a284410c8dd898453de333e8",
            "e298093073364fbb8dc08e29d5e0537d",
            "a534fb6c21ad44de919f4989970e159a",
            "bf91dec3837942fc84ef169a2cd5c899",
            "a19e4bcd43b744cb8cc54a8379518129",
            "37ae32b5d24b4f8786dc11c068526fe2",
            "7b40f198985d441b8f7d758ea87eae2d",
            "2bd93a2cf51c4b5c876741a29babfd67",
            "e76cbbfb565a478d9e917955e5393cc9",
            "2ba09f099d7b4ae1add7ac4af80ba242",
            "6e6ac0d2697a414eb7d6b6b03c6e453a",
            "ae8483f417d442cfa02e73314dcad5d1",
            "81327113f22c4235919c106bd9cfc335",
            "df76a6d492da44038c93e7d6742a6edd",
            "049786faff324e45b5eabd4184b80c3e",
            "9ee081bb305449d0b823f2b603b0129f",
            "dc3b8f8a9ed34cd981019ac606613b6f",
            "a859cef1f2e448db964b3f0c8163b6c7",
            "b7b828a416894bb281d382b6b4b07d9b",
            "6990bc73bd9a41bd8462b3c14d93a153",
            "ad5dc85e539d4009b21d779dfdd8f456",
            "1ddd128c66644390a5b2b57c7b837191"
          ]
        }
      },
      "outputs": [
        {
          "output_type": "display_data",
          "data": {
            "application/vnd.jupyter.widget-view+json": {
              "model_id": "324c4ae71e73403887034403a2ac5c60",
              "version_minor": 0,
              "version_major": 2
            },
            "text/plain": [
              "Downloading:   0%|          | 0.00/2.37k [00:00<?, ?B/s]"
            ]
          },
          "metadata": {}
        },
        {
          "output_type": "display_data",
          "data": {
            "application/vnd.jupyter.widget-view+json": {
              "model_id": "8efc82c332504d70a200ef6c581602a6",
              "version_minor": 0,
              "version_major": 2
            },
            "text/plain": [
              "Downloading:   0%|          | 0.00/5.17k [00:00<?, ?B/s]"
            ]
          },
          "metadata": {}
        },
        {
          "output_type": "stream",
          "name": "stdout",
          "text": [
            "Downloading and preparing dataset tweet_eval/sentiment (download: 6.17 MiB, generated: 6.62 MiB, post-processed: Unknown size, total: 12.79 MiB) to /root/.cache/huggingface/datasets/tweet_eval/sentiment/1.1.0/12aee5282b8784f3e95459466db4cdf45c6bf49719c25cdb0743d71ed0410343...\n"
          ]
        },
        {
          "output_type": "display_data",
          "data": {
            "application/vnd.jupyter.widget-view+json": {
              "model_id": "6d320d75ec464b398708872f08eaafe3",
              "version_minor": 0,
              "version_major": 2
            },
            "text/plain": [
              "  0%|          | 0/6 [00:00<?, ?it/s]"
            ]
          },
          "metadata": {}
        },
        {
          "output_type": "display_data",
          "data": {
            "application/vnd.jupyter.widget-view+json": {
              "model_id": "d18b28072ba946338b7c93af08952a9a",
              "version_minor": 0,
              "version_major": 2
            },
            "text/plain": [
              "Downloading:   0%|          | 0.00/2.24M [00:00<?, ?B/s]"
            ]
          },
          "metadata": {}
        },
        {
          "output_type": "display_data",
          "data": {
            "application/vnd.jupyter.widget-view+json": {
              "model_id": "757b6f91141a42c69e1434c2b0c562a9",
              "version_minor": 0,
              "version_major": 2
            },
            "text/plain": [
              "Downloading:   0%|          | 0.00/12.7k [00:00<?, ?B/s]"
            ]
          },
          "metadata": {}
        },
        {
          "output_type": "display_data",
          "data": {
            "application/vnd.jupyter.widget-view+json": {
              "model_id": "f168b7f6887a47a69e80211b7c03c2c7",
              "version_minor": 0,
              "version_major": 2
            },
            "text/plain": [
              "Downloading:   0%|          | 0.00/527k [00:00<?, ?B/s]"
            ]
          },
          "metadata": {}
        },
        {
          "output_type": "display_data",
          "data": {
            "application/vnd.jupyter.widget-view+json": {
              "model_id": "691905ddc42f45bfb2221e6f79a71aa8",
              "version_minor": 0,
              "version_major": 2
            },
            "text/plain": [
              "Downloading:   0%|          | 0.00/3.53k [00:00<?, ?B/s]"
            ]
          },
          "metadata": {}
        },
        {
          "output_type": "display_data",
          "data": {
            "application/vnd.jupyter.widget-view+json": {
              "model_id": "fd3809fb9b6248068f128f0659b6c5c6",
              "version_minor": 0,
              "version_major": 2
            },
            "text/plain": [
              "Downloading:   0%|          | 0.00/99.7k [00:00<?, ?B/s]"
            ]
          },
          "metadata": {}
        },
        {
          "output_type": "display_data",
          "data": {
            "application/vnd.jupyter.widget-view+json": {
              "model_id": "1bb097f5b567477b96a2f65e942fe987",
              "version_minor": 0,
              "version_major": 2
            },
            "text/plain": [
              "Downloading:   0%|          | 0.00/629 [00:00<?, ?B/s]"
            ]
          },
          "metadata": {}
        },
        {
          "output_type": "display_data",
          "data": {
            "application/vnd.jupyter.widget-view+json": {
              "model_id": "3577fe3a06a74bfd9c1d60ad7e05c71b",
              "version_minor": 0,
              "version_major": 2
            },
            "text/plain": [
              "  0%|          | 0/6 [00:00<?, ?it/s]"
            ]
          },
          "metadata": {}
        },
        {
          "output_type": "display_data",
          "data": {
            "application/vnd.jupyter.widget-view+json": {
              "model_id": "7d33a220b9a04f3e8f9e6626575bd83e",
              "version_minor": 0,
              "version_major": 2
            },
            "text/plain": [
              "0 examples [00:00, ? examples/s]"
            ]
          },
          "metadata": {}
        },
        {
          "output_type": "display_data",
          "data": {
            "application/vnd.jupyter.widget-view+json": {
              "model_id": "017eddc2a284410c8dd898453de333e8",
              "version_minor": 0,
              "version_major": 2
            },
            "text/plain": [
              "0 examples [00:00, ? examples/s]"
            ]
          },
          "metadata": {}
        },
        {
          "output_type": "display_data",
          "data": {
            "application/vnd.jupyter.widget-view+json": {
              "model_id": "ae8483f417d442cfa02e73314dcad5d1",
              "version_minor": 0,
              "version_major": 2
            },
            "text/plain": [
              "0 examples [00:00, ? examples/s]"
            ]
          },
          "metadata": {}
        },
        {
          "output_type": "stream",
          "name": "stderr",
          "text": [
            "Reusing dataset tweet_eval (/root/.cache/huggingface/datasets/tweet_eval/sentiment/1.1.0/12aee5282b8784f3e95459466db4cdf45c6bf49719c25cdb0743d71ed0410343)\n"
          ]
        },
        {
          "output_type": "stream",
          "name": "stdout",
          "text": [
            "Dataset tweet_eval downloaded and prepared to /root/.cache/huggingface/datasets/tweet_eval/sentiment/1.1.0/12aee5282b8784f3e95459466db4cdf45c6bf49719c25cdb0743d71ed0410343. Subsequent calls will reuse this data.\n"
          ]
        },
        {
          "output_type": "stream",
          "name": "stderr",
          "text": [
            "Reusing dataset tweet_eval (/root/.cache/huggingface/datasets/tweet_eval/sentiment/1.1.0/12aee5282b8784f3e95459466db4cdf45c6bf49719c25cdb0743d71ed0410343)\n"
          ]
        }
      ],
      "source": [
        "dataset_path = \"tweet_eval\"\n",
        "dataset_name = \"sentiment\"\n",
        "\n",
        "train_dataset = load_dataset(path=dataset_path, name=dataset_name, split=\"train\")\n",
        "valid_dataset = load_dataset(path=dataset_path, name=dataset_name, split=\"validation\")\n",
        "test_dataset = load_dataset(path=dataset_path, name=dataset_name, split=\"test\")"
      ],
      "id": "e54fdaa8"
    },
    {
      "cell_type": "markdown",
      "metadata": {
        "id": "ad4a0650"
      },
      "source": [
        "## `torch.utils.data.DataLoader`"
      ],
      "id": "ad4a0650"
    },
    {
      "cell_type": "code",
      "execution_count": null,
      "metadata": {
        "id": "dc742027"
      },
      "outputs": [],
      "source": [
        "train_loader = DataLoader(train_dataset, batch_size=2, shuffle=True)\n",
        "valid_loader = DataLoader(valid_dataset, batch_size=2, shuffle=False)\n",
        "test_loader = DataLoader(test_dataset, batch_size=2, shuffle=False)"
      ],
      "id": "dc742027"
    },
    {
      "cell_type": "markdown",
      "metadata": {
        "id": "e9012ae5"
      },
      "source": [
        "## Посмотрим что отдает нам `Loader`\n",
        "Это батч формата:\n",
        "```python\n",
        "batch = {\n",
        "    \"text\": [\n",
        "        \"text1\",\n",
        "        \"text2\",\n",
        "        ...,\n",
        "        \"textn\"\n",
        "    ],\n",
        "    \"label\": tensor([\n",
        "        1,\n",
        "        1,\n",
        "        ...,\n",
        "        0\n",
        "    ])\n",
        "}\n",
        "```\n",
        "То есть у нас есть словарь с двумя ключами `text` и `label`, где хранится n примеров. То есть для 5-го примера в батче текст будет храниться в `batch[\"text\"][5]`, а индекс класса будет храниться в `batch[\"label\"][5]`."
      ],
      "id": "e9012ae5"
    },
    {
      "cell_type": "code",
      "execution_count": null,
      "metadata": {
        "id": "49bf6b50",
        "outputId": "38cbe312-53bd-48d5-9509-e7fe369df10a",
        "colab": {
          "base_uri": "https://localhost:8080/"
        }
      },
      "outputs": [
        {
          "output_type": "execute_result",
          "data": {
            "text/plain": [
              "{'label': tensor([2, 2]),\n",
              " 'text': ['Can\\\\u2019t wait to go to to the Patriots game dec. 10th :) ahhh i hope we get a mssive snow storm!',\n",
              "  '@user would you PLEASE let us know when the iPhone 6s will be available for purchase? Hoping before the 17th of September. Thanks!!']}"
            ]
          },
          "metadata": {},
          "execution_count": 10
        }
      ],
      "source": [
        "for batch in train_loader:\n",
        "    break\n",
        "\n",
        "batch"
      ],
      "id": "49bf6b50"
    },
    {
      "cell_type": "markdown",
      "metadata": {
        "id": "b0b9f0e6"
      },
      "source": [
        "## Collate\n",
        "Сейчас перед нами стоит проблема: мы получаем тексты в виде строк, а нам нужны тензоры (матрицы) с индексами токенов, к тому же нам нужно западить последовательности токенов, чтобы все сложить в торчовую матрицу. Мы можем сделать это двумя способами:\n",
        "- Достать из `train/valid/test_dataset` данные и написать свой `Dataset`, где внутри будет токенизировать текст, токены будут переводиться в индексы и затем последовательность будет падиться до нужной длины\n",
        "- Сделать функцию, которая бы дополнительно обрабатывали наши батчи. Она вставляется в `DataLoader(collate_fn=<ВАША_ФУНКЦИЯ>)`"
      ],
      "id": "b0b9f0e6"
    },
    {
      "cell_type": "markdown",
      "metadata": {
        "id": "d03b0f2e"
      },
      "source": [
        "## Если вы хотите сделать свой `Dataset`\n",
        "То вы можете достать данные таким образом."
      ],
      "id": "d03b0f2e"
    },
    {
      "cell_type": "code",
      "execution_count": null,
      "metadata": {
        "id": "26771f88",
        "outputId": "b470c0c1-b5ce-4c8d-d299-fdd96ed9eda4",
        "colab": {
          "base_uri": "https://localhost:8080/"
        }
      },
      "outputs": [
        {
          "output_type": "execute_result",
          "data": {
            "text/plain": [
              "(45615, 45615)"
            ]
          },
          "metadata": {},
          "execution_count": 11
        }
      ],
      "source": [
        "len(train_dataset[\"text\"]), len(train_dataset[\"label\"])"
      ],
      "id": "26771f88"
    },
    {
      "cell_type": "code",
      "execution_count": null,
      "metadata": {
        "id": "f25200be",
        "outputId": "fc6155c1-efe9-430b-8357-e2ddb26ab928",
        "colab": {
          "base_uri": "https://localhost:8080/"
        }
      },
      "outputs": [
        {
          "output_type": "execute_result",
          "data": {
            "text/plain": [
              "['\"QT @user In the original draft of the 7th book, Remus Lupin survived the Battle of Hogwarts. #HappyBirthdayRemusLupin\"',\n",
              " '\"Ben Smith / Smith (concussion) remains out of the lineup Thursday, Curtis #NHL #SJ\"']"
            ]
          },
          "metadata": {},
          "execution_count": 12
        }
      ],
      "source": [
        "train_dataset[\"text\"][:2]"
      ],
      "id": "f25200be"
    },
    {
      "cell_type": "code",
      "execution_count": null,
      "metadata": {
        "id": "d4c952b6",
        "outputId": "37ebf212-28e8-49c5-8d1e-38925253ca67",
        "colab": {
          "base_uri": "https://localhost:8080/"
        }
      },
      "outputs": [
        {
          "output_type": "execute_result",
          "data": {
            "text/plain": [
              "[2, 1]"
            ]
          },
          "metadata": {},
          "execution_count": 13
        }
      ],
      "source": [
        "train_dataset[\"label\"][:2]"
      ],
      "id": "d4c952b6"
    },
    {
      "cell_type": "markdown",
      "metadata": {
        "id": "68184652"
      },
      "source": [
        "## Если вы хотите сделать `collate_fn`"
      ],
      "id": "68184652"
    },
    {
      "cell_type": "markdown",
      "metadata": {
        "id": "706dab4d"
      },
      "source": [
        "### Давайте посмотрим что вообще происходит внутри этого метода\n",
        "Для этого сделаем функцию `empty_collate`, которая принимает на вход батч и отдает его, ничего с ним не делая"
      ],
      "id": "706dab4d"
    },
    {
      "cell_type": "code",
      "execution_count": null,
      "metadata": {
        "id": "3b7ce86b"
      },
      "outputs": [],
      "source": [
        "def empty_collate(batch):\n",
        "    return batch"
      ],
      "id": "3b7ce86b"
    },
    {
      "cell_type": "code",
      "execution_count": null,
      "metadata": {
        "id": "26f0fe92"
      },
      "outputs": [],
      "source": [
        "train_loader = DataLoader(train_dataset, batch_size=2, shuffle=True, collate_fn=empty_collate)\n",
        "valid_loader = DataLoader(valid_dataset, batch_size=2, shuffle=False, collate_fn=empty_collate)\n",
        "test_loader = DataLoader(test_dataset, batch_size=2, shuffle=False, collate_fn=empty_collate)"
      ],
      "id": "26f0fe92"
    },
    {
      "cell_type": "code",
      "execution_count": null,
      "metadata": {
        "id": "942cf78e",
        "outputId": "88a61e92-0172-4cd8-aff3-d0ac744e5e27",
        "colab": {
          "base_uri": "https://localhost:8080/"
        }
      },
      "outputs": [
        {
          "output_type": "execute_result",
          "data": {
            "text/plain": [
              "[{'label': 0,\n",
              "  'text': \"@user paid for Amazon prime. 2nd day my products hasn't arrived how does your company resolve this...Tells me it will be here tomorrow!\"},\n",
              " {'label': 2,\n",
              "  'text': 'Janet jackson is back (and she brought some extra saggy pampers pants with her)'}]"
            ]
          },
          "metadata": {},
          "execution_count": 16
        }
      ],
      "source": [
        "for batch in train_loader:\n",
        "    break\n",
        "\n",
        "batch"
      ],
      "id": "942cf78e"
    },
    {
      "cell_type": "markdown",
      "metadata": {
        "id": "91ca5081"
      },
      "source": [
        "## Формат батча\n",
        "```python\n",
        "batch = [\n",
        "    {\n",
        "        \"text\": \"text1\",\n",
        "        \"label\": 0\n",
        "    }, \n",
        "    {\n",
        "        \"text\": \"text2\",\n",
        "        \"label\": 1\n",
        "    },\n",
        "    ...,\n",
        "    {\n",
        "        \"text\": \"textn\",\n",
        "        \"label\": 1\n",
        "    }\n",
        "]\n",
        "```\n",
        "То есть теперь у нас есть список, где каждый элемент — это словарь со значениями `text` и `label`.  \n",
        "\n",
        "Вы можете сделать функцию или класс с методом `collate`. Этот способ решения домашки предодчтительней, так как использовать `collate` очень хорошая практика.\n",
        "\n",
        "Что я предлагаю:\n",
        "- Сделайте класс `Tokenizer`"
      ],
      "id": "91ca5081"
    },
    {
      "cell_type": "code",
      "execution_count": null,
      "metadata": {
        "id": "3b9ddcca"
      },
      "outputs": [],
      "source": [
        "class Tokenizer:\n",
        "    \n",
        "    def __init__(self, base_tokenizer, token2index, pad_token, unk_token, max_length):\n",
        "        \n",
        "        self._base_tokenizer = base_tokenizer  # например ToktokTokenizer()\n",
        "        \n",
        "        self.token2index = token2index  # словарь из load_embeddings()\n",
        "        \n",
        "        self.pad_token = pad_token\n",
        "        self.pad_index = self.token2index[self.pad_token]\n",
        "        \n",
        "        self.unk_token = unk_token\n",
        "        self.unk_index = self.token2index[self.unk_token]\n",
        "        \n",
        "        self.max_length = max_length\n",
        "\n",
        "    def tokenize(self, text):\n",
        "        \"\"\"\n",
        "        В этом методе нужно разделить строку текста на токены\n",
        "        \"\"\"\n",
        "        return self._base_tokenizer.tokenize(text)\n",
        "    \n",
        "    def indexing(self, tokenized_text):\n",
        "        \"\"\"\n",
        "        В этом методе нужно перевести список токенов в список с индексами этих токенов\n",
        "        \"\"\"\n",
        "        token_ids = []\n",
        "        for token in tokenized_text:\n",
        "            token_id = self.token2index.get(token, self.unk_index)\n",
        "            token_ids.append(token_id)\n",
        "\n",
        "        return token_ids\n",
        "        \n",
        "    def padding(self, tokens_indices):\n",
        "        \"\"\"\n",
        "        В этом методе нужно сделать длину tokens_indices равной self.max_length\n",
        "        Опционально убрать повторяющиеся unk'и\n",
        "        \"\"\"\n",
        "        if len(tokens_indices) > self.max_length:\n",
        "            return tokens_indices[:self.max_length]\n",
        "        \n",
        "        diff = self.max_length - len(tokens_indices)\n",
        "        padding_idx = [self.pad_index] * diff\n",
        "        tokens_indices.extend(padding_idx)\n",
        "\n",
        "        return tokens_indices\n",
        "    \n",
        "    def __call__(self, text):\n",
        "        \"\"\"\n",
        "        В этом методе нужно перевести строку с текстом в вектор с индексами слов нужно размера (self.max_length)\n",
        "        \"\"\"\n",
        "        text_tokens = self.tokenize(text)\n",
        "        text_ids = self.indexing(text_tokens)\n",
        "        text_padded = self.padding(text_ids)\n",
        "        \n",
        "        return text_padded\n",
        "        \n",
        "    def collate(self, batch):\n",
        "        \n",
        "        tokenized_texts = list()\n",
        "        labels = list()\n",
        "        \n",
        "        for sample in batch:\n",
        "            label = sample[\"label\"]\n",
        "            text = sample[\"text\"]\n",
        "            tokenized_texts.append(self(text))\n",
        "            labels.append(label)\n",
        "            \n",
        "        tokenized_texts = torch.tensor(tokenized_texts)\n",
        "        labels = torch.tensor(labels)\n",
        "        \n",
        "        return tokenized_texts, labels"
      ],
      "id": "3b9ddcca"
    },
    {
      "cell_type": "code",
      "source": [
        "tokenizer = Tokenizer(\n",
        "    base_tokenizer=ToktokTokenizer(),\n",
        "    token2index=vocab,\n",
        "    pad_token=\"<PAD>\",\n",
        "    unk_token=\"<UNK>\",\n",
        "    max_length=64)"
      ],
      "metadata": {
        "id": "8-ea39EQNYeT"
      },
      "id": "8-ea39EQNYeT",
      "execution_count": null,
      "outputs": []
    },
    {
      "cell_type": "markdown",
      "metadata": {
        "id": "11ab7e6d"
      },
      "source": [
        "## Перед реализацией выбранного метода\n",
        "Советую, чтобы в итоге `Loader` отдавал кортеж с двумя тензорами:\n",
        "- `torch.Tensor` с индексами токенов, размерность `(batch_size, sequence_length)`\n",
        "- `torch.Tensor` с индексами таргетов, размерность `(batch_size)`\n",
        "\n",
        "То есть, чтобы было так:\n",
        "```python\n",
        "for x, y in train_loader:\n",
        "    ...\n",
        "\n",
        ">> x\n",
        ">> tensor([[   37,  3889,   470,  ...,     0,     0,     0],\n",
        "           [ 1509,   581,   144,  ...,     0,     0,     0],\n",
        "           [ 1804,   893,  2457,  ...,     0,     0,     0],\n",
        "           ...,\n",
        "           [  170, 39526,  2102,  ...,     0,     0,     0],\n",
        "           [ 1217,   172, 28440,  ...,     0,     0,     0],\n",
        "           [   37,    56,   603,  ...,     0,     0,     0]])\n",
        "\n",
        ">> y\n",
        ">> tensor([1, 2, 2, 2, 1, 1, 1, 1, 2, 1, 1, 2, 2, 1, 1, 1, 1, 1, 0, 1, 2, 0, 0, 1,\n",
        "           0, 2, 1, 1, 0, 1, 2, 0, 2, 1, 2, 1, 1, 1, 2, 1, 1, 0, 1, 1, 1, 0, 1, 0,\n",
        "           1, 0, 2, 2, 2, 1, 1, 2, 2, 2, 1, 2, 0, 1, 0, 2, 1, 2, 2, 1, 0, 0, 2, 2,\n",
        "           2, 1, 2, 0, 2, 2, 0, 2, 0, 1, 1, 1, 2, 2, 2, 1, 1, 1, 1, 2, 1, 0, 2, 2,\n",
        "           2, 1, 1, 1, 1, 1, 2, 2, 2, 2, 1, 1, 2, 1, 1, 0, 1, 1, 1, 2, 2, 1, 2, 1,\n",
        "           2, 1, 1, 2, 2, 1, 1, 2])\n",
        "\n",
        ">> x.shape\n",
        ">> torch.Size([128, 64])\n",
        "\n",
        ">> y.shape\n",
        ">> torch.Size([128])\n",
        "```\n",
        "При условии, что батч сайз равен 128, а максимальная длина последовательности равна 64.\n",
        "\n",
        "## Помните"
      ],
      "id": "11ab7e6d"
    },
    {
      "cell_type": "markdown",
      "metadata": {
        "id": "018cf71c"
      },
      "source": [
        "## <Место для реализации>"
      ],
      "id": "018cf71c"
    },
    {
      "cell_type": "code",
      "execution_count": null,
      "metadata": {
        "id": "40268f8c"
      },
      "outputs": [],
      "source": [
        "train_loader = DataLoader(train_dataset, batch_size=128, shuffle=True, collate_fn=tokenizer.collate)\n",
        "valid_loader = DataLoader(valid_dataset, batch_size=128, shuffle=True, collate_fn=tokenizer.collate)\n",
        "test_loader = DataLoader(test_dataset, batch_size=128, shuffle=True, collate_fn=tokenizer.collate)"
      ],
      "id": "40268f8c"
    },
    {
      "cell_type": "code",
      "execution_count": null,
      "metadata": {
        "id": "d293b759",
        "colab": {
          "base_uri": "https://localhost:8080/"
        },
        "outputId": "a402a1eb-5db1-4f0c-9c88-09dd11793478"
      },
      "outputs": [
        {
          "output_type": "stream",
          "name": "stdout",
          "text": [
            "torch.Size([128, 64])\n",
            "torch.Size([128])\n"
          ]
        }
      ],
      "source": [
        "for x, y in train_loader:\n",
        "  print(x.shape)\n",
        "  print(y.shape)\n",
        "  break"
      ],
      "id": "d293b759"
    },
    {
      "cell_type": "code",
      "execution_count": null,
      "metadata": {
        "id": "87752ad7"
      },
      "outputs": [],
      "source": [
        "assert(isinstance(x, torch.Tensor))\n",
        "assert(len(x.size()) == 2)\n",
        "\n",
        "assert(isinstance(y, torch.Tensor))\n",
        "assert(len(y.size()) == 1)"
      ],
      "id": "87752ad7"
    },
    {
      "cell_type": "markdown",
      "metadata": {
        "id": "dbc96104"
      },
      "source": [
        "# Реализация DAN\n",
        "\n",
        "На вход модели будут подавать индексы слов\n",
        "\n",
        "Шаги:\n",
        "- Переводим индексы слов в эмбеддинги\n",
        "- Усредняем эмбеддинги\n",
        "- Пропускаем усредненные эмбеддинги через `Multilayer Perceptron`\n",
        "    - Нужно реализовать самому\n",
        "    \n",
        "Дополнительно:\n",
        "- Добавьте `nn.Dropout`, `nn.BatchNorm` по вкусу\n",
        "- Сделайте усреднение с учетом падов\n",
        "- Используйте эмбеддинги от берта/роберты/тд (когда-нибудь про это будет целый туториал, а пока предлагают вам попробовать сделать это самим)"
      ],
      "id": "dbc96104"
    },
    {
      "cell_type": "markdown",
      "metadata": {
        "id": "123324f0"
      },
      "source": [
        "# Советы\n",
        "\n",
        "## До обучения\n",
        "- Выберите метрику(ки) качества и расскажите почему она(они)\n",
        "    - Обычно есть основная метрика, по которой принимаем решения какие веса брать и дополнительные, которые нам помогут делать выводы, например, о том все ли хорошо с нашими данными, хорошо ли модель справляется с дисбалансом классов и тд\n",
        "- Эту домашку можно сделать и на `CPU`, но на `GPU` будет сильно быстрее\n",
        "    - Во всех остальных домашках мы будем учить модели на `GPU`\n",
        "    - Рано или поздно вам придется посмотреть этот [туториал](https://www.youtube.com/watch?v=pgk1zGv5lU4)\n",
        "    - Вы можете обучаться на `colab`, это бесплатно\n",
        "\n",
        "## До эпохи\n",
        "- Сделайте списки/словари/другое, чтобы сохранять нужные данные для расчета метрик(и) по всей эпохе для трейна и валидации\n",
        "\n",
        "## Во время эпохи\n",
        "- Используйте [`tqdm`](https://github.com/tqdm/tqdm) как прогресс бар, чтобы понимать как проходит ваше обучение\n",
        "- Логируйте лосс\n",
        "- Логируйте метрику(ки) по батчу\n",
        "- Сохраняйте то, что вам нужно, чтобы посчитать метрик(и) на всю эпоху для трейна и валидации\n",
        "\n",
        "## После эпохи\n",
        "- Посчитайте метрик(и) на всю эпоху для трейна и валидации\n",
        "\n",
        "## После обучения\n",
        "- Провалидируйтесь на тестовом наборе и посмотрите метрики\n",
        "- Постройте [`classification_report`](https://scikit-learn.org/stable/modules/generated/sklearn.metrics.classification_report.html)\n",
        "- Постройте графики:\n",
        "    - [Confusion Matrix](https://scikit-learn.org/stable/modules/model_evaluation.html#confusion-matrix)\n",
        "    - [Опционально] Распределение вероятностей мажоритарного класса (то есть для какого-то примера мы выбираем такой класс и вероятность этого выбора такая-то) на трейне/тесте/валидации\n",
        "        - Если класс был выбран верно и если была ошибка\n",
        "- Подумайте что еще вам будет полезно для того, чтобы ответить на такие вопросы: \n",
        "    - Что в моделе можно улучшить?\n",
        "    - Все ли хорошо с моими данными?\n",
        "    - Все ли хорошо с валидацией?\n",
        "    - Не переобучился ли я?\n",
        "    - Достаточно ли я посмотрел на данные?\n",
        "    - Нужно ли мне улучшить предобработку данных?\n",
        "    - Нужно ли поменять токенизацию или эмбеддинги?\n",
        "    - Нет ли у меня багов в реализации?\n",
        "    - Какие типичные ошибки у моей модели?\n",
        "    - Как я могу их исправить?"
      ],
      "id": "123324f0"
    },
    {
      "cell_type": "markdown",
      "source": [
        "# Посмотрим на распределение данных в выборках"
      ],
      "metadata": {
        "id": "aLRAdFZxOmBZ"
      },
      "id": "aLRAdFZxOmBZ"
    },
    {
      "cell_type": "code",
      "source": [
        "train_labels = pd.Series([x[\"label\"] for x in train_dataset])\n",
        "valid_labels = pd.Series([x[\"label\"] for x in valid_dataset])\n",
        "test_labels = pd.Series([x[\"label\"] for x in test_dataset])"
      ],
      "metadata": {
        "id": "BTid4n9mPECk"
      },
      "id": "BTid4n9mPECk",
      "execution_count": null,
      "outputs": []
    },
    {
      "cell_type": "code",
      "source": [
        "labels = [train_labels, valid_labels, test_labels]\n",
        "id2label = {0: \"neg\", 1: \"neut\", 2:\"pos\"}\n",
        "\n",
        "titles = [\"Train labels distibution\", \"Validation labels distibution\", \"Test labels distibution\"]"
      ],
      "metadata": {
        "id": "6g2_eqEXPUjZ"
      },
      "id": "6g2_eqEXPUjZ",
      "execution_count": null,
      "outputs": []
    },
    {
      "cell_type": "code",
      "source": [
        "fig, axis = plt.subplots(1, 3, figsize=(10,10))\n",
        "\n",
        "for i in range(0,3):\n",
        "  label, title = labels[i], titles[i]\n",
        "  label_counts = pd.Series({k:v for k,v in sorted(label.value_counts().items(), key=lambda x: x[0])})\n",
        "  axis[i].set_title(title, fontsize=12)\n",
        "  axis[i].pie(\n",
        "      label_counts,\n",
        "      labels=[id2label[k] for k in label_counts.keys()], \n",
        "      pctdistance=0.5, \n",
        "      textprops = {\"fontsize\": 10},)"
      ],
      "metadata": {
        "colab": {
          "base_uri": "https://localhost:8080/",
          "height": 211
        },
        "id": "usZ6UEaNPpPM",
        "outputId": "6cb82bbb-21f8-491f-8c8b-26b820ee60f2"
      },
      "id": "usZ6UEaNPpPM",
      "execution_count": null,
      "outputs": [
        {
          "output_type": "display_data",
          "data": {
            "image/png": "[encoded data removed]",
            "text/plain": [
              "<Figure size 720x720 with 3 Axes>"
            ]
          },
          "metadata": {}
        }
      ]
    },
    {
      "cell_type": "markdown",
      "metadata": {
        "id": "ff1f451c"
      },
      "source": [
        "# Я выбрала метрику Weighted-F1\n",
        "Как видно на графиках выше, датасет несбалансированный, а weighted-F1 как раз учитывает дисбаланс классов, вычисляя взвешенное среднее значение для каждого класса с учетом его присутствия в выборке данных."
      ],
      "id": "ff1f451c"
    },
    {
      "cell_type": "code",
      "execution_count": null,
      "metadata": {
        "id": "da42260c"
      },
      "outputs": [],
      "source": [
        "class DeepAverageNetwork(nn.Module):\n",
        "    def __init__(self, vocab_size=100000, embeddings = None, emb_dim=300, hidden_size_1=128, n_classes=3):\n",
        "      super().__init__()\n",
        "\n",
        "      self.embeddings = nn.Embedding(vocab_size, emb_dim).from_pretrained(torch.Tensor(embeddings)) \n",
        "      self.lin_1 = nn.Linear(emb_dim, hidden_size_1)\n",
        "      self.bnorm = nn.BatchNorm1d(hidden_size_1)\n",
        "      self.relu = nn.ReLU()\n",
        "      self.lin_2 = nn.Linear(hidden_size_1, n_classes)\n",
        "\n",
        "    def forward(self, x):\n",
        "        \n",
        "        x = self.embeddings(x)\n",
        "        x = torch.mean(x, dim=1).float()\n",
        "        x = self.lin_1(x)\n",
        "        x = self.bnorm(x)\n",
        "        x = self.relu(x)\n",
        "        x = self.lin_2(x)\n",
        "        \n",
        "        return x      "
      ],
      "id": "da42260c"
    },
    {
      "cell_type": "code",
      "execution_count": null,
      "metadata": {
        "id": "7966f715"
      },
      "outputs": [],
      "source": [
        "model = DeepAverageNetwork(vocab_size=len(embeddings), embeddings = torch.Tensor(embeddings), emb_dim=len(embeddings[0]), n_classes=3)"
      ],
      "id": "7966f715"
    },
    {
      "cell_type": "code",
      "execution_count": null,
      "metadata": {
        "id": "4b4a2161",
        "colab": {
          "base_uri": "https://localhost:8080/"
        },
        "outputId": "283358c9-abe7-4683-d972-02790d1bb4ae"
      },
      "outputs": [
        {
          "output_type": "execute_result",
          "data": {
            "text/plain": [
              "DeepAverageNetwork(\n",
              "  (embeddings): Embedding(100000, 300)\n",
              "  (lin_1): Linear(in_features=300, out_features=128, bias=True)\n",
              "  (bnorm): BatchNorm1d(128, eps=1e-05, momentum=0.1, affine=True, track_running_stats=True)\n",
              "  (relu): ReLU()\n",
              "  (lin_2): Linear(in_features=128, out_features=3, bias=True)\n",
              ")"
            ]
          },
          "metadata": {},
          "execution_count": 29
        }
      ],
      "source": [
        "model"
      ],
      "id": "4b4a2161"
    },
    {
      "cell_type": "markdown",
      "metadata": {
        "id": "5efad1d1"
      },
      "source": [
        "## Задайте функцию потерь и оптимизатор"
      ],
      "id": "5efad1d1"
    },
    {
      "cell_type": "code",
      "execution_count": null,
      "metadata": {
        "id": "34c552fa",
        "colab": {
          "base_uri": "https://localhost:8080/"
        },
        "outputId": "0bb07961-5693-4daf-f784-c2a4c6670d4f"
      },
      "outputs": [
        {
          "output_type": "execute_result",
          "data": {
            "text/plain": [
              "CrossEntropyLoss()"
            ]
          },
          "metadata": {},
          "execution_count": 30
        }
      ],
      "source": [
        "device = torch.device('cuda' if torch.cuda.is_available() else 'cpu')  \n",
        "model.to(device)\n",
        "\n",
        "optimizer = torch.optim.Adam(params=model.parameters(), lr=0.0001)\n",
        "criterion = nn.CrossEntropyLoss()\n",
        "criterion.to(device)"
      ],
      "id": "34c552fa"
    },
    {
      "cell_type": "markdown",
      "metadata": {
        "id": "628847fe"
      },
      "source": [
        "## Сделайте цикл обучения"
      ],
      "id": "628847fe"
    },
    {
      "cell_type": "code",
      "source": [
        "def train(model, iterator, criterion, optimizer):\n",
        "  losses = []\n",
        "  y_true = []\n",
        "  y_pred = []\n",
        "\n",
        "  epoch_f1 = 0\n",
        "  print_every = 100\n",
        "\n",
        "  progress = tqdm(enumerate(iterator), total=len(iterator), desc=\"Training\")\n",
        "  for i, batch in progress:\n",
        "    text, label = batch[0], batch[1]\n",
        "\n",
        "    optimizer.zero_grad()   \n",
        "    pred = model(text.to(device)).squeeze()\n",
        "    loss = criterion(pred, label.to(device))\n",
        "    \n",
        "    loss.backward()\n",
        "    optimizer.step()\n",
        "        \n",
        "    pred = torch.argmax(pred, dim=1)\n",
        "    y_pred.extend(pred.tolist())\n",
        "    y_true.extend(label.tolist())\n",
        "    losses.append(loss.item())\n",
        "        \n",
        "    if not (i + 1) % print_every:\n",
        "      (f'Loss: {loss.item()}')\n",
        "    \n",
        "  epoch_f1 = f1_score(y_true, y_pred, average=\"weighted\")\n",
        "    \n",
        "  return losses, epoch_f1"
      ],
      "metadata": {
        "id": "_rYsHvEViL6A"
      },
      "id": "_rYsHvEViL6A",
      "execution_count": null,
      "outputs": []
    },
    {
      "cell_type": "code",
      "source": [
        "def evaluate(model, iterator, criterion, testing = False):\n",
        "  losses = []\n",
        "  y_true = []\n",
        "  y_pred = []\n",
        "\n",
        "  epoch_f1 = 0\n",
        "  print_every = 100\n",
        "\n",
        "  progress = tqdm(enumerate(iterator), total=len(iterator), desc=\"Validation\")\n",
        "  with torch.no_grad():\n",
        "    for i, batch in progress:\n",
        "      text, label = batch[0], batch[1]\n",
        "      pred = model(text.to(device)).squeeze()\n",
        "            \n",
        "      loss = criterion(pred, label.to(device))   \n",
        "      losses.append(loss.item())\n",
        "            \n",
        "      pred = torch.argmax(pred, dim=1)\n",
        "      y_pred.extend(pred.tolist())\n",
        "      y_true.extend(label.tolist())\n",
        "\n",
        "      if not (i + 1) % print_every:\n",
        "       print(f'Loss: {loss.item()}')\n",
        "    \n",
        "    epoch_f1 = f1_score(y_true, y_pred, average=\"weighted\")\n",
        "\n",
        "    if testing == True:\n",
        "      print('\\n', classification_report(y_true, y_pred))\n",
        "      print('Confusion matrix\\n', confusion_matrix(y_true, y_pred),'\\n')\n",
        "      plot_cm(y_true, y_pred)\n",
        "\n",
        "    return losses, epoch_f1"
      ],
      "metadata": {
        "id": "O0RbwLzqmoKj"
      },
      "id": "O0RbwLzqmoKj",
      "execution_count": null,
      "outputs": []
    },
    {
      "cell_type": "code",
      "execution_count": null,
      "metadata": {
        "id": "b634b9ce",
        "outputId": "a53aa91f-8c51-42e5-d4c8-8dd3daa66bfc",
        "colab": {
          "base_uri": "https://localhost:8080/"
        }
      },
      "outputs": [
        {
          "output_type": "stream",
          "name": "stdout",
          "text": [
            "Epoch 0 has started\n"
          ]
        },
        {
          "output_type": "stream",
          "name": "stderr",
          "text": [
            "Training: 100%|██████████| 357/357 [00:09<00:00, 38.88it/s]\n",
            "Validation: 100%|██████████| 16/16 [00:00<00:00, 40.89it/s]\n"
          ]
        },
        {
          "output_type": "stream",
          "name": "stdout",
          "text": [
            "Mean train loss: 0.9942602787365099, train F1-score: 0.45208612391851066\n",
            "Mean validation loss: 0.9852929301559925, validation F1-score: 0.45125618590207744\n",
            "\n",
            "Epoch 1 has started\n"
          ]
        },
        {
          "output_type": "stream",
          "name": "stderr",
          "text": [
            "Training: 100%|██████████| 357/357 [00:09<00:00, 38.20it/s]\n",
            "Validation: 100%|██████████| 16/16 [00:00<00:00, 41.90it/s]\n"
          ]
        },
        {
          "output_type": "stream",
          "name": "stdout",
          "text": [
            "Mean train loss: 0.9519135409376535, train F1-score: 0.4924079433012003\n",
            "Mean validation loss: 0.9651274867355824, validation F1-score: 0.4853374485537548\n",
            "\n",
            "Epoch 2 has started\n"
          ]
        },
        {
          "output_type": "stream",
          "name": "stderr",
          "text": [
            "Training: 100%|██████████| 357/357 [00:09<00:00, 38.63it/s]\n",
            "Validation: 100%|██████████| 16/16 [00:00<00:00, 41.67it/s]\n"
          ]
        },
        {
          "output_type": "stream",
          "name": "stdout",
          "text": [
            "Mean train loss: 0.9429630897626156, train F1-score: 0.5038356925648749\n",
            "Mean validation loss: 0.9672516100108624, validation F1-score: 0.4847918105602132\n",
            "\n",
            "Epoch 3 has started\n"
          ]
        },
        {
          "output_type": "stream",
          "name": "stderr",
          "text": [
            "Training: 100%|██████████| 357/357 [00:09<00:00, 38.27it/s]\n",
            "Validation: 100%|██████████| 16/16 [00:00<00:00, 41.69it/s]\n"
          ]
        },
        {
          "output_type": "stream",
          "name": "stdout",
          "text": [
            "Mean train loss: 0.934599492563253, train F1-score: 0.512724971784132\n",
            "Mean validation loss: 0.9543780088424683, validation F1-score: 0.49345258098004025\n",
            "\n",
            "Epoch 4 has started\n"
          ]
        },
        {
          "output_type": "stream",
          "name": "stderr",
          "text": [
            "Training: 100%|██████████| 357/357 [00:09<00:00, 36.55it/s]\n",
            "Validation: 100%|██████████| 16/16 [00:00<00:00, 41.28it/s]\n"
          ]
        },
        {
          "output_type": "stream",
          "name": "stdout",
          "text": [
            "Mean train loss: 0.9298672004908073, train F1-score: 0.5155036237543325\n",
            "Mean validation loss: 0.9532860741019249, validation F1-score: 0.5000462344254131\n",
            "\n",
            "Epoch 5 has started\n"
          ]
        },
        {
          "output_type": "stream",
          "name": "stderr",
          "text": [
            "Training: 100%|██████████| 357/357 [00:09<00:00, 38.95it/s]\n",
            "Validation: 100%|██████████| 16/16 [00:00<00:00, 39.68it/s]\n"
          ]
        },
        {
          "output_type": "stream",
          "name": "stdout",
          "text": [
            "Mean train loss: 0.9253230867933493, train F1-score: 0.520054913998949\n",
            "Mean validation loss: 0.9520931355655193, validation F1-score: 0.5070215688086847\n",
            "\n",
            "Epoch 6 has started\n"
          ]
        },
        {
          "output_type": "stream",
          "name": "stderr",
          "text": [
            "Training: 100%|██████████| 357/357 [00:09<00:00, 39.51it/s]\n",
            "Validation: 100%|██████████| 16/16 [00:00<00:00, 41.67it/s]\n"
          ]
        },
        {
          "output_type": "stream",
          "name": "stdout",
          "text": [
            "Mean train loss: 0.9208744887878247, train F1-score: 0.5248074855983409\n",
            "Mean validation loss: 0.9457684829831123, validation F1-score: 0.4985362991080391\n",
            "\n",
            "Epoch 7 has started\n"
          ]
        },
        {
          "output_type": "stream",
          "name": "stderr",
          "text": [
            "Training: 100%|██████████| 357/357 [00:09<00:00, 38.47it/s]\n",
            "Validation: 100%|██████████| 16/16 [00:00<00:00, 41.39it/s]\n"
          ]
        },
        {
          "output_type": "stream",
          "name": "stdout",
          "text": [
            "Mean train loss: 0.9191540401188933, train F1-score: 0.5259542198120221\n",
            "Mean validation loss: 0.9451108351349831, validation F1-score: 0.5135154511575954\n",
            "\n",
            "Epoch 8 has started\n"
          ]
        },
        {
          "output_type": "stream",
          "name": "stderr",
          "text": [
            "Training: 100%|██████████| 357/357 [00:09<00:00, 38.58it/s]\n",
            "Validation: 100%|██████████| 16/16 [00:00<00:00, 39.71it/s]\n"
          ]
        },
        {
          "output_type": "stream",
          "name": "stdout",
          "text": [
            "Mean train loss: 0.9167175127678558, train F1-score: 0.5292706822472831\n",
            "Mean validation loss: 0.9462711922824383, validation F1-score: 0.49454920327084256\n",
            "\n",
            "Epoch 9 has started\n"
          ]
        },
        {
          "output_type": "stream",
          "name": "stderr",
          "text": [
            "Training: 100%|██████████| 357/357 [00:09<00:00, 39.03it/s]\n",
            "Validation: 100%|██████████| 16/16 [00:00<00:00, 43.19it/s]\n"
          ]
        },
        {
          "output_type": "stream",
          "name": "stdout",
          "text": [
            "Mean train loss: 0.9125905504413679, train F1-score: 0.5295354621637242\n",
            "Mean validation loss: 0.9392400793731213, validation F1-score: 0.5041070740163157\n",
            "\n",
            "Epoch 10 has started\n"
          ]
        },
        {
          "output_type": "stream",
          "name": "stderr",
          "text": [
            "Training: 100%|██████████| 357/357 [00:09<00:00, 38.04it/s]\n",
            "Validation: 100%|██████████| 16/16 [00:00<00:00, 43.56it/s]\n"
          ]
        },
        {
          "output_type": "stream",
          "name": "stdout",
          "text": [
            "Mean train loss: 0.9112737452616545, train F1-score: 0.5307890070218902\n",
            "Mean validation loss: 0.9353252127766609, validation F1-score: 0.5079254806953242\n",
            "\n",
            "Epoch 11 has started\n"
          ]
        },
        {
          "output_type": "stream",
          "name": "stderr",
          "text": [
            "Training: 100%|██████████| 357/357 [00:09<00:00, 38.79it/s]\n",
            "Validation: 100%|██████████| 16/16 [00:00<00:00, 41.57it/s]\n"
          ]
        },
        {
          "output_type": "stream",
          "name": "stdout",
          "text": [
            "Mean train loss: 0.9077291194798232, train F1-score: 0.5358131086307883\n",
            "Mean validation loss: 0.9315781071782112, validation F1-score: 0.5061968688369453\n",
            "\n",
            "Epoch 12 has started\n"
          ]
        },
        {
          "output_type": "stream",
          "name": "stderr",
          "text": [
            "Training: 100%|██████████| 357/357 [00:09<00:00, 39.17it/s]\n",
            "Validation: 100%|██████████| 16/16 [00:00<00:00, 43.64it/s]\n"
          ]
        },
        {
          "output_type": "stream",
          "name": "stdout",
          "text": [
            "Mean train loss: 0.9092881868199474, train F1-score: 0.5349889683833667\n",
            "Mean validation loss: 0.9315928593277931, validation F1-score: 0.5039702916764087\n",
            "\n",
            "Epoch 13 has started\n"
          ]
        },
        {
          "output_type": "stream",
          "name": "stderr",
          "text": [
            "Training: 100%|██████████| 357/357 [00:09<00:00, 38.44it/s]\n",
            "Validation: 100%|██████████| 16/16 [00:00<00:00, 40.59it/s]\n"
          ]
        },
        {
          "output_type": "stream",
          "name": "stdout",
          "text": [
            "Mean train loss: 0.9067477615607553, train F1-score: 0.5365091600371835\n",
            "Mean validation loss: 0.9357059262692928, validation F1-score: 0.5096463711885976\n",
            "\n",
            "Epoch 14 has started\n"
          ]
        },
        {
          "output_type": "stream",
          "name": "stderr",
          "text": [
            "Training: 100%|██████████| 357/357 [00:09<00:00, 39.16it/s]\n",
            "Validation: 100%|██████████| 16/16 [00:00<00:00, 40.69it/s]"
          ]
        },
        {
          "output_type": "stream",
          "name": "stdout",
          "text": [
            "Mean train loss: 0.9044276218788296, train F1-score: 0.5365998098922825\n",
            "Mean validation loss: 0.9303303323686123, validation F1-score: 0.5137660888178758\n",
            "\n"
          ]
        },
        {
          "output_type": "stream",
          "name": "stderr",
          "text": [
            "\n"
          ]
        }
      ],
      "source": [
        "NUM_EPOCHS = 15\n",
        "\n",
        "total_loss_train = []\n",
        "total_loss_valid = []\n",
        "\n",
        "train_f1_scores = []\n",
        "valid_f1_scores = []\n",
        "\n",
        "for n_epoch in range(NUM_EPOCHS):\n",
        "  print(f\"Epoch {n_epoch} has started\")  \n",
        "  # train\n",
        "  train_losses, train_f1 = train(model=model, iterator=train_loader, criterion=criterion, optimizer=optimizer)\n",
        "\n",
        "  mean_train_loss = np.mean(train_losses)\n",
        "  total_loss_train.append(mean_train_loss)\n",
        "  train_f1_scores.append(train_f1)\n",
        "\n",
        "  # validation\n",
        "  \n",
        "  valid_losses, valid_f1 = evaluate(model=model, iterator=valid_loader, criterion=criterion)\n",
        "\n",
        "  mean_valid_loss = np.mean(valid_losses)\n",
        "  total_loss_valid.append(mean_valid_loss)\n",
        "  valid_f1_scores.append(valid_f1)\n",
        "\n",
        "  print(f\"Mean train loss: {mean_train_loss}, train F1-score: {train_f1}\")\n",
        "  print(f\"Mean validation loss: {mean_valid_loss}, validation F1-score: {valid_f1}\\n\")"
      ],
      "id": "b634b9ce"
    },
    {
      "cell_type": "code",
      "source": [
        "plt.figure(figsize=(7,4))\n",
        "plt.plot(np.arange(len(total_loss_train)), total_loss_train, label='Train')\n",
        "plt.plot(np.arange(len(total_loss_valid)), total_loss_valid, label='Valid')\n",
        "plt.xlabel('Epochs', fontsize=12)\n",
        "plt.ylabel('Loss', fontsize=12)\n",
        "plt.legend()\n",
        "plt.show()"
      ],
      "metadata": {
        "colab": {
          "base_uri": "https://localhost:8080/",
          "height": 282
        },
        "id": "Gsu7r-GYO4Vf",
        "outputId": "3225fed8-9ae7-4d17-c08c-be7f7996aaca"
      },
      "id": "Gsu7r-GYO4Vf",
      "execution_count": null,
      "outputs": [
        {
          "output_type": "display_data",
          "data": {
            "image/png": "[encoded data removed]",
            "text/plain": [
              "<Figure size 504x288 with 1 Axes>"
            ]
          },
          "metadata": {
            "needs_background": "light"
          }
        }
      ]
    },
    {
      "cell_type": "code",
      "source": [
        "plt.plot(np.arange(len(train_f1_scores)), train_f1_scores, label='Train')\n",
        "plt.plot(np.arange(len(valid_f1_scores)), valid_f1_scores, label='Valid')\n",
        "plt.xlabel('Epochs', fontsize=12)\n",
        "plt.ylabel('Weightged F1 scores', fontsize=12)\n",
        "plt.legend()\n",
        "plt.show()"
      ],
      "metadata": {
        "colab": {
          "base_uri": "https://localhost:8080/",
          "height": 284
        },
        "id": "SJAXCYZLPbk2",
        "outputId": "a9f13156-7519-47d2-cef8-566f50ac6802"
      },
      "id": "SJAXCYZLPbk2",
      "execution_count": null,
      "outputs": [
        {
          "output_type": "display_data",
          "data": {
            "image/png": "[encoded data removed]",
            "text/plain": [
              "<Figure size 432x288 with 1 Axes>"
            ]
          },
          "metadata": {
            "needs_background": "light"
          }
        }
      ]
    },
    {
      "cell_type": "code",
      "source": [
        "import seaborn as sns\n",
        "\n",
        "def plot_cm(y_true, y_pred):\n",
        "  c_matrix = confusion_matrix(y_true, y_pred)\n",
        "  ax = sns.heatmap(c_matrix/np.sum(c_matrix), annot=True, fmt='.2%', cmap='Blues')\n",
        "\n",
        "  ax.set_title('Seaborn Confusion Matrix with labels\\n\\n');\n",
        "  ax.set_xlabel('\\nPredicted Values')\n",
        "  ax.set_ylabel('True Values ');\n",
        "\n",
        "  ## Ticket labels - List must be in alphabetical order\n",
        "  ax.xaxis.set_ticklabels(['Negative','Neutral', 'Positive'])\n",
        "  ax.yaxis.set_ticklabels(['Negative','Neutral', 'Positive'])\n",
        "\n",
        "  plt.show()"
      ],
      "metadata": {
        "id": "IdG6vw1IlGNP"
      },
      "id": "IdG6vw1IlGNP",
      "execution_count": null,
      "outputs": []
    },
    {
      "cell_type": "code",
      "source": [
        "_, test_f1 = evaluate(model=model, iterator=test_loader, criterion=criterion, testing=True)"
      ],
      "metadata": {
        "colab": {
          "base_uri": "https://localhost:8080/",
          "height": 632
        },
        "id": "q7BKC0jUQb-h",
        "outputId": "4f877dad-182b-47c4-f8a9-fd9bd34f7e6e"
      },
      "id": "q7BKC0jUQb-h",
      "execution_count": null,
      "outputs": [
        {
          "output_type": "stream",
          "name": "stderr",
          "text": [
            "Validation: 100%|██████████| 96/96 [00:02<00:00, 41.59it/s]\n"
          ]
        },
        {
          "output_type": "stream",
          "name": "stdout",
          "text": [
            "\n",
            "               precision    recall  f1-score   support\n",
            "\n",
            "           0       0.62      0.05      0.09      3972\n",
            "           1       0.56      0.74      0.64      5937\n",
            "           2       0.33      0.56      0.42      2375\n",
            "\n",
            "    accuracy                           0.48     12284\n",
            "   macro avg       0.50      0.45      0.38     12284\n",
            "weighted avg       0.53      0.48      0.42     12284\n",
            "\n",
            "Confusion matrix\n",
            " [[ 204 2491 1277]\n",
            " [ 107 4399 1431]\n",
            " [  16 1020 1339]] \n",
            "\n"
          ]
        },
        {
          "output_type": "display_data",
          "data": {
            "image/png": "[encoded data removed]",
            "text/plain": [
              "<Figure size 432x288 with 2 Axes>"
            ]
          },
          "metadata": {
            "needs_background": "light"
          }
        }
      ]
    },
    {
      "cell_type": "markdown",
      "metadata": {
        "id": "87583e79"
      },
      "source": [
        "# Выводы\n",
        "Напишите небольшой отчет о проделанной работе. Что удалось, в чем не уверены, что делать дальше."
      ],
      "id": "87583e79"
    },
    {
      "cell_type": "markdown",
      "source": [
        "Был реализован перцептрон. На тренировочных данных наблюдается снижение loss, то есть модель обучалась, что уже хорошо, хотя обучилась она не очень. Лучше всего распознается класс Neutral, который в большом количестве представлен во всех подвыборках.\n",
        "\n",
        "Я не уверена насчет слоев в модели, возможно, можно подобрать более эффективную их комбинацию. Я пробовала разные варианты с точки зрения их порядка, количества, рассматривала разные функции активации и размеры скрытого слоя. Также для улучшения модели можно было бы попробовать добавить Dropout, early stopping (для отлова переобучения), и получше потьюнить такие параметры, как lr или hidden size."
      ],
      "metadata": {
        "id": "vDWwE1G5t0vo"
      },
      "id": "vDWwE1G5t0vo"
    },
    {
      "cell_type": "code",
      "execution_count": null,
      "metadata": {
        "id": "c3ad7f80"
      },
      "outputs": [],
      "source": [
        ""
      ],
      "id": "c3ad7f80"
    }
  ],
  "metadata": {
    "colab": {
      "collapsed_sections": [
        "ad4a0650",
        "e9012ae5"
      ],
      "name": "DAN Task_2version.ipynb",
      "provenance": []
    },
    "kernelspec": {
      "display_name": "Python 3",
      "language": "python",
      "name": "python3"
    },
    "language_info": {
      "codemirror_mode": {
        "name": "ipython",
        "version": 3
      },
      "file_extension": ".py",
      "mimetype": "text/x-python",
      "name": "python",
      "nbconvert_exporter": "python",
      "pygments_lexer": "ipython3",
      "version": "3.8.10"
    },
    "widgets": {
      "application/vnd.jupyter.widget-state+json": {
        "324c4ae71e73403887034403a2ac5c60": {
          "model_module": "@jupyter-widgets/controls",
          "model_name": "HBoxModel",
          "model_module_version": "1.5.0",
          "state": {
            "_view_name": "HBoxView",
            "_dom_classes": [],
            "_model_name": "HBoxModel",
            "_view_module": "@jupyter-widgets/controls",
            "_model_module_version": "1.5.0",
            "_view_count": null,
            "_view_module_version": "1.5.0",
            "box_style": "",
            "layout": "IPY_MODEL_0dea60d39988435aafd34d9dad6cd3f7",
            "_model_module": "@jupyter-widgets/controls",
            "children": [
              "IPY_MODEL_8e685f8840974a3da3c9ada409ad5694",
              "IPY_MODEL_a7bcde506969400eb3c6311784c16223",
              "IPY_MODEL_4f91099b9f3a4da79272cea5659eec2d"
            ]
          }
        },
        "0dea60d39988435aafd34d9dad6cd3f7": {
          "model_module": "@jupyter-widgets/base",
          "model_name": "LayoutModel",
          "model_module_version": "1.2.0",
          "state": {
            "_view_name": "LayoutView",
            "grid_template_rows": null,
            "right": null,
            "justify_content": null,
            "_view_module": "@jupyter-widgets/base",
            "overflow": null,
            "_model_module_version": "1.2.0",
            "_view_count": null,
            "flex_flow": null,
            "width": null,
            "min_width": null,
            "border": null,
            "align_items": null,
            "bottom": null,
            "_model_module": "@jupyter-widgets/base",
            "top": null,
            "grid_column": null,
            "overflow_y": null,
            "overflow_x": null,
            "grid_auto_flow": null,
            "grid_area": null,
            "grid_template_columns": null,
            "flex": null,
            "_model_name": "LayoutModel",
            "justify_items": null,
            "grid_row": null,
            "max_height": null,
            "align_content": null,
            "visibility": null,
            "align_self": null,
            "height": null,
            "min_height": null,
            "padding": null,
            "grid_auto_rows": null,
            "grid_gap": null,
            "max_width": null,
            "order": null,
            "_view_module_version": "1.2.0",
            "grid_template_areas": null,
            "object_position": null,
            "object_fit": null,
            "grid_auto_columns": null,
            "margin": null,
            "display": null,
            "left": null
          }
        },
        "8e685f8840974a3da3c9ada409ad5694": {
          "model_module": "@jupyter-widgets/controls",
          "model_name": "HTMLModel",
          "model_module_version": "1.5.0",
          "state": {
            "_view_name": "HTMLView",
            "style": "IPY_MODEL_79f0e264a36f4bcba034a16614f0ce22",
            "_dom_classes": [],
            "description": "",
            "_model_name": "HTMLModel",
            "placeholder": "​",
            "_view_module": "@jupyter-widgets/controls",
            "_model_module_version": "1.5.0",
            "value": "Downloading: ",
            "_view_count": null,
            "_view_module_version": "1.5.0",
            "description_tooltip": null,
            "_model_module": "@jupyter-widgets/controls",
            "layout": "IPY_MODEL_1a40017a9a954a8ba97d913bf6c63f51"
          }
        },
        "a7bcde506969400eb3c6311784c16223": {
          "model_module": "@jupyter-widgets/controls",
          "model_name": "FloatProgressModel",
          "model_module_version": "1.5.0",
          "state": {
            "_view_name": "ProgressView",
            "style": "IPY_MODEL_9b260b39d87142bfa730cc69cc5b56e7",
            "_dom_classes": [],
            "description": "",
            "_model_name": "FloatProgressModel",
            "bar_style": "success",
            "max": 2368,
            "_view_module": "@jupyter-widgets/controls",
            "_model_module_version": "1.5.0",
            "value": 2368,
            "_view_count": null,
            "_view_module_version": "1.5.0",
            "orientation": "horizontal",
            "min": 0,
            "description_tooltip": null,
            "_model_module": "@jupyter-widgets/controls",
            "layout": "IPY_MODEL_d5088d08c17147c493906039c454f7ab"
          }
        },
        "4f91099b9f3a4da79272cea5659eec2d": {
          "model_module": "@jupyter-widgets/controls",
          "model_name": "HTMLModel",
          "model_module_version": "1.5.0",
          "state": {
            "_view_name": "HTMLView",
            "style": "IPY_MODEL_4a7d16b018f0431c9d9199d53c44f3f9",
            "_dom_classes": [],
            "description": "",
            "_model_name": "HTMLModel",
            "placeholder": "​",
            "_view_module": "@jupyter-widgets/controls",
            "_model_module_version": "1.5.0",
            "value": " 9.72k/? [00:00&lt;00:00, 178kB/s]",
            "_view_count": null,
            "_view_module_version": "1.5.0",
            "description_tooltip": null,
            "_model_module": "@jupyter-widgets/controls",
            "layout": "IPY_MODEL_0064acbc3f8444f3b3bce48614c55c0c"
          }
        },
        "79f0e264a36f4bcba034a16614f0ce22": {
          "model_module": "@jupyter-widgets/controls",
          "model_name": "DescriptionStyleModel",
          "model_module_version": "1.5.0",
          "state": {
            "_view_name": "StyleView",
            "_model_name": "DescriptionStyleModel",
            "description_width": "",
            "_view_module": "@jupyter-widgets/base",
            "_model_module_version": "1.5.0",
            "_view_count": null,
            "_view_module_version": "1.2.0",
            "_model_module": "@jupyter-widgets/controls"
          }
        },
        "1a40017a9a954a8ba97d913bf6c63f51": {
          "model_module": "@jupyter-widgets/base",
          "model_name": "LayoutModel",
          "model_module_version": "1.2.0",
          "state": {
            "_view_name": "LayoutView",
            "grid_template_rows": null,
            "right": null,
            "justify_content": null,
            "_view_module": "@jupyter-widgets/base",
            "overflow": null,
            "_model_module_version": "1.2.0",
            "_view_count": null,
            "flex_flow": null,
            "width": null,
            "min_width": null,
            "border": null,
            "align_items": null,
            "bottom": null,
            "_model_module": "@jupyter-widgets/base",
            "top": null,
            "grid_column": null,
            "overflow_y": null,
            "overflow_x": null,
            "grid_auto_flow": null,
            "grid_area": null,
            "grid_template_columns": null,
            "flex": null,
            "_model_name": "LayoutModel",
            "justify_items": null,
            "grid_row": null,
            "max_height": null,
            "align_content": null,
            "visibility": null,
            "align_self": null,
            "height": null,
            "min_height": null,
            "padding": null,
            "grid_auto_rows": null,
            "grid_gap": null,
            "max_width": null,
            "order": null,
            "_view_module_version": "1.2.0",
            "grid_template_areas": null,
            "object_position": null,
            "object_fit": null,
            "grid_auto_columns": null,
            "margin": null,
            "display": null,
            "left": null
          }
        },
        "9b260b39d87142bfa730cc69cc5b56e7": {
          "model_module": "@jupyter-widgets/controls",
          "model_name": "ProgressStyleModel",
          "model_module_version": "1.5.0",
          "state": {
            "_view_name": "StyleView",
            "_model_name": "ProgressStyleModel",
            "description_width": "",
            "_view_module": "@jupyter-widgets/base",
            "_model_module_version": "1.5.0",
            "_view_count": null,
            "_view_module_version": "1.2.0",
            "bar_color": null,
            "_model_module": "@jupyter-widgets/controls"
          }
        },
        "d5088d08c17147c493906039c454f7ab": {
          "model_module": "@jupyter-widgets/base",
          "model_name": "LayoutModel",
          "model_module_version": "1.2.0",
          "state": {
            "_view_name": "LayoutView",
            "grid_template_rows": null,
            "right": null,
            "justify_content": null,
            "_view_module": "@jupyter-widgets/base",
            "overflow": null,
            "_model_module_version": "1.2.0",
            "_view_count": null,
            "flex_flow": null,
            "width": null,
            "min_width": null,
            "border": null,
            "align_items": null,
            "bottom": null,
            "_model_module": "@jupyter-widgets/base",
            "top": null,
            "grid_column": null,
            "overflow_y": null,
            "overflow_x": null,
            "grid_auto_flow": null,
            "grid_area": null,
            "grid_template_columns": null,
            "flex": null,
            "_model_name": "LayoutModel",
            "justify_items": null,
            "grid_row": null,
            "max_height": null,
            "align_content": null,
            "visibility": null,
            "align_self": null,
            "height": null,
            "min_height": null,
            "padding": null,
            "grid_auto_rows": null,
            "grid_gap": null,
            "max_width": null,
            "order": null,
            "_view_module_version": "1.2.0",
            "grid_template_areas": null,
            "object_position": null,
            "object_fit": null,
            "grid_auto_columns": null,
            "margin": null,
            "display": null,
            "left": null
          }
        },
        "4a7d16b018f0431c9d9199d53c44f3f9": {
          "model_module": "@jupyter-widgets/controls",
          "model_name": "DescriptionStyleModel",
          "model_module_version": "1.5.0",
          "state": {
            "_view_name": "StyleView",
            "_model_name": "DescriptionStyleModel",
            "description_width": "",
            "_view_module": "@jupyter-widgets/base",
            "_model_module_version": "1.5.0",
            "_view_count": null,
            "_view_module_version": "1.2.0",
            "_model_module": "@jupyter-widgets/controls"
          }
        },
        "0064acbc3f8444f3b3bce48614c55c0c": {
          "model_module": "@jupyter-widgets/base",
          "model_name": "LayoutModel",
          "model_module_version": "1.2.0",
          "state": {
            "_view_name": "LayoutView",
            "grid_template_rows": null,
            "right": null,
            "justify_content": null,
            "_view_module": "@jupyter-widgets/base",
            "overflow": null,
            "_model_module_version": "1.2.0",
            "_view_count": null,
            "flex_flow": null,
            "width": null,
            "min_width": null,
            "border": null,
            "align_items": null,
            "bottom": null,
            "_model_module": "@jupyter-widgets/base",
            "top": null,
            "grid_column": null,
            "overflow_y": null,
            "overflow_x": null,
            "grid_auto_flow": null,
            "grid_area": null,
            "grid_template_columns": null,
            "flex": null,
            "_model_name": "LayoutModel",
            "justify_items": null,
            "grid_row": null,
            "max_height": null,
            "align_content": null,
            "visibility": null,
            "align_self": null,
            "height": null,
            "min_height": null,
            "padding": null,
            "grid_auto_rows": null,
            "grid_gap": null,
            "max_width": null,
            "order": null,
            "_view_module_version": "1.2.0",
            "grid_template_areas": null,
            "object_position": null,
            "object_fit": null,
            "grid_auto_columns": null,
            "margin": null,
            "display": null,
            "left": null
          }
        },
        "8efc82c332504d70a200ef6c581602a6": {
          "model_module": "@jupyter-widgets/controls",
          "model_name": "HBoxModel",
          "model_module_version": "1.5.0",
          "state": {
            "_view_name": "HBoxView",
            "_dom_classes": [],
            "_model_name": "HBoxModel",
            "_view_module": "@jupyter-widgets/controls",
            "_model_module_version": "1.5.0",
            "_view_count": null,
            "_view_module_version": "1.5.0",
            "box_style": "",
            "layout": "IPY_MODEL_836cb31cc50a4d06ab0604d6423ccf0a",
            "_model_module": "@jupyter-widgets/controls",
            "children": [
              "IPY_MODEL_602b90028d30493dba440785d55b8110",
              "IPY_MODEL_3638353e930545e181a669caa9464edf",
              "IPY_MODEL_6c0188b99c514d919a1c46a3826b8567"
            ]
          }
        },
        "836cb31cc50a4d06ab0604d6423ccf0a": {
          "model_module": "@jupyter-widgets/base",
          "model_name": "LayoutModel",
          "model_module_version": "1.2.0",
          "state": {
            "_view_name": "LayoutView",
            "grid_template_rows": null,
            "right": null,
            "justify_content": null,
            "_view_module": "@jupyter-widgets/base",
            "overflow": null,
            "_model_module_version": "1.2.0",
            "_view_count": null,
            "flex_flow": null,
            "width": null,
            "min_width": null,
            "border": null,
            "align_items": null,
            "bottom": null,
            "_model_module": "@jupyter-widgets/base",
            "top": null,
            "grid_column": null,
            "overflow_y": null,
            "overflow_x": null,
            "grid_auto_flow": null,
            "grid_area": null,
            "grid_template_columns": null,
            "flex": null,
            "_model_name": "LayoutModel",
            "justify_items": null,
            "grid_row": null,
            "max_height": null,
            "align_content": null,
            "visibility": null,
            "align_self": null,
            "height": null,
            "min_height": null,
            "padding": null,
            "grid_auto_rows": null,
            "grid_gap": null,
            "max_width": null,
            "order": null,
            "_view_module_version": "1.2.0",
            "grid_template_areas": null,
            "object_position": null,
            "object_fit": null,
            "grid_auto_columns": null,
            "margin": null,
            "display": null,
            "left": null
          }
        },
        "602b90028d30493dba440785d55b8110": {
          "model_module": "@jupyter-widgets/controls",
          "model_name": "HTMLModel",
          "model_module_version": "1.5.0",
          "state": {
            "_view_name": "HTMLView",
            "style": "IPY_MODEL_41552d8b3145402e815a4448d59725a6",
            "_dom_classes": [],
            "description": "",
            "_model_name": "HTMLModel",
            "placeholder": "​",
            "_view_module": "@jupyter-widgets/controls",
            "_model_module_version": "1.5.0",
            "value": "Downloading: ",
            "_view_count": null,
            "_view_module_version": "1.5.0",
            "description_tooltip": null,
            "_model_module": "@jupyter-widgets/controls",
            "layout": "IPY_MODEL_13a412a3c7de4e999e72ea13200a929b"
          }
        },
        "3638353e930545e181a669caa9464edf": {
          "model_module": "@jupyter-widgets/controls",
          "model_name": "FloatProgressModel",
          "model_module_version": "1.5.0",
          "state": {
            "_view_name": "ProgressView",
            "style": "IPY_MODEL_234430e7139e405b834ce651e32ec1d4",
            "_dom_classes": [],
            "description": "",
            "_model_name": "FloatProgressModel",
            "bar_style": "success",
            "max": 5173,
            "_view_module": "@jupyter-widgets/controls",
            "_model_module_version": "1.5.0",
            "value": 5173,
            "_view_count": null,
            "_view_module_version": "1.5.0",
            "orientation": "horizontal",
            "min": 0,
            "description_tooltip": null,
            "_model_module": "@jupyter-widgets/controls",
            "layout": "IPY_MODEL_aa04aea057604fb7b72c58916797f426"
          }
        },
        "6c0188b99c514d919a1c46a3826b8567": {
          "model_module": "@jupyter-widgets/controls",
          "model_name": "HTMLModel",
          "model_module_version": "1.5.0",
          "state": {
            "_view_name": "HTMLView",
            "style": "IPY_MODEL_9a710bdc579b40cda11cf0d7257caa4d",
            "_dom_classes": [],
            "description": "",
            "_model_name": "HTMLModel",
            "placeholder": "​",
            "_view_module": "@jupyter-widgets/controls",
            "_model_module_version": "1.5.0",
            "value": " 30.4k/? [00:00&lt;00:00, 562kB/s]",
            "_view_count": null,
            "_view_module_version": "1.5.0",
            "description_tooltip": null,
            "_model_module": "@jupyter-widgets/controls",
            "layout": "IPY_MODEL_c6c20eb099d44079bf4b892c4caa3a9b"
          }
        },
        "41552d8b3145402e815a4448d59725a6": {
          "model_module": "@jupyter-widgets/controls",
          "model_name": "DescriptionStyleModel",
          "model_module_version": "1.5.0",
          "state": {
            "_view_name": "StyleView",
            "_model_name": "DescriptionStyleModel",
            "description_width": "",
            "_view_module": "@jupyter-widgets/base",
            "_model_module_version": "1.5.0",
            "_view_count": null,
            "_view_module_version": "1.2.0",
            "_model_module": "@jupyter-widgets/controls"
          }
        },
        "13a412a3c7de4e999e72ea13200a929b": {
          "model_module": "@jupyter-widgets/base",
          "model_name": "LayoutModel",
          "model_module_version": "1.2.0",
          "state": {
            "_view_name": "LayoutView",
            "grid_template_rows": null,
            "right": null,
            "justify_content": null,
            "_view_module": "@jupyter-widgets/base",
            "overflow": null,
            "_model_module_version": "1.2.0",
            "_view_count": null,
            "flex_flow": null,
            "width": null,
            "min_width": null,
            "border": null,
            "align_items": null,
            "bottom": null,
            "_model_module": "@jupyter-widgets/base",
            "top": null,
            "grid_column": null,
            "overflow_y": null,
            "overflow_x": null,
            "grid_auto_flow": null,
            "grid_area": null,
            "grid_template_columns": null,
            "flex": null,
            "_model_name": "LayoutModel",
            "justify_items": null,
            "grid_row": null,
            "max_height": null,
            "align_content": null,
            "visibility": null,
            "align_self": null,
            "height": null,
            "min_height": null,
            "padding": null,
            "grid_auto_rows": null,
            "grid_gap": null,
            "max_width": null,
            "order": null,
            "_view_module_version": "1.2.0",
            "grid_template_areas": null,
            "object_position": null,
            "object_fit": null,
            "grid_auto_columns": null,
            "margin": null,
            "display": null,
            "left": null
          }
        },
        "234430e7139e405b834ce651e32ec1d4": {
          "model_module": "@jupyter-widgets/controls",
          "model_name": "ProgressStyleModel",
          "model_module_version": "1.5.0",
          "state": {
            "_view_name": "StyleView",
            "_model_name": "ProgressStyleModel",
            "description_width": "",
            "_view_module": "@jupyter-widgets/base",
            "_model_module_version": "1.5.0",
            "_view_count": null,
            "_view_module_version": "1.2.0",
            "bar_color": null,
            "_model_module": "@jupyter-widgets/controls"
          }
        },
        "aa04aea057604fb7b72c58916797f426": {
          "model_module": "@jupyter-widgets/base",
          "model_name": "LayoutModel",
          "model_module_version": "1.2.0",
          "state": {
            "_view_name": "LayoutView",
            "grid_template_rows": null,
            "right": null,
            "justify_content": null,
            "_view_module": "@jupyter-widgets/base",
            "overflow": null,
            "_model_module_version": "1.2.0",
            "_view_count": null,
            "flex_flow": null,
            "width": null,
            "min_width": null,
            "border": null,
            "align_items": null,
            "bottom": null,
            "_model_module": "@jupyter-widgets/base",
            "top": null,
            "grid_column": null,
            "overflow_y": null,
            "overflow_x": null,
            "grid_auto_flow": null,
            "grid_area": null,
            "grid_template_columns": null,
            "flex": null,
            "_model_name": "LayoutModel",
            "justify_items": null,
            "grid_row": null,
            "max_height": null,
            "align_content": null,
            "visibility": null,
            "align_self": null,
            "height": null,
            "min_height": null,
            "padding": null,
            "grid_auto_rows": null,
            "grid_gap": null,
            "max_width": null,
            "order": null,
            "_view_module_version": "1.2.0",
            "grid_template_areas": null,
            "object_position": null,
            "object_fit": null,
            "grid_auto_columns": null,
            "margin": null,
            "display": null,
            "left": null
          }
        },
        "9a710bdc579b40cda11cf0d7257caa4d": {
          "model_module": "@jupyter-widgets/controls",
          "model_name": "DescriptionStyleModel",
          "model_module_version": "1.5.0",
          "state": {
            "_view_name": "StyleView",
            "_model_name": "DescriptionStyleModel",
            "description_width": "",
            "_view_module": "@jupyter-widgets/base",
            "_model_module_version": "1.5.0",
            "_view_count": null,
            "_view_module_version": "1.2.0",
            "_model_module": "@jupyter-widgets/controls"
          }
        },
        "c6c20eb099d44079bf4b892c4caa3a9b": {
          "model_module": "@jupyter-widgets/base",
          "model_name": "LayoutModel",
          "model_module_version": "1.2.0",
          "state": {
            "_view_name": "LayoutView",
            "grid_template_rows": null,
            "right": null,
            "justify_content": null,
            "_view_module": "@jupyter-widgets/base",
            "overflow": null,
            "_model_module_version": "1.2.0",
            "_view_count": null,
            "flex_flow": null,
            "width": null,
            "min_width": null,
            "border": null,
            "align_items": null,
            "bottom": null,
            "_model_module": "@jupyter-widgets/base",
            "top": null,
            "grid_column": null,
            "overflow_y": null,
            "overflow_x": null,
            "grid_auto_flow": null,
            "grid_area": null,
            "grid_template_columns": null,
            "flex": null,
            "_model_name": "LayoutModel",
            "justify_items": null,
            "grid_row": null,
            "max_height": null,
            "align_content": null,
            "visibility": null,
            "align_self": null,
            "height": null,
            "min_height": null,
            "padding": null,
            "grid_auto_rows": null,
            "grid_gap": null,
            "max_width": null,
            "order": null,
            "_view_module_version": "1.2.0",
            "grid_template_areas": null,
            "object_position": null,
            "object_fit": null,
            "grid_auto_columns": null,
            "margin": null,
            "display": null,
            "left": null
          }
        },
        "6d320d75ec464b398708872f08eaafe3": {
          "model_module": "@jupyter-widgets/controls",
          "model_name": "HBoxModel",
          "model_module_version": "1.5.0",
          "state": {
            "_view_name": "HBoxView",
            "_dom_classes": [],
            "_model_name": "HBoxModel",
            "_view_module": "@jupyter-widgets/controls",
            "_model_module_version": "1.5.0",
            "_view_count": null,
            "_view_module_version": "1.5.0",
            "box_style": "",
            "layout": "IPY_MODEL_3dc8d937c1814663ace7f3ec57e58663",
            "_model_module": "@jupyter-widgets/controls",
            "children": [
              "IPY_MODEL_1e0b4fafa5f146eca6b8b089359a34f4",
              "IPY_MODEL_80593e7dd50b49418d6040de584e5238",
              "IPY_MODEL_51401f2d6fb9461b93d02dad3c87a51c"
            ]
          }
        },
        "3dc8d937c1814663ace7f3ec57e58663": {
          "model_module": "@jupyter-widgets/base",
          "model_name": "LayoutModel",
          "model_module_version": "1.2.0",
          "state": {
            "_view_name": "LayoutView",
            "grid_template_rows": null,
            "right": null,
            "justify_content": null,
            "_view_module": "@jupyter-widgets/base",
            "overflow": null,
            "_model_module_version": "1.2.0",
            "_view_count": null,
            "flex_flow": null,
            "width": null,
            "min_width": null,
            "border": null,
            "align_items": null,
            "bottom": null,
            "_model_module": "@jupyter-widgets/base",
            "top": null,
            "grid_column": null,
            "overflow_y": null,
            "overflow_x": null,
            "grid_auto_flow": null,
            "grid_area": null,
            "grid_template_columns": null,
            "flex": null,
            "_model_name": "LayoutModel",
            "justify_items": null,
            "grid_row": null,
            "max_height": null,
            "align_content": null,
            "visibility": null,
            "align_self": null,
            "height": null,
            "min_height": null,
            "padding": null,
            "grid_auto_rows": null,
            "grid_gap": null,
            "max_width": null,
            "order": null,
            "_view_module_version": "1.2.0",
            "grid_template_areas": null,
            "object_position": null,
            "object_fit": null,
            "grid_auto_columns": null,
            "margin": null,
            "display": null,
            "left": null
          }
        },
        "1e0b4fafa5f146eca6b8b089359a34f4": {
          "model_module": "@jupyter-widgets/controls",
          "model_name": "HTMLModel",
          "model_module_version": "1.5.0",
          "state": {
            "_view_name": "HTMLView",
            "style": "IPY_MODEL_fd291be5910b458686c5563b04fd91c3",
            "_dom_classes": [],
            "description": "",
            "_model_name": "HTMLModel",
            "placeholder": "​",
            "_view_module": "@jupyter-widgets/controls",
            "_model_module_version": "1.5.0",
            "value": "100%",
            "_view_count": null,
            "_view_module_version": "1.5.0",
            "description_tooltip": null,
            "_model_module": "@jupyter-widgets/controls",
            "layout": "IPY_MODEL_b20f54de34004f53b62af8db63b7ef97"
          }
        },
        "80593e7dd50b49418d6040de584e5238": {
          "model_module": "@jupyter-widgets/controls",
          "model_name": "FloatProgressModel",
          "model_module_version": "1.5.0",
          "state": {
            "_view_name": "ProgressView",
            "style": "IPY_MODEL_c31d6f0cf6994b6fbc1142ab59d14974",
            "_dom_classes": [],
            "description": "",
            "_model_name": "FloatProgressModel",
            "bar_style": "success",
            "max": 6,
            "_view_module": "@jupyter-widgets/controls",
            "_model_module_version": "1.5.0",
            "value": 6,
            "_view_count": null,
            "_view_module_version": "1.5.0",
            "orientation": "horizontal",
            "min": 0,
            "description_tooltip": null,
            "_model_module": "@jupyter-widgets/controls",
            "layout": "IPY_MODEL_2c8cf141c9ab414dbf62397c8e113ec4"
          }
        },
        "51401f2d6fb9461b93d02dad3c87a51c": {
          "model_module": "@jupyter-widgets/controls",
          "model_name": "HTMLModel",
          "model_module_version": "1.5.0",
          "state": {
            "_view_name": "HTMLView",
            "style": "IPY_MODEL_10ce75368ec2463c9464ffa00775973c",
            "_dom_classes": [],
            "description": "",
            "_model_name": "HTMLModel",
            "placeholder": "​",
            "_view_module": "@jupyter-widgets/controls",
            "_model_module_version": "1.5.0",
            "value": " 6/6 [00:02&lt;00:00,  3.58it/s]",
            "_view_count": null,
            "_view_module_version": "1.5.0",
            "description_tooltip": null,
            "_model_module": "@jupyter-widgets/controls",
            "layout": "IPY_MODEL_e08ae1243f5b44238632bd32dd776733"
          }
        },
        "fd291be5910b458686c5563b04fd91c3": {
          "model_module": "@jupyter-widgets/controls",
          "model_name": "DescriptionStyleModel",
          "model_module_version": "1.5.0",
          "state": {
            "_view_name": "StyleView",
            "_model_name": "DescriptionStyleModel",
            "description_width": "",
            "_view_module": "@jupyter-widgets/base",
            "_model_module_version": "1.5.0",
            "_view_count": null,
            "_view_module_version": "1.2.0",
            "_model_module": "@jupyter-widgets/controls"
          }
        },
        "b20f54de34004f53b62af8db63b7ef97": {
          "model_module": "@jupyter-widgets/base",
          "model_name": "LayoutModel",
          "model_module_version": "1.2.0",
          "state": {
            "_view_name": "LayoutView",
            "grid_template_rows": null,
            "right": null,
            "justify_content": null,
            "_view_module": "@jupyter-widgets/base",
            "overflow": null,
            "_model_module_version": "1.2.0",
            "_view_count": null,
            "flex_flow": null,
            "width": null,
            "min_width": null,
            "border": null,
            "align_items": null,
            "bottom": null,
            "_model_module": "@jupyter-widgets/base",
            "top": null,
            "grid_column": null,
            "overflow_y": null,
            "overflow_x": null,
            "grid_auto_flow": null,
            "grid_area": null,
            "grid_template_columns": null,
            "flex": null,
            "_model_name": "LayoutModel",
            "justify_items": null,
            "grid_row": null,
            "max_height": null,
            "align_content": null,
            "visibility": null,
            "align_self": null,
            "height": null,
            "min_height": null,
            "padding": null,
            "grid_auto_rows": null,
            "grid_gap": null,
            "max_width": null,
            "order": null,
            "_view_module_version": "1.2.0",
            "grid_template_areas": null,
            "object_position": null,
            "object_fit": null,
            "grid_auto_columns": null,
            "margin": null,
            "display": null,
            "left": null
          }
        },
        "c31d6f0cf6994b6fbc1142ab59d14974": {
          "model_module": "@jupyter-widgets/controls",
          "model_name": "ProgressStyleModel",
          "model_module_version": "1.5.0",
          "state": {
            "_view_name": "StyleView",
            "_model_name": "ProgressStyleModel",
            "description_width": "",
            "_view_module": "@jupyter-widgets/base",
            "_model_module_version": "1.5.0",
            "_view_count": null,
            "_view_module_version": "1.2.0",
            "bar_color": null,
            "_model_module": "@jupyter-widgets/controls"
          }
        },
        "2c8cf141c9ab414dbf62397c8e113ec4": {
          "model_module": "@jupyter-widgets/base",
          "model_name": "LayoutModel",
          "model_module_version": "1.2.0",
          "state": {
            "_view_name": "LayoutView",
            "grid_template_rows": null,
            "right": null,
            "justify_content": null,
            "_view_module": "@jupyter-widgets/base",
            "overflow": null,
            "_model_module_version": "1.2.0",
            "_view_count": null,
            "flex_flow": null,
            "width": null,
            "min_width": null,
            "border": null,
            "align_items": null,
            "bottom": null,
            "_model_module": "@jupyter-widgets/base",
            "top": null,
            "grid_column": null,
            "overflow_y": null,
            "overflow_x": null,
            "grid_auto_flow": null,
            "grid_area": null,
            "grid_template_columns": null,
            "flex": null,
            "_model_name": "LayoutModel",
            "justify_items": null,
            "grid_row": null,
            "max_height": null,
            "align_content": null,
            "visibility": null,
            "align_self": null,
            "height": null,
            "min_height": null,
            "padding": null,
            "grid_auto_rows": null,
            "grid_gap": null,
            "max_width": null,
            "order": null,
            "_view_module_version": "1.2.0",
            "grid_template_areas": null,
            "object_position": null,
            "object_fit": null,
            "grid_auto_columns": null,
            "margin": null,
            "display": null,
            "left": null
          }
        },
        "10ce75368ec2463c9464ffa00775973c": {
          "model_module": "@jupyter-widgets/controls",
          "model_name": "DescriptionStyleModel",
          "model_module_version": "1.5.0",
          "state": {
            "_view_name": "StyleView",
            "_model_name": "DescriptionStyleModel",
            "description_width": "",
            "_view_module": "@jupyter-widgets/base",
            "_model_module_version": "1.5.0",
            "_view_count": null,
            "_view_module_version": "1.2.0",
            "_model_module": "@jupyter-widgets/controls"
          }
        },
        "e08ae1243f5b44238632bd32dd776733": {
          "model_module": "@jupyter-widgets/base",
          "model_name": "LayoutModel",
          "model_module_version": "1.2.0",
          "state": {
            "_view_name": "LayoutView",
            "grid_template_rows": null,
            "right": null,
            "justify_content": null,
            "_view_module": "@jupyter-widgets/base",
            "overflow": null,
            "_model_module_version": "1.2.0",
            "_view_count": null,
            "flex_flow": null,
            "width": null,
            "min_width": null,
            "border": null,
            "align_items": null,
            "bottom": null,
            "_model_module": "@jupyter-widgets/base",
            "top": null,
            "grid_column": null,
            "overflow_y": null,
            "overflow_x": null,
            "grid_auto_flow": null,
            "grid_area": null,
            "grid_template_columns": null,
            "flex": null,
            "_model_name": "LayoutModel",
            "justify_items": null,
            "grid_row": null,
            "max_height": null,
            "align_content": null,
            "visibility": null,
            "align_self": null,
            "height": null,
            "min_height": null,
            "padding": null,
            "grid_auto_rows": null,
            "grid_gap": null,
            "max_width": null,
            "order": null,
            "_view_module_version": "1.2.0",
            "grid_template_areas": null,
            "object_position": null,
            "object_fit": null,
            "grid_auto_columns": null,
            "margin": null,
            "display": null,
            "left": null
          }
        },
        "d18b28072ba946338b7c93af08952a9a": {
          "model_module": "@jupyter-widgets/controls",
          "model_name": "HBoxModel",
          "model_module_version": "1.5.0",
          "state": {
            "_view_name": "HBoxView",
            "_dom_classes": [],
            "_model_name": "HBoxModel",
            "_view_module": "@jupyter-widgets/controls",
            "_model_module_version": "1.5.0",
            "_view_count": null,
            "_view_module_version": "1.5.0",
            "box_style": "",
            "layout": "IPY_MODEL_56f81f13157d4a47b62bf065498f59e2",
            "_model_module": "@jupyter-widgets/controls",
            "children": [
              "IPY_MODEL_96acfecf3de348d0adbb4616258c55f0",
              "IPY_MODEL_f64c8cb17e9a4ea381a5369c7eadc68b",
              "IPY_MODEL_4f486524462e4f61954be46256c2cd15"
            ]
          }
        },
        "56f81f13157d4a47b62bf065498f59e2": {
          "model_module": "@jupyter-widgets/base",
          "model_name": "LayoutModel",
          "model_module_version": "1.2.0",
          "state": {
            "_view_name": "LayoutView",
            "grid_template_rows": null,
            "right": null,
            "justify_content": null,
            "_view_module": "@jupyter-widgets/base",
            "overflow": null,
            "_model_module_version": "1.2.0",
            "_view_count": null,
            "flex_flow": null,
            "width": null,
            "min_width": null,
            "border": null,
            "align_items": null,
            "bottom": null,
            "_model_module": "@jupyter-widgets/base",
            "top": null,
            "grid_column": null,
            "overflow_y": null,
            "overflow_x": null,
            "grid_auto_flow": null,
            "grid_area": null,
            "grid_template_columns": null,
            "flex": null,
            "_model_name": "LayoutModel",
            "justify_items": null,
            "grid_row": null,
            "max_height": null,
            "align_content": null,
            "visibility": null,
            "align_self": null,
            "height": null,
            "min_height": null,
            "padding": null,
            "grid_auto_rows": null,
            "grid_gap": null,
            "max_width": null,
            "order": null,
            "_view_module_version": "1.2.0",
            "grid_template_areas": null,
            "object_position": null,
            "object_fit": null,
            "grid_auto_columns": null,
            "margin": null,
            "display": null,
            "left": null
          }
        },
        "96acfecf3de348d0adbb4616258c55f0": {
          "model_module": "@jupyter-widgets/controls",
          "model_name": "HTMLModel",
          "model_module_version": "1.5.0",
          "state": {
            "_view_name": "HTMLView",
            "style": "IPY_MODEL_ce1af0c128e14030a4ea372ea9efa783",
            "_dom_classes": [],
            "description": "",
            "_model_name": "HTMLModel",
            "placeholder": "​",
            "_view_module": "@jupyter-widgets/controls",
            "_model_module_version": "1.5.0",
            "value": "Downloading: ",
            "_view_count": null,
            "_view_module_version": "1.5.0",
            "description_tooltip": null,
            "_model_module": "@jupyter-widgets/controls",
            "layout": "IPY_MODEL_fb6a1022858a48ab9a37d4f052b4dc5f"
          }
        },
        "f64c8cb17e9a4ea381a5369c7eadc68b": {
          "model_module": "@jupyter-widgets/controls",
          "model_name": "FloatProgressModel",
          "model_module_version": "1.5.0",
          "state": {
            "_view_name": "ProgressView",
            "style": "IPY_MODEL_bd35183769fc4394a06a62b5b7032ea6",
            "_dom_classes": [],
            "description": "",
            "_model_name": "FloatProgressModel",
            "bar_style": "success",
            "max": 2242153,
            "_view_module": "@jupyter-widgets/controls",
            "_model_module_version": "1.5.0",
            "value": 2242153,
            "_view_count": null,
            "_view_module_version": "1.5.0",
            "orientation": "horizontal",
            "min": 0,
            "description_tooltip": null,
            "_model_module": "@jupyter-widgets/controls",
            "layout": "IPY_MODEL_3130af50c2a349b28fb0a3eca74a8c7b"
          }
        },
        "4f486524462e4f61954be46256c2cd15": {
          "model_module": "@jupyter-widgets/controls",
          "model_name": "HTMLModel",
          "model_module_version": "1.5.0",
          "state": {
            "_view_name": "HTMLView",
            "style": "IPY_MODEL_c98c2ed4624a4323a21885d12fbaa187",
            "_dom_classes": [],
            "description": "",
            "_model_name": "HTMLModel",
            "placeholder": "​",
            "_view_module": "@jupyter-widgets/controls",
            "_model_module_version": "1.5.0",
            "value": " 4.97M/? [00:00&lt;00:00, 12.7MB/s]",
            "_view_count": null,
            "_view_module_version": "1.5.0",
            "description_tooltip": null,
            "_model_module": "@jupyter-widgets/controls",
            "layout": "IPY_MODEL_a8cbf474405e4574ab9404c8d55e7dfc"
          }
        },
        "ce1af0c128e14030a4ea372ea9efa783": {
          "model_module": "@jupyter-widgets/controls",
          "model_name": "DescriptionStyleModel",
          "model_module_version": "1.5.0",
          "state": {
            "_view_name": "StyleView",
            "_model_name": "DescriptionStyleModel",
            "description_width": "",
            "_view_module": "@jupyter-widgets/base",
            "_model_module_version": "1.5.0",
            "_view_count": null,
            "_view_module_version": "1.2.0",
            "_model_module": "@jupyter-widgets/controls"
          }
        },
        "fb6a1022858a48ab9a37d4f052b4dc5f": {
          "model_module": "@jupyter-widgets/base",
          "model_name": "LayoutModel",
          "model_module_version": "1.2.0",
          "state": {
            "_view_name": "LayoutView",
            "grid_template_rows": null,
            "right": null,
            "justify_content": null,
            "_view_module": "@jupyter-widgets/base",
            "overflow": null,
            "_model_module_version": "1.2.0",
            "_view_count": null,
            "flex_flow": null,
            "width": null,
            "min_width": null,
            "border": null,
            "align_items": null,
            "bottom": null,
            "_model_module": "@jupyter-widgets/base",
            "top": null,
            "grid_column": null,
            "overflow_y": null,
            "overflow_x": null,
            "grid_auto_flow": null,
            "grid_area": null,
            "grid_template_columns": null,
            "flex": null,
            "_model_name": "LayoutModel",
            "justify_items": null,
            "grid_row": null,
            "max_height": null,
            "align_content": null,
            "visibility": null,
            "align_self": null,
            "height": null,
            "min_height": null,
            "padding": null,
            "grid_auto_rows": null,
            "grid_gap": null,
            "max_width": null,
            "order": null,
            "_view_module_version": "1.2.0",
            "grid_template_areas": null,
            "object_position": null,
            "object_fit": null,
            "grid_auto_columns": null,
            "margin": null,
            "display": null,
            "left": null
          }
        },
        "bd35183769fc4394a06a62b5b7032ea6": {
          "model_module": "@jupyter-widgets/controls",
          "model_name": "ProgressStyleModel",
          "model_module_version": "1.5.0",
          "state": {
            "_view_name": "StyleView",
            "_model_name": "ProgressStyleModel",
            "description_width": "",
            "_view_module": "@jupyter-widgets/base",
            "_model_module_version": "1.5.0",
            "_view_count": null,
            "_view_module_version": "1.2.0",
            "bar_color": null,
            "_model_module": "@jupyter-widgets/controls"
          }
        },
        "3130af50c2a349b28fb0a3eca74a8c7b": {
          "model_module": "@jupyter-widgets/base",
          "model_name": "LayoutModel",
          "model_module_version": "1.2.0",
          "state": {
            "_view_name": "LayoutView",
            "grid_template_rows": null,
            "right": null,
            "justify_content": null,
            "_view_module": "@jupyter-widgets/base",
            "overflow": null,
            "_model_module_version": "1.2.0",
            "_view_count": null,
            "flex_flow": null,
            "width": null,
            "min_width": null,
            "border": null,
            "align_items": null,
            "bottom": null,
            "_model_module": "@jupyter-widgets/base",
            "top": null,
            "grid_column": null,
            "overflow_y": null,
            "overflow_x": null,
            "grid_auto_flow": null,
            "grid_area": null,
            "grid_template_columns": null,
            "flex": null,
            "_model_name": "LayoutModel",
            "justify_items": null,
            "grid_row": null,
            "max_height": null,
            "align_content": null,
            "visibility": null,
            "align_self": null,
            "height": null,
            "min_height": null,
            "padding": null,
            "grid_auto_rows": null,
            "grid_gap": null,
            "max_width": null,
            "order": null,
            "_view_module_version": "1.2.0",
            "grid_template_areas": null,
            "object_position": null,
            "object_fit": null,
            "grid_auto_columns": null,
            "margin": null,
            "display": null,
            "left": null
          }
        },
        "c98c2ed4624a4323a21885d12fbaa187": {
          "model_module": "@jupyter-widgets/controls",
          "model_name": "DescriptionStyleModel",
          "model_module_version": "1.5.0",
          "state": {
            "_view_name": "StyleView",
            "_model_name": "DescriptionStyleModel",
            "description_width": "",
            "_view_module": "@jupyter-widgets/base",
            "_model_module_version": "1.5.0",
            "_view_count": null,
            "_view_module_version": "1.2.0",
            "_model_module": "@jupyter-widgets/controls"
          }
        },
        "a8cbf474405e4574ab9404c8d55e7dfc": {
          "model_module": "@jupyter-widgets/base",
          "model_name": "LayoutModel",
          "model_module_version": "1.2.0",
          "state": {
            "_view_name": "LayoutView",
            "grid_template_rows": null,
            "right": null,
            "justify_content": null,
            "_view_module": "@jupyter-widgets/base",
            "overflow": null,
            "_model_module_version": "1.2.0",
            "_view_count": null,
            "flex_flow": null,
            "width": null,
            "min_width": null,
            "border": null,
            "align_items": null,
            "bottom": null,
            "_model_module": "@jupyter-widgets/base",
            "top": null,
            "grid_column": null,
            "overflow_y": null,
            "overflow_x": null,
            "grid_auto_flow": null,
            "grid_area": null,
            "grid_template_columns": null,
            "flex": null,
            "_model_name": "LayoutModel",
            "justify_items": null,
            "grid_row": null,
            "max_height": null,
            "align_content": null,
            "visibility": null,
            "align_self": null,
            "height": null,
            "min_height": null,
            "padding": null,
            "grid_auto_rows": null,
            "grid_gap": null,
            "max_width": null,
            "order": null,
            "_view_module_version": "1.2.0",
            "grid_template_areas": null,
            "object_position": null,
            "object_fit": null,
            "grid_auto_columns": null,
            "margin": null,
            "display": null,
            "left": null
          }
        },
        "757b6f91141a42c69e1434c2b0c562a9": {
          "model_module": "@jupyter-widgets/controls",
          "model_name": "HBoxModel",
          "model_module_version": "1.5.0",
          "state": {
            "_view_name": "HBoxView",
            "_dom_classes": [],
            "_model_name": "HBoxModel",
            "_view_module": "@jupyter-widgets/controls",
            "_model_module_version": "1.5.0",
            "_view_count": null,
            "_view_module_version": "1.5.0",
            "box_style": "",
            "layout": "IPY_MODEL_bf2bd23dfa4b44fb93796fcc0f769bfd",
            "_model_module": "@jupyter-widgets/controls",
            "children": [
              "IPY_MODEL_1753ad1c3a254d28b0de8b24312e7c7f",
              "IPY_MODEL_a69a477a9f7c4a3fb3cde47f66fa261b",
              "IPY_MODEL_0d204f03363d46269d0e5dcdb8a09f89"
            ]
          }
        },
        "bf2bd23dfa4b44fb93796fcc0f769bfd": {
          "model_module": "@jupyter-widgets/base",
          "model_name": "LayoutModel",
          "model_module_version": "1.2.0",
          "state": {
            "_view_name": "LayoutView",
            "grid_template_rows": null,
            "right": null,
            "justify_content": null,
            "_view_module": "@jupyter-widgets/base",
            "overflow": null,
            "_model_module_version": "1.2.0",
            "_view_count": null,
            "flex_flow": null,
            "width": null,
            "min_width": null,
            "border": null,
            "align_items": null,
            "bottom": null,
            "_model_module": "@jupyter-widgets/base",
            "top": null,
            "grid_column": null,
            "overflow_y": null,
            "overflow_x": null,
            "grid_auto_flow": null,
            "grid_area": null,
            "grid_template_columns": null,
            "flex": null,
            "_model_name": "LayoutModel",
            "justify_items": null,
            "grid_row": null,
            "max_height": null,
            "align_content": null,
            "visibility": null,
            "align_self": null,
            "height": null,
            "min_height": null,
            "padding": null,
            "grid_auto_rows": null,
            "grid_gap": null,
            "max_width": null,
            "order": null,
            "_view_module_version": "1.2.0",
            "grid_template_areas": null,
            "object_position": null,
            "object_fit": null,
            "grid_auto_columns": null,
            "margin": null,
            "display": null,
            "left": null
          }
        },
        "1753ad1c3a254d28b0de8b24312e7c7f": {
          "model_module": "@jupyter-widgets/controls",
          "model_name": "HTMLModel",
          "model_module_version": "1.5.0",
          "state": {
            "_view_name": "HTMLView",
            "style": "IPY_MODEL_898330ee7cfd49dea65004b82711c386",
            "_dom_classes": [],
            "description": "",
            "_model_name": "HTMLModel",
            "placeholder": "​",
            "_view_module": "@jupyter-widgets/controls",
            "_model_module_version": "1.5.0",
            "value": "Downloading: ",
            "_view_count": null,
            "_view_module_version": "1.5.0",
            "description_tooltip": null,
            "_model_module": "@jupyter-widgets/controls",
            "layout": "IPY_MODEL_443946157c7748cba6d445dd97bb032f"
          }
        },
        "a69a477a9f7c4a3fb3cde47f66fa261b": {
          "model_module": "@jupyter-widgets/controls",
          "model_name": "FloatProgressModel",
          "model_module_version": "1.5.0",
          "state": {
            "_view_name": "ProgressView",
            "style": "IPY_MODEL_49c0eda38bc94520adeded692bbd8be4",
            "_dom_classes": [],
            "description": "",
            "_model_name": "FloatProgressModel",
            "bar_style": "success",
            "max": 12715,
            "_view_module": "@jupyter-widgets/controls",
            "_model_module_version": "1.5.0",
            "value": 12715,
            "_view_count": null,
            "_view_module_version": "1.5.0",
            "orientation": "horizontal",
            "min": 0,
            "description_tooltip": null,
            "_model_module": "@jupyter-widgets/controls",
            "layout": "IPY_MODEL_06dfd9e759c54cb993ab32e65f69009d"
          }
        },
        "0d204f03363d46269d0e5dcdb8a09f89": {
          "model_module": "@jupyter-widgets/controls",
          "model_name": "HTMLModel",
          "model_module_version": "1.5.0",
          "state": {
            "_view_name": "HTMLView",
            "style": "IPY_MODEL_112c9910374449a7a9e184b1bfe74b63",
            "_dom_classes": [],
            "description": "",
            "_model_name": "HTMLModel",
            "placeholder": "​",
            "_view_module": "@jupyter-widgets/controls",
            "_model_module_version": "1.5.0",
            "value": " 91.2k/? [00:00&lt;00:00, 1.53MB/s]",
            "_view_count": null,
            "_view_module_version": "1.5.0",
            "description_tooltip": null,
            "_model_module": "@jupyter-widgets/controls",
            "layout": "IPY_MODEL_79b3328b624444e9acdc22993d70aca2"
          }
        },
        "898330ee7cfd49dea65004b82711c386": {
          "model_module": "@jupyter-widgets/controls",
          "model_name": "DescriptionStyleModel",
          "model_module_version": "1.5.0",
          "state": {
            "_view_name": "StyleView",
            "_model_name": "DescriptionStyleModel",
            "description_width": "",
            "_view_module": "@jupyter-widgets/base",
            "_model_module_version": "1.5.0",
            "_view_count": null,
            "_view_module_version": "1.2.0",
            "_model_module": "@jupyter-widgets/controls"
          }
        },
        "443946157c7748cba6d445dd97bb032f": {
          "model_module": "@jupyter-widgets/base",
          "model_name": "LayoutModel",
          "model_module_version": "1.2.0",
          "state": {
            "_view_name": "LayoutView",
            "grid_template_rows": null,
            "right": null,
            "justify_content": null,
            "_view_module": "@jupyter-widgets/base",
            "overflow": null,
            "_model_module_version": "1.2.0",
            "_view_count": null,
            "flex_flow": null,
            "width": null,
            "min_width": null,
            "border": null,
            "align_items": null,
            "bottom": null,
            "_model_module": "@jupyter-widgets/base",
            "top": null,
            "grid_column": null,
            "overflow_y": null,
            "overflow_x": null,
            "grid_auto_flow": null,
            "grid_area": null,
            "grid_template_columns": null,
            "flex": null,
            "_model_name": "LayoutModel",
            "justify_items": null,
            "grid_row": null,
            "max_height": null,
            "align_content": null,
            "visibility": null,
            "align_self": null,
            "height": null,
            "min_height": null,
            "padding": null,
            "grid_auto_rows": null,
            "grid_gap": null,
            "max_width": null,
            "order": null,
            "_view_module_version": "1.2.0",
            "grid_template_areas": null,
            "object_position": null,
            "object_fit": null,
            "grid_auto_columns": null,
            "margin": null,
            "display": null,
            "left": null
          }
        },
        "49c0eda38bc94520adeded692bbd8be4": {
          "model_module": "@jupyter-widgets/controls",
          "model_name": "ProgressStyleModel",
          "model_module_version": "1.5.0",
          "state": {
            "_view_name": "StyleView",
            "_model_name": "ProgressStyleModel",
            "description_width": "",
            "_view_module": "@jupyter-widgets/base",
            "_model_module_version": "1.5.0",
            "_view_count": null,
            "_view_module_version": "1.2.0",
            "bar_color": null,
            "_model_module": "@jupyter-widgets/controls"
          }
        },
        "06dfd9e759c54cb993ab32e65f69009d": {
          "model_module": "@jupyter-widgets/base",
          "model_name": "LayoutModel",
          "model_module_version": "1.2.0",
          "state": {
            "_view_name": "LayoutView",
            "grid_template_rows": null,
            "right": null,
            "justify_content": null,
            "_view_module": "@jupyter-widgets/base",
            "overflow": null,
            "_model_module_version": "1.2.0",
            "_view_count": null,
            "flex_flow": null,
            "width": null,
            "min_width": null,
            "border": null,
            "align_items": null,
            "bottom": null,
            "_model_module": "@jupyter-widgets/base",
            "top": null,
            "grid_column": null,
            "overflow_y": null,
            "overflow_x": null,
            "grid_auto_flow": null,
            "grid_area": null,
            "grid_template_columns": null,
            "flex": null,
            "_model_name": "LayoutModel",
            "justify_items": null,
            "grid_row": null,
            "max_height": null,
            "align_content": null,
            "visibility": null,
            "align_self": null,
            "height": null,
            "min_height": null,
            "padding": null,
            "grid_auto_rows": null,
            "grid_gap": null,
            "max_width": null,
            "order": null,
            "_view_module_version": "1.2.0",
            "grid_template_areas": null,
            "object_position": null,
            "object_fit": null,
            "grid_auto_columns": null,
            "margin": null,
            "display": null,
            "left": null
          }
        },
        "112c9910374449a7a9e184b1bfe74b63": {
          "model_module": "@jupyter-widgets/controls",
          "model_name": "DescriptionStyleModel",
          "model_module_version": "1.5.0",
          "state": {
            "_view_name": "StyleView",
            "_model_name": "DescriptionStyleModel",
            "description_width": "",
            "_view_module": "@jupyter-widgets/base",
            "_model_module_version": "1.5.0",
            "_view_count": null,
            "_view_module_version": "1.2.0",
            "_model_module": "@jupyter-widgets/controls"
          }
        },
        "79b3328b624444e9acdc22993d70aca2": {
          "model_module": "@jupyter-widgets/base",
          "model_name": "LayoutModel",
          "model_module_version": "1.2.0",
          "state": {
            "_view_name": "LayoutView",
            "grid_template_rows": null,
            "right": null,
            "justify_content": null,
            "_view_module": "@jupyter-widgets/base",
            "overflow": null,
            "_model_module_version": "1.2.0",
            "_view_count": null,
            "flex_flow": null,
            "width": null,
            "min_width": null,
            "border": null,
            "align_items": null,
            "bottom": null,
            "_model_module": "@jupyter-widgets/base",
            "top": null,
            "grid_column": null,
            "overflow_y": null,
            "overflow_x": null,
            "grid_auto_flow": null,
            "grid_area": null,
            "grid_template_columns": null,
            "flex": null,
            "_model_name": "LayoutModel",
            "justify_items": null,
            "grid_row": null,
            "max_height": null,
            "align_content": null,
            "visibility": null,
            "align_self": null,
            "height": null,
            "min_height": null,
            "padding": null,
            "grid_auto_rows": null,
            "grid_gap": null,
            "max_width": null,
            "order": null,
            "_view_module_version": "1.2.0",
            "grid_template_areas": null,
            "object_position": null,
            "object_fit": null,
            "grid_auto_columns": null,
            "margin": null,
            "display": null,
            "left": null
          }
        },
        "f168b7f6887a47a69e80211b7c03c2c7": {
          "model_module": "@jupyter-widgets/controls",
          "model_name": "HBoxModel",
          "model_module_version": "1.5.0",
          "state": {
            "_view_name": "HBoxView",
            "_dom_classes": [],
            "_model_name": "HBoxModel",
            "_view_module": "@jupyter-widgets/controls",
            "_model_module_version": "1.5.0",
            "_view_count": null,
            "_view_module_version": "1.5.0",
            "box_style": "",
            "layout": "IPY_MODEL_661449165c414580853977780f5a5f93",
            "_model_module": "@jupyter-widgets/controls",
            "children": [
              "IPY_MODEL_c7127cb8a81e4d3198823e6f98d71696",
              "IPY_MODEL_78b72513ec234b2eba48e16c1308f7c3",
              "IPY_MODEL_acb95a30cd41476b844c3905ece9dbbd"
            ]
          }
        },
        "661449165c414580853977780f5a5f93": {
          "model_module": "@jupyter-widgets/base",
          "model_name": "LayoutModel",
          "model_module_version": "1.2.0",
          "state": {
            "_view_name": "LayoutView",
            "grid_template_rows": null,
            "right": null,
            "justify_content": null,
            "_view_module": "@jupyter-widgets/base",
            "overflow": null,
            "_model_module_version": "1.2.0",
            "_view_count": null,
            "flex_flow": null,
            "width": null,
            "min_width": null,
            "border": null,
            "align_items": null,
            "bottom": null,
            "_model_module": "@jupyter-widgets/base",
            "top": null,
            "grid_column": null,
            "overflow_y": null,
            "overflow_x": null,
            "grid_auto_flow": null,
            "grid_area": null,
            "grid_template_columns": null,
            "flex": null,
            "_model_name": "LayoutModel",
            "justify_items": null,
            "grid_row": null,
            "max_height": null,
            "align_content": null,
            "visibility": null,
            "align_self": null,
            "height": null,
            "min_height": null,
            "padding": null,
            "grid_auto_rows": null,
            "grid_gap": null,
            "max_width": null,
            "order": null,
            "_view_module_version": "1.2.0",
            "grid_template_areas": null,
            "object_position": null,
            "object_fit": null,
            "grid_auto_columns": null,
            "margin": null,
            "display": null,
            "left": null
          }
        },
        "c7127cb8a81e4d3198823e6f98d71696": {
          "model_module": "@jupyter-widgets/controls",
          "model_name": "HTMLModel",
          "model_module_version": "1.5.0",
          "state": {
            "_view_name": "HTMLView",
            "style": "IPY_MODEL_1865d3a4fc81416a9bc78772934808b9",
            "_dom_classes": [],
            "description": "",
            "_model_name": "HTMLModel",
            "placeholder": "​",
            "_view_module": "@jupyter-widgets/controls",
            "_model_module_version": "1.5.0",
            "value": "Downloading: ",
            "_view_count": null,
            "_view_module_version": "1.5.0",
            "description_tooltip": null,
            "_model_module": "@jupyter-widgets/controls",
            "layout": "IPY_MODEL_273b8425c06e449abb71d48f0a363ea0"
          }
        },
        "78b72513ec234b2eba48e16c1308f7c3": {
          "model_module": "@jupyter-widgets/controls",
          "model_name": "FloatProgressModel",
          "model_module_version": "1.5.0",
          "state": {
            "_view_name": "ProgressView",
            "style": "IPY_MODEL_fda41ac631ea44a2b892a7b03be3b56d",
            "_dom_classes": [],
            "description": "",
            "_model_name": "FloatProgressModel",
            "bar_style": "success",
            "max": 526981,
            "_view_module": "@jupyter-widgets/controls",
            "_model_module_version": "1.5.0",
            "value": 526981,
            "_view_count": null,
            "_view_module_version": "1.5.0",
            "orientation": "horizontal",
            "min": 0,
            "description_tooltip": null,
            "_model_module": "@jupyter-widgets/controls",
            "layout": "IPY_MODEL_15e5e796307b4678a140ca2d27711c37"
          }
        },
        "acb95a30cd41476b844c3905ece9dbbd": {
          "model_module": "@jupyter-widgets/controls",
          "model_name": "HTMLModel",
          "model_module_version": "1.5.0",
          "state": {
            "_view_name": "HTMLView",
            "style": "IPY_MODEL_bd8c4dbd847a4c1cb5aaf7f0cbd97fdc",
            "_dom_classes": [],
            "description": "",
            "_model_name": "HTMLModel",
            "placeholder": "​",
            "_view_module": "@jupyter-widgets/controls",
            "_model_module_version": "1.5.0",
            "value": " 1.16M/? [00:00&lt;00:00, 13.1MB/s]",
            "_view_count": null,
            "_view_module_version": "1.5.0",
            "description_tooltip": null,
            "_model_module": "@jupyter-widgets/controls",
            "layout": "IPY_MODEL_5676d7a859f34081a2a0d5504346d679"
          }
        },
        "1865d3a4fc81416a9bc78772934808b9": {
          "model_module": "@jupyter-widgets/controls",
          "model_name": "DescriptionStyleModel",
          "model_module_version": "1.5.0",
          "state": {
            "_view_name": "StyleView",
            "_model_name": "DescriptionStyleModel",
            "description_width": "",
            "_view_module": "@jupyter-widgets/base",
            "_model_module_version": "1.5.0",
            "_view_count": null,
            "_view_module_version": "1.2.0",
            "_model_module": "@jupyter-widgets/controls"
          }
        },
        "273b8425c06e449abb71d48f0a363ea0": {
          "model_module": "@jupyter-widgets/base",
          "model_name": "LayoutModel",
          "model_module_version": "1.2.0",
          "state": {
            "_view_name": "LayoutView",
            "grid_template_rows": null,
            "right": null,
            "justify_content": null,
            "_view_module": "@jupyter-widgets/base",
            "overflow": null,
            "_model_module_version": "1.2.0",
            "_view_count": null,
            "flex_flow": null,
            "width": null,
            "min_width": null,
            "border": null,
            "align_items": null,
            "bottom": null,
            "_model_module": "@jupyter-widgets/base",
            "top": null,
            "grid_column": null,
            "overflow_y": null,
            "overflow_x": null,
            "grid_auto_flow": null,
            "grid_area": null,
            "grid_template_columns": null,
            "flex": null,
            "_model_name": "LayoutModel",
            "justify_items": null,
            "grid_row": null,
            "max_height": null,
            "align_content": null,
            "visibility": null,
            "align_self": null,
            "height": null,
            "min_height": null,
            "padding": null,
            "grid_auto_rows": null,
            "grid_gap": null,
            "max_width": null,
            "order": null,
            "_view_module_version": "1.2.0",
            "grid_template_areas": null,
            "object_position": null,
            "object_fit": null,
            "grid_auto_columns": null,
            "margin": null,
            "display": null,
            "left": null
          }
        },
        "fda41ac631ea44a2b892a7b03be3b56d": {
          "model_module": "@jupyter-widgets/controls",
          "model_name": "ProgressStyleModel",
          "model_module_version": "1.5.0",
          "state": {
            "_view_name": "StyleView",
            "_model_name": "ProgressStyleModel",
            "description_width": "",
            "_view_module": "@jupyter-widgets/base",
            "_model_module_version": "1.5.0",
            "_view_count": null,
            "_view_module_version": "1.2.0",
            "bar_color": null,
            "_model_module": "@jupyter-widgets/controls"
          }
        },
        "15e5e796307b4678a140ca2d27711c37": {
          "model_module": "@jupyter-widgets/base",
          "model_name": "LayoutModel",
          "model_module_version": "1.2.0",
          "state": {
            "_view_name": "LayoutView",
            "grid_template_rows": null,
            "right": null,
            "justify_content": null,
            "_view_module": "@jupyter-widgets/base",
            "overflow": null,
            "_model_module_version": "1.2.0",
            "_view_count": null,
            "flex_flow": null,
            "width": null,
            "min_width": null,
            "border": null,
            "align_items": null,
            "bottom": null,
            "_model_module": "@jupyter-widgets/base",
            "top": null,
            "grid_column": null,
            "overflow_y": null,
            "overflow_x": null,
            "grid_auto_flow": null,
            "grid_area": null,
            "grid_template_columns": null,
            "flex": null,
            "_model_name": "LayoutModel",
            "justify_items": null,
            "grid_row": null,
            "max_height": null,
            "align_content": null,
            "visibility": null,
            "align_self": null,
            "height": null,
            "min_height": null,
            "padding": null,
            "grid_auto_rows": null,
            "grid_gap": null,
            "max_width": null,
            "order": null,
            "_view_module_version": "1.2.0",
            "grid_template_areas": null,
            "object_position": null,
            "object_fit": null,
            "grid_auto_columns": null,
            "margin": null,
            "display": null,
            "left": null
          }
        },
        "bd8c4dbd847a4c1cb5aaf7f0cbd97fdc": {
          "model_module": "@jupyter-widgets/controls",
          "model_name": "DescriptionStyleModel",
          "model_module_version": "1.5.0",
          "state": {
            "_view_name": "StyleView",
            "_model_name": "DescriptionStyleModel",
            "description_width": "",
            "_view_module": "@jupyter-widgets/base",
            "_model_module_version": "1.5.0",
            "_view_count": null,
            "_view_module_version": "1.2.0",
            "_model_module": "@jupyter-widgets/controls"
          }
        },
        "5676d7a859f34081a2a0d5504346d679": {
          "model_module": "@jupyter-widgets/base",
          "model_name": "LayoutModel",
          "model_module_version": "1.2.0",
          "state": {
            "_view_name": "LayoutView",
            "grid_template_rows": null,
            "right": null,
            "justify_content": null,
            "_view_module": "@jupyter-widgets/base",
            "overflow": null,
            "_model_module_version": "1.2.0",
            "_view_count": null,
            "flex_flow": null,
            "width": null,
            "min_width": null,
            "border": null,
            "align_items": null,
            "bottom": null,
            "_model_module": "@jupyter-widgets/base",
            "top": null,
            "grid_column": null,
            "overflow_y": null,
            "overflow_x": null,
            "grid_auto_flow": null,
            "grid_area": null,
            "grid_template_columns": null,
            "flex": null,
            "_model_name": "LayoutModel",
            "justify_items": null,
            "grid_row": null,
            "max_height": null,
            "align_content": null,
            "visibility": null,
            "align_self": null,
            "height": null,
            "min_height": null,
            "padding": null,
            "grid_auto_rows": null,
            "grid_gap": null,
            "max_width": null,
            "order": null,
            "_view_module_version": "1.2.0",
            "grid_template_areas": null,
            "object_position": null,
            "object_fit": null,
            "grid_auto_columns": null,
            "margin": null,
            "display": null,
            "left": null
          }
        },
        "691905ddc42f45bfb2221e6f79a71aa8": {
          "model_module": "@jupyter-widgets/controls",
          "model_name": "HBoxModel",
          "model_module_version": "1.5.0",
          "state": {
            "_view_name": "HBoxView",
            "_dom_classes": [],
            "_model_name": "HBoxModel",
            "_view_module": "@jupyter-widgets/controls",
            "_model_module_version": "1.5.0",
            "_view_count": null,
            "_view_module_version": "1.5.0",
            "box_style": "",
            "layout": "IPY_MODEL_d5f55d95aa954e5485b2bbfe2ab87125",
            "_model_module": "@jupyter-widgets/controls",
            "children": [
              "IPY_MODEL_b5c1312b24134f46be5925af15adc5e2",
              "IPY_MODEL_2c3fbd69918345c2b698c9fd47669ada",
              "IPY_MODEL_219b65ec0d65462abfa79fc93950abbf"
            ]
          }
        },
        "d5f55d95aa954e5485b2bbfe2ab87125": {
          "model_module": "@jupyter-widgets/base",
          "model_name": "LayoutModel",
          "model_module_version": "1.2.0",
          "state": {
            "_view_name": "LayoutView",
            "grid_template_rows": null,
            "right": null,
            "justify_content": null,
            "_view_module": "@jupyter-widgets/base",
            "overflow": null,
            "_model_module_version": "1.2.0",
            "_view_count": null,
            "flex_flow": null,
            "width": null,
            "min_width": null,
            "border": null,
            "align_items": null,
            "bottom": null,
            "_model_module": "@jupyter-widgets/base",
            "top": null,
            "grid_column": null,
            "overflow_y": null,
            "overflow_x": null,
            "grid_auto_flow": null,
            "grid_area": null,
            "grid_template_columns": null,
            "flex": null,
            "_model_name": "LayoutModel",
            "justify_items": null,
            "grid_row": null,
            "max_height": null,
            "align_content": null,
            "visibility": null,
            "align_self": null,
            "height": null,
            "min_height": null,
            "padding": null,
            "grid_auto_rows": null,
            "grid_gap": null,
            "max_width": null,
            "order": null,
            "_view_module_version": "1.2.0",
            "grid_template_areas": null,
            "object_position": null,
            "object_fit": null,
            "grid_auto_columns": null,
            "margin": null,
            "display": null,
            "left": null
          }
        },
        "b5c1312b24134f46be5925af15adc5e2": {
          "model_module": "@jupyter-widgets/controls",
          "model_name": "HTMLModel",
          "model_module_version": "1.5.0",
          "state": {
            "_view_name": "HTMLView",
            "style": "IPY_MODEL_ddb4c0bb7f114342aef6754ca02f6045",
            "_dom_classes": [],
            "description": "",
            "_model_name": "HTMLModel",
            "placeholder": "​",
            "_view_module": "@jupyter-widgets/controls",
            "_model_module_version": "1.5.0",
            "value": "Downloading: ",
            "_view_count": null,
            "_view_module_version": "1.5.0",
            "description_tooltip": null,
            "_model_module": "@jupyter-widgets/controls",
            "layout": "IPY_MODEL_7918954057f8448395caa4a4a35e0c74"
          }
        },
        "2c3fbd69918345c2b698c9fd47669ada": {
          "model_module": "@jupyter-widgets/controls",
          "model_name": "FloatProgressModel",
          "model_module_version": "1.5.0",
          "state": {
            "_view_name": "ProgressView",
            "style": "IPY_MODEL_65d8f37f1bd24965a6da9e0e0ad17345",
            "_dom_classes": [],
            "description": "",
            "_model_name": "FloatProgressModel",
            "bar_style": "success",
            "max": 3526,
            "_view_module": "@jupyter-widgets/controls",
            "_model_module_version": "1.5.0",
            "value": 3526,
            "_view_count": null,
            "_view_module_version": "1.5.0",
            "orientation": "horizontal",
            "min": 0,
            "description_tooltip": null,
            "_model_module": "@jupyter-widgets/controls",
            "layout": "IPY_MODEL_f518c0a260e2453684ef05c0ff95c818"
          }
        },
        "219b65ec0d65462abfa79fc93950abbf": {
          "model_module": "@jupyter-widgets/controls",
          "model_name": "HTMLModel",
          "model_module_version": "1.5.0",
          "state": {
            "_view_name": "HTMLView",
            "style": "IPY_MODEL_abacf00a4dd94b2aa5751658dc9126b8",
            "_dom_classes": [],
            "description": "",
            "_model_name": "HTMLModel",
            "placeholder": "​",
            "_view_module": "@jupyter-widgets/controls",
            "_model_module_version": "1.5.0",
            "value": " 24.6k/? [00:00&lt;00:00, 496kB/s]",
            "_view_count": null,
            "_view_module_version": "1.5.0",
            "description_tooltip": null,
            "_model_module": "@jupyter-widgets/controls",
            "layout": "IPY_MODEL_6f3541b504dd4834a946aa2d409640d4"
          }
        },
        "ddb4c0bb7f114342aef6754ca02f6045": {
          "model_module": "@jupyter-widgets/controls",
          "model_name": "DescriptionStyleModel",
          "model_module_version": "1.5.0",
          "state": {
            "_view_name": "StyleView",
            "_model_name": "DescriptionStyleModel",
            "description_width": "",
            "_view_module": "@jupyter-widgets/base",
            "_model_module_version": "1.5.0",
            "_view_count": null,
            "_view_module_version": "1.2.0",
            "_model_module": "@jupyter-widgets/controls"
          }
        },
        "7918954057f8448395caa4a4a35e0c74": {
          "model_module": "@jupyter-widgets/base",
          "model_name": "LayoutModel",
          "model_module_version": "1.2.0",
          "state": {
            "_view_name": "LayoutView",
            "grid_template_rows": null,
            "right": null,
            "justify_content": null,
            "_view_module": "@jupyter-widgets/base",
            "overflow": null,
            "_model_module_version": "1.2.0",
            "_view_count": null,
            "flex_flow": null,
            "width": null,
            "min_width": null,
            "border": null,
            "align_items": null,
            "bottom": null,
            "_model_module": "@jupyter-widgets/base",
            "top": null,
            "grid_column": null,
            "overflow_y": null,
            "overflow_x": null,
            "grid_auto_flow": null,
            "grid_area": null,
            "grid_template_columns": null,
            "flex": null,
            "_model_name": "LayoutModel",
            "justify_items": null,
            "grid_row": null,
            "max_height": null,
            "align_content": null,
            "visibility": null,
            "align_self": null,
            "height": null,
            "min_height": null,
            "padding": null,
            "grid_auto_rows": null,
            "grid_gap": null,
            "max_width": null,
            "order": null,
            "_view_module_version": "1.2.0",
            "grid_template_areas": null,
            "object_position": null,
            "object_fit": null,
            "grid_auto_columns": null,
            "margin": null,
            "display": null,
            "left": null
          }
        },
        "65d8f37f1bd24965a6da9e0e0ad17345": {
          "model_module": "@jupyter-widgets/controls",
          "model_name": "ProgressStyleModel",
          "model_module_version": "1.5.0",
          "state": {
            "_view_name": "StyleView",
            "_model_name": "ProgressStyleModel",
            "description_width": "",
            "_view_module": "@jupyter-widgets/base",
            "_model_module_version": "1.5.0",
            "_view_count": null,
            "_view_module_version": "1.2.0",
            "bar_color": null,
            "_model_module": "@jupyter-widgets/controls"
          }
        },
        "f518c0a260e2453684ef05c0ff95c818": {
          "model_module": "@jupyter-widgets/base",
          "model_name": "LayoutModel",
          "model_module_version": "1.2.0",
          "state": {
            "_view_name": "LayoutView",
            "grid_template_rows": null,
            "right": null,
            "justify_content": null,
            "_view_module": "@jupyter-widgets/base",
            "overflow": null,
            "_model_module_version": "1.2.0",
            "_view_count": null,
            "flex_flow": null,
            "width": null,
            "min_width": null,
            "border": null,
            "align_items": null,
            "bottom": null,
            "_model_module": "@jupyter-widgets/base",
            "top": null,
            "grid_column": null,
            "overflow_y": null,
            "overflow_x": null,
            "grid_auto_flow": null,
            "grid_area": null,
            "grid_template_columns": null,
            "flex": null,
            "_model_name": "LayoutModel",
            "justify_items": null,
            "grid_row": null,
            "max_height": null,
            "align_content": null,
            "visibility": null,
            "align_self": null,
            "height": null,
            "min_height": null,
            "padding": null,
            "grid_auto_rows": null,
            "grid_gap": null,
            "max_width": null,
            "order": null,
            "_view_module_version": "1.2.0",
            "grid_template_areas": null,
            "object_position": null,
            "object_fit": null,
            "grid_auto_columns": null,
            "margin": null,
            "display": null,
            "left": null
          }
        },
        "abacf00a4dd94b2aa5751658dc9126b8": {
          "model_module": "@jupyter-widgets/controls",
          "model_name": "DescriptionStyleModel",
          "model_module_version": "1.5.0",
          "state": {
            "_view_name": "StyleView",
            "_model_name": "DescriptionStyleModel",
            "description_width": "",
            "_view_module": "@jupyter-widgets/base",
            "_model_module_version": "1.5.0",
            "_view_count": null,
            "_view_module_version": "1.2.0",
            "_model_module": "@jupyter-widgets/controls"
          }
        },
        "6f3541b504dd4834a946aa2d409640d4": {
          "model_module": "@jupyter-widgets/base",
          "model_name": "LayoutModel",
          "model_module_version": "1.2.0",
          "state": {
            "_view_name": "LayoutView",
            "grid_template_rows": null,
            "right": null,
            "justify_content": null,
            "_view_module": "@jupyter-widgets/base",
            "overflow": null,
            "_model_module_version": "1.2.0",
            "_view_count": null,
            "flex_flow": null,
            "width": null,
            "min_width": null,
            "border": null,
            "align_items": null,
            "bottom": null,
            "_model_module": "@jupyter-widgets/base",
            "top": null,
            "grid_column": null,
            "overflow_y": null,
            "overflow_x": null,
            "grid_auto_flow": null,
            "grid_area": null,
            "grid_template_columns": null,
            "flex": null,
            "_model_name": "LayoutModel",
            "justify_items": null,
            "grid_row": null,
            "max_height": null,
            "align_content": null,
            "visibility": null,
            "align_self": null,
            "height": null,
            "min_height": null,
            "padding": null,
            "grid_auto_rows": null,
            "grid_gap": null,
            "max_width": null,
            "order": null,
            "_view_module_version": "1.2.0",
            "grid_template_areas": null,
            "object_position": null,
            "object_fit": null,
            "grid_auto_columns": null,
            "margin": null,
            "display": null,
            "left": null
          }
        },
        "fd3809fb9b6248068f128f0659b6c5c6": {
          "model_module": "@jupyter-widgets/controls",
          "model_name": "HBoxModel",
          "model_module_version": "1.5.0",
          "state": {
            "_view_name": "HBoxView",
            "_dom_classes": [],
            "_model_name": "HBoxModel",
            "_view_module": "@jupyter-widgets/controls",
            "_model_module_version": "1.5.0",
            "_view_count": null,
            "_view_module_version": "1.5.0",
            "box_style": "",
            "layout": "IPY_MODEL_957135b17cb4438ca91db68e9119c4c3",
            "_model_module": "@jupyter-widgets/controls",
            "children": [
              "IPY_MODEL_04912eb5b1114b9a84b42ec64a0b11dd",
              "IPY_MODEL_7c06afbaed8a44788c04a9638e52450a",
              "IPY_MODEL_d5c402d6c0f14468a9aa2cbde53c3801"
            ]
          }
        },
        "957135b17cb4438ca91db68e9119c4c3": {
          "model_module": "@jupyter-widgets/base",
          "model_name": "LayoutModel",
          "model_module_version": "1.2.0",
          "state": {
            "_view_name": "LayoutView",
            "grid_template_rows": null,
            "right": null,
            "justify_content": null,
            "_view_module": "@jupyter-widgets/base",
            "overflow": null,
            "_model_module_version": "1.2.0",
            "_view_count": null,
            "flex_flow": null,
            "width": null,
            "min_width": null,
            "border": null,
            "align_items": null,
            "bottom": null,
            "_model_module": "@jupyter-widgets/base",
            "top": null,
            "grid_column": null,
            "overflow_y": null,
            "overflow_x": null,
            "grid_auto_flow": null,
            "grid_area": null,
            "grid_template_columns": null,
            "flex": null,
            "_model_name": "LayoutModel",
            "justify_items": null,
            "grid_row": null,
            "max_height": null,
            "align_content": null,
            "visibility": null,
            "align_self": null,
            "height": null,
            "min_height": null,
            "padding": null,
            "grid_auto_rows": null,
            "grid_gap": null,
            "max_width": null,
            "order": null,
            "_view_module_version": "1.2.0",
            "grid_template_areas": null,
            "object_position": null,
            "object_fit": null,
            "grid_auto_columns": null,
            "margin": null,
            "display": null,
            "left": null
          }
        },
        "04912eb5b1114b9a84b42ec64a0b11dd": {
          "model_module": "@jupyter-widgets/controls",
          "model_name": "HTMLModel",
          "model_module_version": "1.5.0",
          "state": {
            "_view_name": "HTMLView",
            "style": "IPY_MODEL_e8c4f742747d4b7fa6aeb668a3232900",
            "_dom_classes": [],
            "description": "",
            "_model_name": "HTMLModel",
            "placeholder": "​",
            "_view_module": "@jupyter-widgets/controls",
            "_model_module_version": "1.5.0",
            "value": "Downloading: ",
            "_view_count": null,
            "_view_module_version": "1.5.0",
            "description_tooltip": null,
            "_model_module": "@jupyter-widgets/controls",
            "layout": "IPY_MODEL_d2eaa394b78c41eb927d689a80e5f93e"
          }
        },
        "7c06afbaed8a44788c04a9638e52450a": {
          "model_module": "@jupyter-widgets/controls",
          "model_name": "FloatProgressModel",
          "model_module_version": "1.5.0",
          "state": {
            "_view_name": "ProgressView",
            "style": "IPY_MODEL_f44ffdf5dcf44508a2867daa50305827",
            "_dom_classes": [],
            "description": "",
            "_model_name": "FloatProgressModel",
            "bar_style": "success",
            "max": 99678,
            "_view_module": "@jupyter-widgets/controls",
            "_model_module_version": "1.5.0",
            "value": 99678,
            "_view_count": null,
            "_view_module_version": "1.5.0",
            "orientation": "horizontal",
            "min": 0,
            "description_tooltip": null,
            "_model_module": "@jupyter-widgets/controls",
            "layout": "IPY_MODEL_a9db90d95780466aac43508f1fd79c54"
          }
        },
        "d5c402d6c0f14468a9aa2cbde53c3801": {
          "model_module": "@jupyter-widgets/controls",
          "model_name": "HTMLModel",
          "model_module_version": "1.5.0",
          "state": {
            "_view_name": "HTMLView",
            "style": "IPY_MODEL_0fa3c69bfd8842fb886386ae40663b1b",
            "_dom_classes": [],
            "description": "",
            "_model_name": "HTMLModel",
            "placeholder": "​",
            "_view_module": "@jupyter-widgets/controls",
            "_model_module_version": "1.5.0",
            "value": " 219k/? [00:00&lt;00:00, 3.29MB/s]",
            "_view_count": null,
            "_view_module_version": "1.5.0",
            "description_tooltip": null,
            "_model_module": "@jupyter-widgets/controls",
            "layout": "IPY_MODEL_09fdb9aafe1b41009875e8701039fc9e"
          }
        },
        "e8c4f742747d4b7fa6aeb668a3232900": {
          "model_module": "@jupyter-widgets/controls",
          "model_name": "DescriptionStyleModel",
          "model_module_version": "1.5.0",
          "state": {
            "_view_name": "StyleView",
            "_model_name": "DescriptionStyleModel",
            "description_width": "",
            "_view_module": "@jupyter-widgets/base",
            "_model_module_version": "1.5.0",
            "_view_count": null,
            "_view_module_version": "1.2.0",
            "_model_module": "@jupyter-widgets/controls"
          }
        },
        "d2eaa394b78c41eb927d689a80e5f93e": {
          "model_module": "@jupyter-widgets/base",
          "model_name": "LayoutModel",
          "model_module_version": "1.2.0",
          "state": {
            "_view_name": "LayoutView",
            "grid_template_rows": null,
            "right": null,
            "justify_content": null,
            "_view_module": "@jupyter-widgets/base",
            "overflow": null,
            "_model_module_version": "1.2.0",
            "_view_count": null,
            "flex_flow": null,
            "width": null,
            "min_width": null,
            "border": null,
            "align_items": null,
            "bottom": null,
            "_model_module": "@jupyter-widgets/base",
            "top": null,
            "grid_column": null,
            "overflow_y": null,
            "overflow_x": null,
            "grid_auto_flow": null,
            "grid_area": null,
            "grid_template_columns": null,
            "flex": null,
            "_model_name": "LayoutModel",
            "justify_items": null,
            "grid_row": null,
            "max_height": null,
            "align_content": null,
            "visibility": null,
            "align_self": null,
            "height": null,
            "min_height": null,
            "padding": null,
            "grid_auto_rows": null,
            "grid_gap": null,
            "max_width": null,
            "order": null,
            "_view_module_version": "1.2.0",
            "grid_template_areas": null,
            "object_position": null,
            "object_fit": null,
            "grid_auto_columns": null,
            "margin": null,
            "display": null,
            "left": null
          }
        },
        "f44ffdf5dcf44508a2867daa50305827": {
          "model_module": "@jupyter-widgets/controls",
          "model_name": "ProgressStyleModel",
          "model_module_version": "1.5.0",
          "state": {
            "_view_name": "StyleView",
            "_model_name": "ProgressStyleModel",
            "description_width": "",
            "_view_module": "@jupyter-widgets/base",
            "_model_module_version": "1.5.0",
            "_view_count": null,
            "_view_module_version": "1.2.0",
            "bar_color": null,
            "_model_module": "@jupyter-widgets/controls"
          }
        },
        "a9db90d95780466aac43508f1fd79c54": {
          "model_module": "@jupyter-widgets/base",
          "model_name": "LayoutModel",
          "model_module_version": "1.2.0",
          "state": {
            "_view_name": "LayoutView",
            "grid_template_rows": null,
            "right": null,
            "justify_content": null,
            "_view_module": "@jupyter-widgets/base",
            "overflow": null,
            "_model_module_version": "1.2.0",
            "_view_count": null,
            "flex_flow": null,
            "width": null,
            "min_width": null,
            "border": null,
            "align_items": null,
            "bottom": null,
            "_model_module": "@jupyter-widgets/base",
            "top": null,
            "grid_column": null,
            "overflow_y": null,
            "overflow_x": null,
            "grid_auto_flow": null,
            "grid_area": null,
            "grid_template_columns": null,
            "flex": null,
            "_model_name": "LayoutModel",
            "justify_items": null,
            "grid_row": null,
            "max_height": null,
            "align_content": null,
            "visibility": null,
            "align_self": null,
            "height": null,
            "min_height": null,
            "padding": null,
            "grid_auto_rows": null,
            "grid_gap": null,
            "max_width": null,
            "order": null,
            "_view_module_version": "1.2.0",
            "grid_template_areas": null,
            "object_position": null,
            "object_fit": null,
            "grid_auto_columns": null,
            "margin": null,
            "display": null,
            "left": null
          }
        },
        "0fa3c69bfd8842fb886386ae40663b1b": {
          "model_module": "@jupyter-widgets/controls",
          "model_name": "DescriptionStyleModel",
          "model_module_version": "1.5.0",
          "state": {
            "_view_name": "StyleView",
            "_model_name": "DescriptionStyleModel",
            "description_width": "",
            "_view_module": "@jupyter-widgets/base",
            "_model_module_version": "1.5.0",
            "_view_count": null,
            "_view_module_version": "1.2.0",
            "_model_module": "@jupyter-widgets/controls"
          }
        },
        "09fdb9aafe1b41009875e8701039fc9e": {
          "model_module": "@jupyter-widgets/base",
          "model_name": "LayoutModel",
          "model_module_version": "1.2.0",
          "state": {
            "_view_name": "LayoutView",
            "grid_template_rows": null,
            "right": null,
            "justify_content": null,
            "_view_module": "@jupyter-widgets/base",
            "overflow": null,
            "_model_module_version": "1.2.0",
            "_view_count": null,
            "flex_flow": null,
            "width": null,
            "min_width": null,
            "border": null,
            "align_items": null,
            "bottom": null,
            "_model_module": "@jupyter-widgets/base",
            "top": null,
            "grid_column": null,
            "overflow_y": null,
            "overflow_x": null,
            "grid_auto_flow": null,
            "grid_area": null,
            "grid_template_columns": null,
            "flex": null,
            "_model_name": "LayoutModel",
            "justify_items": null,
            "grid_row": null,
            "max_height": null,
            "align_content": null,
            "visibility": null,
            "align_self": null,
            "height": null,
            "min_height": null,
            "padding": null,
            "grid_auto_rows": null,
            "grid_gap": null,
            "max_width": null,
            "order": null,
            "_view_module_version": "1.2.0",
            "grid_template_areas": null,
            "object_position": null,
            "object_fit": null,
            "grid_auto_columns": null,
            "margin": null,
            "display": null,
            "left": null
          }
        },
        "1bb097f5b567477b96a2f65e942fe987": {
          "model_module": "@jupyter-widgets/controls",
          "model_name": "HBoxModel",
          "model_module_version": "1.5.0",
          "state": {
            "_view_name": "HBoxView",
            "_dom_classes": [],
            "_model_name": "HBoxModel",
            "_view_module": "@jupyter-widgets/controls",
            "_model_module_version": "1.5.0",
            "_view_count": null,
            "_view_module_version": "1.5.0",
            "box_style": "",
            "layout": "IPY_MODEL_ff3333811431400b9f64000413939037",
            "_model_module": "@jupyter-widgets/controls",
            "children": [
              "IPY_MODEL_4a5019164a484fc4a008374f07029268",
              "IPY_MODEL_9dccf3bb6e9947b49b26fbc5ecd199bb",
              "IPY_MODEL_859df1284e6a4cbfae171df4a577abdf"
            ]
          }
        },
        "ff3333811431400b9f64000413939037": {
          "model_module": "@jupyter-widgets/base",
          "model_name": "LayoutModel",
          "model_module_version": "1.2.0",
          "state": {
            "_view_name": "LayoutView",
            "grid_template_rows": null,
            "right": null,
            "justify_content": null,
            "_view_module": "@jupyter-widgets/base",
            "overflow": null,
            "_model_module_version": "1.2.0",
            "_view_count": null,
            "flex_flow": null,
            "width": null,
            "min_width": null,
            "border": null,
            "align_items": null,
            "bottom": null,
            "_model_module": "@jupyter-widgets/base",
            "top": null,
            "grid_column": null,
            "overflow_y": null,
            "overflow_x": null,
            "grid_auto_flow": null,
            "grid_area": null,
            "grid_template_columns": null,
            "flex": null,
            "_model_name": "LayoutModel",
            "justify_items": null,
            "grid_row": null,
            "max_height": null,
            "align_content": null,
            "visibility": null,
            "align_self": null,
            "height": null,
            "min_height": null,
            "padding": null,
            "grid_auto_rows": null,
            "grid_gap": null,
            "max_width": null,
            "order": null,
            "_view_module_version": "1.2.0",
            "grid_template_areas": null,
            "object_position": null,
            "object_fit": null,
            "grid_auto_columns": null,
            "margin": null,
            "display": null,
            "left": null
          }
        },
        "4a5019164a484fc4a008374f07029268": {
          "model_module": "@jupyter-widgets/controls",
          "model_name": "HTMLModel",
          "model_module_version": "1.5.0",
          "state": {
            "_view_name": "HTMLView",
            "style": "IPY_MODEL_27e795a85a77470a80ec7bc394cd9f68",
            "_dom_classes": [],
            "description": "",
            "_model_name": "HTMLModel",
            "placeholder": "​",
            "_view_module": "@jupyter-widgets/controls",
            "_model_module_version": "1.5.0",
            "value": "Downloading: ",
            "_view_count": null,
            "_view_module_version": "1.5.0",
            "description_tooltip": null,
            "_model_module": "@jupyter-widgets/controls",
            "layout": "IPY_MODEL_d0b2a25cc4c94bb7be2c8ac04874b26b"
          }
        },
        "9dccf3bb6e9947b49b26fbc5ecd199bb": {
          "model_module": "@jupyter-widgets/controls",
          "model_name": "FloatProgressModel",
          "model_module_version": "1.5.0",
          "state": {
            "_view_name": "ProgressView",
            "style": "IPY_MODEL_dde5cfdc19ba4a3e8536b9368f094471",
            "_dom_classes": [],
            "description": "",
            "_model_name": "FloatProgressModel",
            "bar_style": "success",
            "max": 629,
            "_view_module": "@jupyter-widgets/controls",
            "_model_module_version": "1.5.0",
            "value": 629,
            "_view_count": null,
            "_view_module_version": "1.5.0",
            "orientation": "horizontal",
            "min": 0,
            "description_tooltip": null,
            "_model_module": "@jupyter-widgets/controls",
            "layout": "IPY_MODEL_22f1e5e28f6446c8be84d362232bf3ac"
          }
        },
        "859df1284e6a4cbfae171df4a577abdf": {
          "model_module": "@jupyter-widgets/controls",
          "model_name": "HTMLModel",
          "model_module_version": "1.5.0",
          "state": {
            "_view_name": "HTMLView",
            "style": "IPY_MODEL_7de6609137d043e4ab187c0f2e531b8f",
            "_dom_classes": [],
            "description": "",
            "_model_name": "HTMLModel",
            "placeholder": "​",
            "_view_module": "@jupyter-widgets/controls",
            "_model_module_version": "1.5.0",
            "value": " 4.00k/? [00:00&lt;00:00, 61.5kB/s]",
            "_view_count": null,
            "_view_module_version": "1.5.0",
            "description_tooltip": null,
            "_model_module": "@jupyter-widgets/controls",
            "layout": "IPY_MODEL_d0741377e8e64700b8758b0d2d33d151"
          }
        },
        "27e795a85a77470a80ec7bc394cd9f68": {
          "model_module": "@jupyter-widgets/controls",
          "model_name": "DescriptionStyleModel",
          "model_module_version": "1.5.0",
          "state": {
            "_view_name": "StyleView",
            "_model_name": "DescriptionStyleModel",
            "description_width": "",
            "_view_module": "@jupyter-widgets/base",
            "_model_module_version": "1.5.0",
            "_view_count": null,
            "_view_module_version": "1.2.0",
            "_model_module": "@jupyter-widgets/controls"
          }
        },
        "d0b2a25cc4c94bb7be2c8ac04874b26b": {
          "model_module": "@jupyter-widgets/base",
          "model_name": "LayoutModel",
          "model_module_version": "1.2.0",
          "state": {
            "_view_name": "LayoutView",
            "grid_template_rows": null,
            "right": null,
            "justify_content": null,
            "_view_module": "@jupyter-widgets/base",
            "overflow": null,
            "_model_module_version": "1.2.0",
            "_view_count": null,
            "flex_flow": null,
            "width": null,
            "min_width": null,
            "border": null,
            "align_items": null,
            "bottom": null,
            "_model_module": "@jupyter-widgets/base",
            "top": null,
            "grid_column": null,
            "overflow_y": null,
            "overflow_x": null,
            "grid_auto_flow": null,
            "grid_area": null,
            "grid_template_columns": null,
            "flex": null,
            "_model_name": "LayoutModel",
            "justify_items": null,
            "grid_row": null,
            "max_height": null,
            "align_content": null,
            "visibility": null,
            "align_self": null,
            "height": null,
            "min_height": null,
            "padding": null,
            "grid_auto_rows": null,
            "grid_gap": null,
            "max_width": null,
            "order": null,
            "_view_module_version": "1.2.0",
            "grid_template_areas": null,
            "object_position": null,
            "object_fit": null,
            "grid_auto_columns": null,
            "margin": null,
            "display": null,
            "left": null
          }
        },
        "dde5cfdc19ba4a3e8536b9368f094471": {
          "model_module": "@jupyter-widgets/controls",
          "model_name": "ProgressStyleModel",
          "model_module_version": "1.5.0",
          "state": {
            "_view_name": "StyleView",
            "_model_name": "ProgressStyleModel",
            "description_width": "",
            "_view_module": "@jupyter-widgets/base",
            "_model_module_version": "1.5.0",
            "_view_count": null,
            "_view_module_version": "1.2.0",
            "bar_color": null,
            "_model_module": "@jupyter-widgets/controls"
          }
        },
        "22f1e5e28f6446c8be84d362232bf3ac": {
          "model_module": "@jupyter-widgets/base",
          "model_name": "LayoutModel",
          "model_module_version": "1.2.0",
          "state": {
            "_view_name": "LayoutView",
            "grid_template_rows": null,
            "right": null,
            "justify_content": null,
            "_view_module": "@jupyter-widgets/base",
            "overflow": null,
            "_model_module_version": "1.2.0",
            "_view_count": null,
            "flex_flow": null,
            "width": null,
            "min_width": null,
            "border": null,
            "align_items": null,
            "bottom": null,
            "_model_module": "@jupyter-widgets/base",
            "top": null,
            "grid_column": null,
            "overflow_y": null,
            "overflow_x": null,
            "grid_auto_flow": null,
            "grid_area": null,
            "grid_template_columns": null,
            "flex": null,
            "_model_name": "LayoutModel",
            "justify_items": null,
            "grid_row": null,
            "max_height": null,
            "align_content": null,
            "visibility": null,
            "align_self": null,
            "height": null,
            "min_height": null,
            "padding": null,
            "grid_auto_rows": null,
            "grid_gap": null,
            "max_width": null,
            "order": null,
            "_view_module_version": "1.2.0",
            "grid_template_areas": null,
            "object_position": null,
            "object_fit": null,
            "grid_auto_columns": null,
            "margin": null,
            "display": null,
            "left": null
          }
        },
        "7de6609137d043e4ab187c0f2e531b8f": {
          "model_module": "@jupyter-widgets/controls",
          "model_name": "DescriptionStyleModel",
          "model_module_version": "1.5.0",
          "state": {
            "_view_name": "StyleView",
            "_model_name": "DescriptionStyleModel",
            "description_width": "",
            "_view_module": "@jupyter-widgets/base",
            "_model_module_version": "1.5.0",
            "_view_count": null,
            "_view_module_version": "1.2.0",
            "_model_module": "@jupyter-widgets/controls"
          }
        },
        "d0741377e8e64700b8758b0d2d33d151": {
          "model_module": "@jupyter-widgets/base",
          "model_name": "LayoutModel",
          "model_module_version": "1.2.0",
          "state": {
            "_view_name": "LayoutView",
            "grid_template_rows": null,
            "right": null,
            "justify_content": null,
            "_view_module": "@jupyter-widgets/base",
            "overflow": null,
            "_model_module_version": "1.2.0",
            "_view_count": null,
            "flex_flow": null,
            "width": null,
            "min_width": null,
            "border": null,
            "align_items": null,
            "bottom": null,
            "_model_module": "@jupyter-widgets/base",
            "top": null,
            "grid_column": null,
            "overflow_y": null,
            "overflow_x": null,
            "grid_auto_flow": null,
            "grid_area": null,
            "grid_template_columns": null,
            "flex": null,
            "_model_name": "LayoutModel",
            "justify_items": null,
            "grid_row": null,
            "max_height": null,
            "align_content": null,
            "visibility": null,
            "align_self": null,
            "height": null,
            "min_height": null,
            "padding": null,
            "grid_auto_rows": null,
            "grid_gap": null,
            "max_width": null,
            "order": null,
            "_view_module_version": "1.2.0",
            "grid_template_areas": null,
            "object_position": null,
            "object_fit": null,
            "grid_auto_columns": null,
            "margin": null,
            "display": null,
            "left": null
          }
        },
        "3577fe3a06a74bfd9c1d60ad7e05c71b": {
          "model_module": "@jupyter-widgets/controls",
          "model_name": "HBoxModel",
          "model_module_version": "1.5.0",
          "state": {
            "_view_name": "HBoxView",
            "_dom_classes": [],
            "_model_name": "HBoxModel",
            "_view_module": "@jupyter-widgets/controls",
            "_model_module_version": "1.5.0",
            "_view_count": null,
            "_view_module_version": "1.5.0",
            "box_style": "",
            "layout": "IPY_MODEL_8ca78998e116485e87ed36ce30fabcd0",
            "_model_module": "@jupyter-widgets/controls",
            "children": [
              "IPY_MODEL_c8d5a0729f8e4dc0ace9a6a997895926",
              "IPY_MODEL_10f6d899d5f54c7bb9b30ec9e5f8a4a6",
              "IPY_MODEL_94fd1101c90d4b6fbfa4c2cee0625e77"
            ]
          }
        },
        "8ca78998e116485e87ed36ce30fabcd0": {
          "model_module": "@jupyter-widgets/base",
          "model_name": "LayoutModel",
          "model_module_version": "1.2.0",
          "state": {
            "_view_name": "LayoutView",
            "grid_template_rows": null,
            "right": null,
            "justify_content": null,
            "_view_module": "@jupyter-widgets/base",
            "overflow": null,
            "_model_module_version": "1.2.0",
            "_view_count": null,
            "flex_flow": null,
            "width": null,
            "min_width": null,
            "border": null,
            "align_items": null,
            "bottom": null,
            "_model_module": "@jupyter-widgets/base",
            "top": null,
            "grid_column": null,
            "overflow_y": null,
            "overflow_x": null,
            "grid_auto_flow": null,
            "grid_area": null,
            "grid_template_columns": null,
            "flex": null,
            "_model_name": "LayoutModel",
            "justify_items": null,
            "grid_row": null,
            "max_height": null,
            "align_content": null,
            "visibility": null,
            "align_self": null,
            "height": null,
            "min_height": null,
            "padding": null,
            "grid_auto_rows": null,
            "grid_gap": null,
            "max_width": null,
            "order": null,
            "_view_module_version": "1.2.0",
            "grid_template_areas": null,
            "object_position": null,
            "object_fit": null,
            "grid_auto_columns": null,
            "margin": null,
            "display": null,
            "left": null
          }
        },
        "c8d5a0729f8e4dc0ace9a6a997895926": {
          "model_module": "@jupyter-widgets/controls",
          "model_name": "HTMLModel",
          "model_module_version": "1.5.0",
          "state": {
            "_view_name": "HTMLView",
            "style": "IPY_MODEL_f3d8886fd0f14b009ff9a846609b7014",
            "_dom_classes": [],
            "description": "",
            "_model_name": "HTMLModel",
            "placeholder": "​",
            "_view_module": "@jupyter-widgets/controls",
            "_model_module_version": "1.5.0",
            "value": "100%",
            "_view_count": null,
            "_view_module_version": "1.5.0",
            "description_tooltip": null,
            "_model_module": "@jupyter-widgets/controls",
            "layout": "IPY_MODEL_e8aa50a5471945128deb8e81113f37d3"
          }
        },
        "10f6d899d5f54c7bb9b30ec9e5f8a4a6": {
          "model_module": "@jupyter-widgets/controls",
          "model_name": "FloatProgressModel",
          "model_module_version": "1.5.0",
          "state": {
            "_view_name": "ProgressView",
            "style": "IPY_MODEL_0aa627a156a440bbb5cc6779d2d8aec9",
            "_dom_classes": [],
            "description": "",
            "_model_name": "FloatProgressModel",
            "bar_style": "success",
            "max": 6,
            "_view_module": "@jupyter-widgets/controls",
            "_model_module_version": "1.5.0",
            "value": 6,
            "_view_count": null,
            "_view_module_version": "1.5.0",
            "orientation": "horizontal",
            "min": 0,
            "description_tooltip": null,
            "_model_module": "@jupyter-widgets/controls",
            "layout": "IPY_MODEL_6e2cbc49e388480fb8430c215b6c9074"
          }
        },
        "94fd1101c90d4b6fbfa4c2cee0625e77": {
          "model_module": "@jupyter-widgets/controls",
          "model_name": "HTMLModel",
          "model_module_version": "1.5.0",
          "state": {
            "_view_name": "HTMLView",
            "style": "IPY_MODEL_b6a80a5c2fb84589acbfa3fab3dc7fb6",
            "_dom_classes": [],
            "description": "",
            "_model_name": "HTMLModel",
            "placeholder": "​",
            "_view_module": "@jupyter-widgets/controls",
            "_model_module_version": "1.5.0",
            "value": " 6/6 [00:00&lt;00:00, 106.11it/s]",
            "_view_count": null,
            "_view_module_version": "1.5.0",
            "description_tooltip": null,
            "_model_module": "@jupyter-widgets/controls",
            "layout": "IPY_MODEL_d030e03390ba41cf83df21e5b46c43ed"
          }
        },
        "f3d8886fd0f14b009ff9a846609b7014": {
          "model_module": "@jupyter-widgets/controls",
          "model_name": "DescriptionStyleModel",
          "model_module_version": "1.5.0",
          "state": {
            "_view_name": "StyleView",
            "_model_name": "DescriptionStyleModel",
            "description_width": "",
            "_view_module": "@jupyter-widgets/base",
            "_model_module_version": "1.5.0",
            "_view_count": null,
            "_view_module_version": "1.2.0",
            "_model_module": "@jupyter-widgets/controls"
          }
        },
        "e8aa50a5471945128deb8e81113f37d3": {
          "model_module": "@jupyter-widgets/base",
          "model_name": "LayoutModel",
          "model_module_version": "1.2.0",
          "state": {
            "_view_name": "LayoutView",
            "grid_template_rows": null,
            "right": null,
            "justify_content": null,
            "_view_module": "@jupyter-widgets/base",
            "overflow": null,
            "_model_module_version": "1.2.0",
            "_view_count": null,
            "flex_flow": null,
            "width": null,
            "min_width": null,
            "border": null,
            "align_items": null,
            "bottom": null,
            "_model_module": "@jupyter-widgets/base",
            "top": null,
            "grid_column": null,
            "overflow_y": null,
            "overflow_x": null,
            "grid_auto_flow": null,
            "grid_area": null,
            "grid_template_columns": null,
            "flex": null,
            "_model_name": "LayoutModel",
            "justify_items": null,
            "grid_row": null,
            "max_height": null,
            "align_content": null,
            "visibility": null,
            "align_self": null,
            "height": null,
            "min_height": null,
            "padding": null,
            "grid_auto_rows": null,
            "grid_gap": null,
            "max_width": null,
            "order": null,
            "_view_module_version": "1.2.0",
            "grid_template_areas": null,
            "object_position": null,
            "object_fit": null,
            "grid_auto_columns": null,
            "margin": null,
            "display": null,
            "left": null
          }
        },
        "0aa627a156a440bbb5cc6779d2d8aec9": {
          "model_module": "@jupyter-widgets/controls",
          "model_name": "ProgressStyleModel",
          "model_module_version": "1.5.0",
          "state": {
            "_view_name": "StyleView",
            "_model_name": "ProgressStyleModel",
            "description_width": "",
            "_view_module": "@jupyter-widgets/base",
            "_model_module_version": "1.5.0",
            "_view_count": null,
            "_view_module_version": "1.2.0",
            "bar_color": null,
            "_model_module": "@jupyter-widgets/controls"
          }
        },
        "6e2cbc49e388480fb8430c215b6c9074": {
          "model_module": "@jupyter-widgets/base",
          "model_name": "LayoutModel",
          "model_module_version": "1.2.0",
          "state": {
            "_view_name": "LayoutView",
            "grid_template_rows": null,
            "right": null,
            "justify_content": null,
            "_view_module": "@jupyter-widgets/base",
            "overflow": null,
            "_model_module_version": "1.2.0",
            "_view_count": null,
            "flex_flow": null,
            "width": null,
            "min_width": null,
            "border": null,
            "align_items": null,
            "bottom": null,
            "_model_module": "@jupyter-widgets/base",
            "top": null,
            "grid_column": null,
            "overflow_y": null,
            "overflow_x": null,
            "grid_auto_flow": null,
            "grid_area": null,
            "grid_template_columns": null,
            "flex": null,
            "_model_name": "LayoutModel",
            "justify_items": null,
            "grid_row": null,
            "max_height": null,
            "align_content": null,
            "visibility": null,
            "align_self": null,
            "height": null,
            "min_height": null,
            "padding": null,
            "grid_auto_rows": null,
            "grid_gap": null,
            "max_width": null,
            "order": null,
            "_view_module_version": "1.2.0",
            "grid_template_areas": null,
            "object_position": null,
            "object_fit": null,
            "grid_auto_columns": null,
            "margin": null,
            "display": null,
            "left": null
          }
        },
        "b6a80a5c2fb84589acbfa3fab3dc7fb6": {
          "model_module": "@jupyter-widgets/controls",
          "model_name": "DescriptionStyleModel",
          "model_module_version": "1.5.0",
          "state": {
            "_view_name": "StyleView",
            "_model_name": "DescriptionStyleModel",
            "description_width": "",
            "_view_module": "@jupyter-widgets/base",
            "_model_module_version": "1.5.0",
            "_view_count": null,
            "_view_module_version": "1.2.0",
            "_model_module": "@jupyter-widgets/controls"
          }
        },
        "d030e03390ba41cf83df21e5b46c43ed": {
          "model_module": "@jupyter-widgets/base",
          "model_name": "LayoutModel",
          "model_module_version": "1.2.0",
          "state": {
            "_view_name": "LayoutView",
            "grid_template_rows": null,
            "right": null,
            "justify_content": null,
            "_view_module": "@jupyter-widgets/base",
            "overflow": null,
            "_model_module_version": "1.2.0",
            "_view_count": null,
            "flex_flow": null,
            "width": null,
            "min_width": null,
            "border": null,
            "align_items": null,
            "bottom": null,
            "_model_module": "@jupyter-widgets/base",
            "top": null,
            "grid_column": null,
            "overflow_y": null,
            "overflow_x": null,
            "grid_auto_flow": null,
            "grid_area": null,
            "grid_template_columns": null,
            "flex": null,
            "_model_name": "LayoutModel",
            "justify_items": null,
            "grid_row": null,
            "max_height": null,
            "align_content": null,
            "visibility": null,
            "align_self": null,
            "height": null,
            "min_height": null,
            "padding": null,
            "grid_auto_rows": null,
            "grid_gap": null,
            "max_width": null,
            "order": null,
            "_view_module_version": "1.2.0",
            "grid_template_areas": null,
            "object_position": null,
            "object_fit": null,
            "grid_auto_columns": null,
            "margin": null,
            "display": null,
            "left": null
          }
        },
        "7d33a220b9a04f3e8f9e6626575bd83e": {
          "model_module": "@jupyter-widgets/controls",
          "model_name": "HBoxModel",
          "model_module_version": "1.5.0",
          "state": {
            "_view_name": "HBoxView",
            "_dom_classes": [],
            "_model_name": "HBoxModel",
            "_view_module": "@jupyter-widgets/controls",
            "_model_module_version": "1.5.0",
            "_view_count": null,
            "_view_module_version": "1.5.0",
            "box_style": "",
            "layout": "IPY_MODEL_83ca5a2fa1d441ad9f9b1b0275cd11cb",
            "_model_module": "@jupyter-widgets/controls",
            "children": [
              "IPY_MODEL_dca2f64dd8ed48a08817eea0080c5636",
              "IPY_MODEL_be02a6e717f249e3bbed116595abb452",
              "IPY_MODEL_05205e7378d34e29bd5abb6dbf4f59dd"
            ]
          }
        },
        "83ca5a2fa1d441ad9f9b1b0275cd11cb": {
          "model_module": "@jupyter-widgets/base",
          "model_name": "LayoutModel",
          "model_module_version": "1.2.0",
          "state": {
            "_view_name": "LayoutView",
            "grid_template_rows": null,
            "right": null,
            "justify_content": null,
            "_view_module": "@jupyter-widgets/base",
            "overflow": null,
            "_model_module_version": "1.2.0",
            "_view_count": null,
            "flex_flow": null,
            "width": null,
            "min_width": null,
            "border": null,
            "align_items": null,
            "bottom": null,
            "_model_module": "@jupyter-widgets/base",
            "top": null,
            "grid_column": null,
            "overflow_y": null,
            "overflow_x": null,
            "grid_auto_flow": null,
            "grid_area": null,
            "grid_template_columns": null,
            "flex": null,
            "_model_name": "LayoutModel",
            "justify_items": null,
            "grid_row": null,
            "max_height": null,
            "align_content": null,
            "visibility": null,
            "align_self": null,
            "height": null,
            "min_height": null,
            "padding": null,
            "grid_auto_rows": null,
            "grid_gap": null,
            "max_width": null,
            "order": null,
            "_view_module_version": "1.2.0",
            "grid_template_areas": null,
            "object_position": null,
            "object_fit": null,
            "grid_auto_columns": null,
            "margin": null,
            "display": null,
            "left": null
          }
        },
        "dca2f64dd8ed48a08817eea0080c5636": {
          "model_module": "@jupyter-widgets/controls",
          "model_name": "HTMLModel",
          "model_module_version": "1.5.0",
          "state": {
            "_view_name": "HTMLView",
            "style": "IPY_MODEL_f142433f45474b0eaeb9e64b467e2cec",
            "_dom_classes": [],
            "description": "",
            "_model_name": "HTMLModel",
            "placeholder": "​",
            "_view_module": "@jupyter-widgets/controls",
            "_model_module_version": "1.5.0",
            "value": "",
            "_view_count": null,
            "_view_module_version": "1.5.0",
            "description_tooltip": null,
            "_model_module": "@jupyter-widgets/controls",
            "layout": "IPY_MODEL_681db7ae5a3441659162ee991031254f"
          }
        },
        "be02a6e717f249e3bbed116595abb452": {
          "model_module": "@jupyter-widgets/controls",
          "model_name": "FloatProgressModel",
          "model_module_version": "1.5.0",
          "state": {
            "_view_name": "ProgressView",
            "style": "IPY_MODEL_7a7adb9ba6954b0e812c90fe591764eb",
            "_dom_classes": [],
            "description": "",
            "_model_name": "FloatProgressModel",
            "bar_style": "info",
            "max": 1,
            "_view_module": "@jupyter-widgets/controls",
            "_model_module_version": "1.5.0",
            "value": 1,
            "_view_count": null,
            "_view_module_version": "1.5.0",
            "orientation": "horizontal",
            "min": 0,
            "description_tooltip": null,
            "_model_module": "@jupyter-widgets/controls",
            "layout": "IPY_MODEL_bc5f763bdec1402f883844f7a8d0688b"
          }
        },
        "05205e7378d34e29bd5abb6dbf4f59dd": {
          "model_module": "@jupyter-widgets/controls",
          "model_name": "HTMLModel",
          "model_module_version": "1.5.0",
          "state": {
            "_view_name": "HTMLView",
            "style": "IPY_MODEL_b938e3345d804ef59067eb8de82aace8",
            "_dom_classes": [],
            "description": "",
            "_model_name": "HTMLModel",
            "placeholder": "​",
            "_view_module": "@jupyter-widgets/controls",
            "_model_module_version": "1.5.0",
            "value": " 42781/0 [00:01&lt;00:00, 35654.16 examples/s]",
            "_view_count": null,
            "_view_module_version": "1.5.0",
            "description_tooltip": null,
            "_model_module": "@jupyter-widgets/controls",
            "layout": "IPY_MODEL_9a4c26e12c5e4cf3a5b8304e41d361eb"
          }
        },
        "f142433f45474b0eaeb9e64b467e2cec": {
          "model_module": "@jupyter-widgets/controls",
          "model_name": "DescriptionStyleModel",
          "model_module_version": "1.5.0",
          "state": {
            "_view_name": "StyleView",
            "_model_name": "DescriptionStyleModel",
            "description_width": "",
            "_view_module": "@jupyter-widgets/base",
            "_model_module_version": "1.5.0",
            "_view_count": null,
            "_view_module_version": "1.2.0",
            "_model_module": "@jupyter-widgets/controls"
          }
        },
        "681db7ae5a3441659162ee991031254f": {
          "model_module": "@jupyter-widgets/base",
          "model_name": "LayoutModel",
          "model_module_version": "1.2.0",
          "state": {
            "_view_name": "LayoutView",
            "grid_template_rows": null,
            "right": null,
            "justify_content": null,
            "_view_module": "@jupyter-widgets/base",
            "overflow": null,
            "_model_module_version": "1.2.0",
            "_view_count": null,
            "flex_flow": null,
            "width": null,
            "min_width": null,
            "border": null,
            "align_items": null,
            "bottom": null,
            "_model_module": "@jupyter-widgets/base",
            "top": null,
            "grid_column": null,
            "overflow_y": null,
            "overflow_x": null,
            "grid_auto_flow": null,
            "grid_area": null,
            "grid_template_columns": null,
            "flex": null,
            "_model_name": "LayoutModel",
            "justify_items": null,
            "grid_row": null,
            "max_height": null,
            "align_content": null,
            "visibility": null,
            "align_self": null,
            "height": null,
            "min_height": null,
            "padding": null,
            "grid_auto_rows": null,
            "grid_gap": null,
            "max_width": null,
            "order": null,
            "_view_module_version": "1.2.0",
            "grid_template_areas": null,
            "object_position": null,
            "object_fit": null,
            "grid_auto_columns": null,
            "margin": null,
            "display": null,
            "left": null
          }
        },
        "7a7adb9ba6954b0e812c90fe591764eb": {
          "model_module": "@jupyter-widgets/controls",
          "model_name": "ProgressStyleModel",
          "model_module_version": "1.5.0",
          "state": {
            "_view_name": "StyleView",
            "_model_name": "ProgressStyleModel",
            "description_width": "",
            "_view_module": "@jupyter-widgets/base",
            "_model_module_version": "1.5.0",
            "_view_count": null,
            "_view_module_version": "1.2.0",
            "bar_color": null,
            "_model_module": "@jupyter-widgets/controls"
          }
        },
        "bc5f763bdec1402f883844f7a8d0688b": {
          "model_module": "@jupyter-widgets/base",
          "model_name": "LayoutModel",
          "model_module_version": "1.2.0",
          "state": {
            "_view_name": "LayoutView",
            "grid_template_rows": null,
            "right": null,
            "justify_content": null,
            "_view_module": "@jupyter-widgets/base",
            "overflow": null,
            "_model_module_version": "1.2.0",
            "_view_count": null,
            "flex_flow": null,
            "width": "20px",
            "min_width": null,
            "border": null,
            "align_items": null,
            "bottom": null,
            "_model_module": "@jupyter-widgets/base",
            "top": null,
            "grid_column": null,
            "overflow_y": null,
            "overflow_x": null,
            "grid_auto_flow": null,
            "grid_area": null,
            "grid_template_columns": null,
            "flex": null,
            "_model_name": "LayoutModel",
            "justify_items": null,
            "grid_row": null,
            "max_height": null,
            "align_content": null,
            "visibility": null,
            "align_self": null,
            "height": null,
            "min_height": null,
            "padding": null,
            "grid_auto_rows": null,
            "grid_gap": null,
            "max_width": null,
            "order": null,
            "_view_module_version": "1.2.0",
            "grid_template_areas": null,
            "object_position": null,
            "object_fit": null,
            "grid_auto_columns": null,
            "margin": null,
            "display": null,
            "left": null
          }
        },
        "b938e3345d804ef59067eb8de82aace8": {
          "model_module": "@jupyter-widgets/controls",
          "model_name": "DescriptionStyleModel",
          "model_module_version": "1.5.0",
          "state": {
            "_view_name": "StyleView",
            "_model_name": "DescriptionStyleModel",
            "description_width": "",
            "_view_module": "@jupyter-widgets/base",
            "_model_module_version": "1.5.0",
            "_view_count": null,
            "_view_module_version": "1.2.0",
            "_model_module": "@jupyter-widgets/controls"
          }
        },
        "9a4c26e12c5e4cf3a5b8304e41d361eb": {
          "model_module": "@jupyter-widgets/base",
          "model_name": "LayoutModel",
          "model_module_version": "1.2.0",
          "state": {
            "_view_name": "LayoutView",
            "grid_template_rows": null,
            "right": null,
            "justify_content": null,
            "_view_module": "@jupyter-widgets/base",
            "overflow": null,
            "_model_module_version": "1.2.0",
            "_view_count": null,
            "flex_flow": null,
            "width": null,
            "min_width": null,
            "border": null,
            "align_items": null,
            "bottom": null,
            "_model_module": "@jupyter-widgets/base",
            "top": null,
            "grid_column": null,
            "overflow_y": null,
            "overflow_x": null,
            "grid_auto_flow": null,
            "grid_area": null,
            "grid_template_columns": null,
            "flex": null,
            "_model_name": "LayoutModel",
            "justify_items": null,
            "grid_row": null,
            "max_height": null,
            "align_content": null,
            "visibility": null,
            "align_self": null,
            "height": null,
            "min_height": null,
            "padding": null,
            "grid_auto_rows": null,
            "grid_gap": null,
            "max_width": null,
            "order": null,
            "_view_module_version": "1.2.0",
            "grid_template_areas": null,
            "object_position": null,
            "object_fit": null,
            "grid_auto_columns": null,
            "margin": null,
            "display": null,
            "left": null
          }
        },
        "017eddc2a284410c8dd898453de333e8": {
          "model_module": "@jupyter-widgets/controls",
          "model_name": "HBoxModel",
          "model_module_version": "1.5.0",
          "state": {
            "_view_name": "HBoxView",
            "_dom_classes": [],
            "_model_name": "HBoxModel",
            "_view_module": "@jupyter-widgets/controls",
            "_model_module_version": "1.5.0",
            "_view_count": null,
            "_view_module_version": "1.5.0",
            "box_style": "",
            "layout": "IPY_MODEL_e298093073364fbb8dc08e29d5e0537d",
            "_model_module": "@jupyter-widgets/controls",
            "children": [
              "IPY_MODEL_a534fb6c21ad44de919f4989970e159a",
              "IPY_MODEL_bf91dec3837942fc84ef169a2cd5c899",
              "IPY_MODEL_a19e4bcd43b744cb8cc54a8379518129"
            ]
          }
        },
        "e298093073364fbb8dc08e29d5e0537d": {
          "model_module": "@jupyter-widgets/base",
          "model_name": "LayoutModel",
          "model_module_version": "1.2.0",
          "state": {
            "_view_name": "LayoutView",
            "grid_template_rows": null,
            "right": null,
            "justify_content": null,
            "_view_module": "@jupyter-widgets/base",
            "overflow": null,
            "_model_module_version": "1.2.0",
            "_view_count": null,
            "flex_flow": null,
            "width": null,
            "min_width": null,
            "border": null,
            "align_items": null,
            "bottom": null,
            "_model_module": "@jupyter-widgets/base",
            "top": null,
            "grid_column": null,
            "overflow_y": null,
            "overflow_x": null,
            "grid_auto_flow": null,
            "grid_area": null,
            "grid_template_columns": null,
            "flex": null,
            "_model_name": "LayoutModel",
            "justify_items": null,
            "grid_row": null,
            "max_height": null,
            "align_content": null,
            "visibility": null,
            "align_self": null,
            "height": null,
            "min_height": null,
            "padding": null,
            "grid_auto_rows": null,
            "grid_gap": null,
            "max_width": null,
            "order": null,
            "_view_module_version": "1.2.0",
            "grid_template_areas": null,
            "object_position": null,
            "object_fit": null,
            "grid_auto_columns": null,
            "margin": null,
            "display": null,
            "left": null
          }
        },
        "a534fb6c21ad44de919f4989970e159a": {
          "model_module": "@jupyter-widgets/controls",
          "model_name": "HTMLModel",
          "model_module_version": "1.5.0",
          "state": {
            "_view_name": "HTMLView",
            "style": "IPY_MODEL_37ae32b5d24b4f8786dc11c068526fe2",
            "_dom_classes": [],
            "description": "",
            "_model_name": "HTMLModel",
            "placeholder": "​",
            "_view_module": "@jupyter-widgets/controls",
            "_model_module_version": "1.5.0",
            "value": "",
            "_view_count": null,
            "_view_module_version": "1.5.0",
            "description_tooltip": null,
            "_model_module": "@jupyter-widgets/controls",
            "layout": "IPY_MODEL_7b40f198985d441b8f7d758ea87eae2d"
          }
        },
        "bf91dec3837942fc84ef169a2cd5c899": {
          "model_module": "@jupyter-widgets/controls",
          "model_name": "FloatProgressModel",
          "model_module_version": "1.5.0",
          "state": {
            "_view_name": "ProgressView",
            "style": "IPY_MODEL_2bd93a2cf51c4b5c876741a29babfd67",
            "_dom_classes": [],
            "description": "",
            "_model_name": "FloatProgressModel",
            "bar_style": "info",
            "max": 1,
            "_view_module": "@jupyter-widgets/controls",
            "_model_module_version": "1.5.0",
            "value": 1,
            "_view_count": null,
            "_view_module_version": "1.5.0",
            "orientation": "horizontal",
            "min": 0,
            "description_tooltip": null,
            "_model_module": "@jupyter-widgets/controls",
            "layout": "IPY_MODEL_e76cbbfb565a478d9e917955e5393cc9"
          }
        },
        "a19e4bcd43b744cb8cc54a8379518129": {
          "model_module": "@jupyter-widgets/controls",
          "model_name": "HTMLModel",
          "model_module_version": "1.5.0",
          "state": {
            "_view_name": "HTMLView",
            "style": "IPY_MODEL_2ba09f099d7b4ae1add7ac4af80ba242",
            "_dom_classes": [],
            "description": "",
            "_model_name": "HTMLModel",
            "placeholder": "​",
            "_view_module": "@jupyter-widgets/controls",
            "_model_module_version": "1.5.0",
            "value": " 12261/0 [00:00&lt;00:00, 33408.32 examples/s]",
            "_view_count": null,
            "_view_module_version": "1.5.0",
            "description_tooltip": null,
            "_model_module": "@jupyter-widgets/controls",
            "layout": "IPY_MODEL_6e6ac0d2697a414eb7d6b6b03c6e453a"
          }
        },
        "37ae32b5d24b4f8786dc11c068526fe2": {
          "model_module": "@jupyter-widgets/controls",
          "model_name": "DescriptionStyleModel",
          "model_module_version": "1.5.0",
          "state": {
            "_view_name": "StyleView",
            "_model_name": "DescriptionStyleModel",
            "description_width": "",
            "_view_module": "@jupyter-widgets/base",
            "_model_module_version": "1.5.0",
            "_view_count": null,
            "_view_module_version": "1.2.0",
            "_model_module": "@jupyter-widgets/controls"
          }
        },
        "7b40f198985d441b8f7d758ea87eae2d": {
          "model_module": "@jupyter-widgets/base",
          "model_name": "LayoutModel",
          "model_module_version": "1.2.0",
          "state": {
            "_view_name": "LayoutView",
            "grid_template_rows": null,
            "right": null,
            "justify_content": null,
            "_view_module": "@jupyter-widgets/base",
            "overflow": null,
            "_model_module_version": "1.2.0",
            "_view_count": null,
            "flex_flow": null,
            "width": null,
            "min_width": null,
            "border": null,
            "align_items": null,
            "bottom": null,
            "_model_module": "@jupyter-widgets/base",
            "top": null,
            "grid_column": null,
            "overflow_y": null,
            "overflow_x": null,
            "grid_auto_flow": null,
            "grid_area": null,
            "grid_template_columns": null,
            "flex": null,
            "_model_name": "LayoutModel",
            "justify_items": null,
            "grid_row": null,
            "max_height": null,
            "align_content": null,
            "visibility": null,
            "align_self": null,
            "height": null,
            "min_height": null,
            "padding": null,
            "grid_auto_rows": null,
            "grid_gap": null,
            "max_width": null,
            "order": null,
            "_view_module_version": "1.2.0",
            "grid_template_areas": null,
            "object_position": null,
            "object_fit": null,
            "grid_auto_columns": null,
            "margin": null,
            "display": null,
            "left": null
          }
        },
        "2bd93a2cf51c4b5c876741a29babfd67": {
          "model_module": "@jupyter-widgets/controls",
          "model_name": "ProgressStyleModel",
          "model_module_version": "1.5.0",
          "state": {
            "_view_name": "StyleView",
            "_model_name": "ProgressStyleModel",
            "description_width": "",
            "_view_module": "@jupyter-widgets/base",
            "_model_module_version": "1.5.0",
            "_view_count": null,
            "_view_module_version": "1.2.0",
            "bar_color": null,
            "_model_module": "@jupyter-widgets/controls"
          }
        },
        "e76cbbfb565a478d9e917955e5393cc9": {
          "model_module": "@jupyter-widgets/base",
          "model_name": "LayoutModel",
          "model_module_version": "1.2.0",
          "state": {
            "_view_name": "LayoutView",
            "grid_template_rows": null,
            "right": null,
            "justify_content": null,
            "_view_module": "@jupyter-widgets/base",
            "overflow": null,
            "_model_module_version": "1.2.0",
            "_view_count": null,
            "flex_flow": null,
            "width": "20px",
            "min_width": null,
            "border": null,
            "align_items": null,
            "bottom": null,
            "_model_module": "@jupyter-widgets/base",
            "top": null,
            "grid_column": null,
            "overflow_y": null,
            "overflow_x": null,
            "grid_auto_flow": null,
            "grid_area": null,
            "grid_template_columns": null,
            "flex": null,
            "_model_name": "LayoutModel",
            "justify_items": null,
            "grid_row": null,
            "max_height": null,
            "align_content": null,
            "visibility": null,
            "align_self": null,
            "height": null,
            "min_height": null,
            "padding": null,
            "grid_auto_rows": null,
            "grid_gap": null,
            "max_width": null,
            "order": null,
            "_view_module_version": "1.2.0",
            "grid_template_areas": null,
            "object_position": null,
            "object_fit": null,
            "grid_auto_columns": null,
            "margin": null,
            "display": null,
            "left": null
          }
        },
        "2ba09f099d7b4ae1add7ac4af80ba242": {
          "model_module": "@jupyter-widgets/controls",
          "model_name": "DescriptionStyleModel",
          "model_module_version": "1.5.0",
          "state": {
            "_view_name": "StyleView",
            "_model_name": "DescriptionStyleModel",
            "description_width": "",
            "_view_module": "@jupyter-widgets/base",
            "_model_module_version": "1.5.0",
            "_view_count": null,
            "_view_module_version": "1.2.0",
            "_model_module": "@jupyter-widgets/controls"
          }
        },
        "6e6ac0d2697a414eb7d6b6b03c6e453a": {
          "model_module": "@jupyter-widgets/base",
          "model_name": "LayoutModel",
          "model_module_version": "1.2.0",
          "state": {
            "_view_name": "LayoutView",
            "grid_template_rows": null,
            "right": null,
            "justify_content": null,
            "_view_module": "@jupyter-widgets/base",
            "overflow": null,
            "_model_module_version": "1.2.0",
            "_view_count": null,
            "flex_flow": null,
            "width": null,
            "min_width": null,
            "border": null,
            "align_items": null,
            "bottom": null,
            "_model_module": "@jupyter-widgets/base",
            "top": null,
            "grid_column": null,
            "overflow_y": null,
            "overflow_x": null,
            "grid_auto_flow": null,
            "grid_area": null,
            "grid_template_columns": null,
            "flex": null,
            "_model_name": "LayoutModel",
            "justify_items": null,
            "grid_row": null,
            "max_height": null,
            "align_content": null,
            "visibility": null,
            "align_self": null,
            "height": null,
            "min_height": null,
            "padding": null,
            "grid_auto_rows": null,
            "grid_gap": null,
            "max_width": null,
            "order": null,
            "_view_module_version": "1.2.0",
            "grid_template_areas": null,
            "object_position": null,
            "object_fit": null,
            "grid_auto_columns": null,
            "margin": null,
            "display": null,
            "left": null
          }
        },
        "ae8483f417d442cfa02e73314dcad5d1": {
          "model_module": "@jupyter-widgets/controls",
          "model_name": "HBoxModel",
          "model_module_version": "1.5.0",
          "state": {
            "_view_name": "HBoxView",
            "_dom_classes": [],
            "_model_name": "HBoxModel",
            "_view_module": "@jupyter-widgets/controls",
            "_model_module_version": "1.5.0",
            "_view_count": null,
            "_view_module_version": "1.5.0",
            "box_style": "",
            "layout": "IPY_MODEL_81327113f22c4235919c106bd9cfc335",
            "_model_module": "@jupyter-widgets/controls",
            "children": [
              "IPY_MODEL_df76a6d492da44038c93e7d6742a6edd",
              "IPY_MODEL_049786faff324e45b5eabd4184b80c3e",
              "IPY_MODEL_9ee081bb305449d0b823f2b603b0129f"
            ]
          }
        },
        "81327113f22c4235919c106bd9cfc335": {
          "model_module": "@jupyter-widgets/base",
          "model_name": "LayoutModel",
          "model_module_version": "1.2.0",
          "state": {
            "_view_name": "LayoutView",
            "grid_template_rows": null,
            "right": null,
            "justify_content": null,
            "_view_module": "@jupyter-widgets/base",
            "overflow": null,
            "_model_module_version": "1.2.0",
            "_view_count": null,
            "flex_flow": null,
            "width": null,
            "min_width": null,
            "border": null,
            "align_items": null,
            "bottom": null,
            "_model_module": "@jupyter-widgets/base",
            "top": null,
            "grid_column": null,
            "overflow_y": null,
            "overflow_x": null,
            "grid_auto_flow": null,
            "grid_area": null,
            "grid_template_columns": null,
            "flex": null,
            "_model_name": "LayoutModel",
            "justify_items": null,
            "grid_row": null,
            "max_height": null,
            "align_content": null,
            "visibility": null,
            "align_self": null,
            "height": null,
            "min_height": null,
            "padding": null,
            "grid_auto_rows": null,
            "grid_gap": null,
            "max_width": null,
            "order": null,
            "_view_module_version": "1.2.0",
            "grid_template_areas": null,
            "object_position": null,
            "object_fit": null,
            "grid_auto_columns": null,
            "margin": null,
            "display": null,
            "left": null
          }
        },
        "df76a6d492da44038c93e7d6742a6edd": {
          "model_module": "@jupyter-widgets/controls",
          "model_name": "HTMLModel",
          "model_module_version": "1.5.0",
          "state": {
            "_view_name": "HTMLView",
            "style": "IPY_MODEL_dc3b8f8a9ed34cd981019ac606613b6f",
            "_dom_classes": [],
            "description": "",
            "_model_name": "HTMLModel",
            "placeholder": "​",
            "_view_module": "@jupyter-widgets/controls",
            "_model_module_version": "1.5.0",
            "value": "",
            "_view_count": null,
            "_view_module_version": "1.5.0",
            "description_tooltip": null,
            "_model_module": "@jupyter-widgets/controls",
            "layout": "IPY_MODEL_a859cef1f2e448db964b3f0c8163b6c7"
          }
        },
        "049786faff324e45b5eabd4184b80c3e": {
          "model_module": "@jupyter-widgets/controls",
          "model_name": "FloatProgressModel",
          "model_module_version": "1.5.0",
          "state": {
            "_view_name": "ProgressView",
            "style": "IPY_MODEL_b7b828a416894bb281d382b6b4b07d9b",
            "_dom_classes": [],
            "description": "",
            "_model_name": "FloatProgressModel",
            "bar_style": "info",
            "max": 1,
            "_view_module": "@jupyter-widgets/controls",
            "_model_module_version": "1.5.0",
            "value": 1,
            "_view_count": null,
            "_view_module_version": "1.5.0",
            "orientation": "horizontal",
            "min": 0,
            "description_tooltip": null,
            "_model_module": "@jupyter-widgets/controls",
            "layout": "IPY_MODEL_6990bc73bd9a41bd8462b3c14d93a153"
          }
        },
        "9ee081bb305449d0b823f2b603b0129f": {
          "model_module": "@jupyter-widgets/controls",
          "model_name": "HTMLModel",
          "model_module_version": "1.5.0",
          "state": {
            "_view_name": "HTMLView",
            "style": "IPY_MODEL_ad5dc85e539d4009b21d779dfdd8f456",
            "_dom_classes": [],
            "description": "",
            "_model_name": "HTMLModel",
            "placeholder": "​",
            "_view_module": "@jupyter-widgets/controls",
            "_model_module_version": "1.5.0",
            "value": " 1089/0 [00:00&lt;00:00, 10888.45 examples/s]",
            "_view_count": null,
            "_view_module_version": "1.5.0",
            "description_tooltip": null,
            "_model_module": "@jupyter-widgets/controls",
            "layout": "IPY_MODEL_1ddd128c66644390a5b2b57c7b837191"
          }
        },
        "dc3b8f8a9ed34cd981019ac606613b6f": {
          "model_module": "@jupyter-widgets/controls",
          "model_name": "DescriptionStyleModel",
          "model_module_version": "1.5.0",
          "state": {
            "_view_name": "StyleView",
            "_model_name": "DescriptionStyleModel",
            "description_width": "",
            "_view_module": "@jupyter-widgets/base",
            "_model_module_version": "1.5.0",
            "_view_count": null,
            "_view_module_version": "1.2.0",
            "_model_module": "@jupyter-widgets/controls"
          }
        },
        "a859cef1f2e448db964b3f0c8163b6c7": {
          "model_module": "@jupyter-widgets/base",
          "model_name": "LayoutModel",
          "model_module_version": "1.2.0",
          "state": {
            "_view_name": "LayoutView",
            "grid_template_rows": null,
            "right": null,
            "justify_content": null,
            "_view_module": "@jupyter-widgets/base",
            "overflow": null,
            "_model_module_version": "1.2.0",
            "_view_count": null,
            "flex_flow": null,
            "width": null,
            "min_width": null,
            "border": null,
            "align_items": null,
            "bottom": null,
            "_model_module": "@jupyter-widgets/base",
            "top": null,
            "grid_column": null,
            "overflow_y": null,
            "overflow_x": null,
            "grid_auto_flow": null,
            "grid_area": null,
            "grid_template_columns": null,
            "flex": null,
            "_model_name": "LayoutModel",
            "justify_items": null,
            "grid_row": null,
            "max_height": null,
            "align_content": null,
            "visibility": null,
            "align_self": null,
            "height": null,
            "min_height": null,
            "padding": null,
            "grid_auto_rows": null,
            "grid_gap": null,
            "max_width": null,
            "order": null,
            "_view_module_version": "1.2.0",
            "grid_template_areas": null,
            "object_position": null,
            "object_fit": null,
            "grid_auto_columns": null,
            "margin": null,
            "display": null,
            "left": null
          }
        },
        "b7b828a416894bb281d382b6b4b07d9b": {
          "model_module": "@jupyter-widgets/controls",
          "model_name": "ProgressStyleModel",
          "model_module_version": "1.5.0",
          "state": {
            "_view_name": "StyleView",
            "_model_name": "ProgressStyleModel",
            "description_width": "",
            "_view_module": "@jupyter-widgets/base",
            "_model_module_version": "1.5.0",
            "_view_count": null,
            "_view_module_version": "1.2.0",
            "bar_color": null,
            "_model_module": "@jupyter-widgets/controls"
          }
        },
        "6990bc73bd9a41bd8462b3c14d93a153": {
          "model_module": "@jupyter-widgets/base",
          "model_name": "LayoutModel",
          "model_module_version": "1.2.0",
          "state": {
            "_view_name": "LayoutView",
            "grid_template_rows": null,
            "right": null,
            "justify_content": null,
            "_view_module": "@jupyter-widgets/base",
            "overflow": null,
            "_model_module_version": "1.2.0",
            "_view_count": null,
            "flex_flow": null,
            "width": "20px",
            "min_width": null,
            "border": null,
            "align_items": null,
            "bottom": null,
            "_model_module": "@jupyter-widgets/base",
            "top": null,
            "grid_column": null,
            "overflow_y": null,
            "overflow_x": null,
            "grid_auto_flow": null,
            "grid_area": null,
            "grid_template_columns": null,
            "flex": null,
            "_model_name": "LayoutModel",
            "justify_items": null,
            "grid_row": null,
            "max_height": null,
            "align_content": null,
            "visibility": null,
            "align_self": null,
            "height": null,
            "min_height": null,
            "padding": null,
            "grid_auto_rows": null,
            "grid_gap": null,
            "max_width": null,
            "order": null,
            "_view_module_version": "1.2.0",
            "grid_template_areas": null,
            "object_position": null,
            "object_fit": null,
            "grid_auto_columns": null,
            "margin": null,
            "display": null,
            "left": null
          }
        },
        "ad5dc85e539d4009b21d779dfdd8f456": {
          "model_module": "@jupyter-widgets/controls",
          "model_name": "DescriptionStyleModel",
          "model_module_version": "1.5.0",
          "state": {
            "_view_name": "StyleView",
            "_model_name": "DescriptionStyleModel",
            "description_width": "",
            "_view_module": "@jupyter-widgets/base",
            "_model_module_version": "1.5.0",
            "_view_count": null,
            "_view_module_version": "1.2.0",
            "_model_module": "@jupyter-widgets/controls"
          }
        },
        "1ddd128c66644390a5b2b57c7b837191": {
          "model_module": "@jupyter-widgets/base",
          "model_name": "LayoutModel",
          "model_module_version": "1.2.0",
          "state": {
            "_view_name": "LayoutView",
            "grid_template_rows": null,
            "right": null,
            "justify_content": null,
            "_view_module": "@jupyter-widgets/base",
            "overflow": null,
            "_model_module_version": "1.2.0",
            "_view_count": null,
            "flex_flow": null,
            "width": null,
            "min_width": null,
            "border": null,
            "align_items": null,
            "bottom": null,
            "_model_module": "@jupyter-widgets/base",
            "top": null,
            "grid_column": null,
            "overflow_y": null,
            "overflow_x": null,
            "grid_auto_flow": null,
            "grid_area": null,
            "grid_template_columns": null,
            "flex": null,
            "_model_name": "LayoutModel",
            "justify_items": null,
            "grid_row": null,
            "max_height": null,
            "align_content": null,
            "visibility": null,
            "align_self": null,
            "height": null,
            "min_height": null,
            "padding": null,
            "grid_auto_rows": null,
            "grid_gap": null,
            "max_width": null,
            "order": null,
            "_view_module_version": "1.2.0",
            "grid_template_areas": null,
            "object_position": null,
            "object_fit": null,
            "grid_auto_columns": null,
            "margin": null,
            "display": null,
            "left": null
          }
        }
      }
    }
  },
  "nbformat": 4,
  "nbformat_minor": 5
}